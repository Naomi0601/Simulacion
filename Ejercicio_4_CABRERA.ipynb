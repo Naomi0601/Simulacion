{
  "nbformat": 4,
  "nbformat_minor": 0,
  "metadata": {
    "colab": {
      "provenance": []
    },
    "kernelspec": {
      "name": "python3",
      "display_name": "Python 3"
    },
    "language_info": {
      "name": "python"
    }
  },
  "cells": [
    {
      "cell_type": "markdown",
      "source": [
        "### ***EJERCICIO 4*** **CABRERA HERNANDEZ NAOMI ITZEL**"
      ],
      "metadata": {
        "id": "-g8bP5wrQKqr"
      }
    },
    {
      "cell_type": "markdown",
      "source": [
        "**El número de accidentes que se producen en una vía de circulación de una ciudad es, en promedio, de dos a la semana. Determínese:** \n",
        "\n",
        "**a) Probabilidad de que no se registre ningún accidente en una semana determinada. \\\n",
        "b) Probabilidad de que en un mes haya más de 5 accidentes.** \n"
      ],
      "metadata": {
        "id": "OtzF3fY7XK-Z"
      }
    },
    {
      "cell_type": "markdown",
      "source": [
        "**Analiticamente**"
      ],
      "metadata": {
        "id": "eKY-YeyvW5Us"
      }
    },
    {
      "cell_type": "markdown",
      "source": [
        "*a)Probabilidad de que no se registre ningún accidente en una semana determinada.*\n",
        "\n",
        "Poisson de parametro $\\lambda$ = 2\n",
        "\n",
        "$p(X=0)$=$\\frac{e^{-2}*2^0}{0!}$ = 0.13533 = 13.533%"
      ],
      "metadata": {
        "id": "0z_Ail58fRJF"
      }
    },
    {
      "cell_type": "markdown",
      "source": [
        "*b)Probabilidad de que en un mes haya más de 5 accidentes.*\n",
        "\n",
        "Como son 2 accidentes a la semana en un mes serian 8 accidentes\n",
        "\n",
        "Poisson de parametro $\\lambda$ = 8\n",
        "\n",
        "$p(X>5)=1-p(X\\leq 5)$\n",
        "\n",
        "1-[$p(X=0)+p(X=1)+p(X=2)+p(X=3)+p(X=4)+p(X=5)$]=\n",
        "\n",
        "1-$\\frac{e^{-8}*8^0}{0!}$-$\\frac{e^{-8}*8^1}{1!}$-$\\frac{e^{-8}*8^2}{2!}$-$\\frac{e^{-8}*8^3}{3!}$-$\\frac{e^{-8}*8^4}{4!}$-$\\frac{e^{-8}*8^5}{5!}$ = 0.80875 = 80.875%"
      ],
      "metadata": {
        "id": "i3POdA_qaTSm"
      }
    },
    {
      "cell_type": "markdown",
      "source": [
        "**Por simulacion: Construimos el modelo en varios pasos**"
      ],
      "metadata": {
        "id": "DxIblWCpW8WW"
      }
    },
    {
      "cell_type": "markdown",
      "source": [
        "*a)Probabilidad de que no se registre ningún accidente en una semana determinada.*"
      ],
      "metadata": {
        "id": "HmkvXOY54m2P"
      }
    },
    {
      "cell_type": "markdown",
      "source": [
        "### 1. Identifique las variables \n",
        "\n",
        "Tenemos una: $x_1$ ."
      ],
      "metadata": {
        "id": "cVstzZfp5pv0"
      }
    },
    {
      "cell_type": "markdown",
      "source": [
        "### 2 y 3. Determine la distribución de probabilidad y modele las variables aleatorias \n",
        "\n",
        "En el planteamiento ya se especifica que $x_1 \\sim PS(2)$."
      ],
      "metadata": {
        "id": "E6RFdW1V5vWA"
      }
    },
    {
      "cell_type": "markdown",
      "source": [
        "### 4 y5 Defina el modelo del sistema y los objetivos de la simulación. Diseñe el experimento "
      ],
      "metadata": {
        "id": "RBm0LSsV7RJ9"
      }
    },
    {
      "cell_type": "code",
      "source": [
        "import numpy as np\n",
        "import random\n",
        "from scipy.stats import poisson\n"
      ],
      "metadata": {
        "id": "WKMhmZWa_zn1"
      },
      "execution_count": null,
      "outputs": []
    },
    {
      "cell_type": "code",
      "source": [
        "k=0\n",
        "mu=2\n",
        "poi=poisson.pmf(k,mu)\n"
      ],
      "metadata": {
        "id": "ZV42Qje6VOdD"
      },
      "execution_count": null,
      "outputs": []
    },
    {
      "cell_type": "code",
      "source": [
        "poi"
      ],
      "metadata": {
        "colab": {
          "base_uri": "https://localhost:8080/"
        },
        "id": "WTUYGOCI7al1",
        "outputId": "184d24fa-63a1-421c-9888-7de6f50dfde8"
      },
      "execution_count": null,
      "outputs": [
        {
          "output_type": "execute_result",
          "data": {
            "text/plain": [
              "0.1353352832366127"
            ]
          },
          "metadata": {},
          "execution_count": 15
        }
      ]
    },
    {
      "cell_type": "code",
      "source": [
        "print(\"La probabilidad es de:\",poi*100,\"%\")"
      ],
      "metadata": {
        "colab": {
          "base_uri": "https://localhost:8080/"
        },
        "id": "3n75GJTO5phr",
        "outputId": "658d2eb9-1f4e-4c40-b0d7-5c6a5798f407"
      },
      "execution_count": null,
      "outputs": [
        {
          "output_type": "stream",
          "name": "stdout",
          "text": [
            "La probabilidad es de: 13.53352832366127 %\n"
          ]
        }
      ]
    },
    {
      "cell_type": "markdown",
      "source": [
        "*b) Probabilidad de que en un mes haya más de 5 accidentes.*"
      ],
      "metadata": {
        "id": "a5zAbwYS2UPV"
      }
    },
    {
      "cell_type": "markdown",
      "source": [
        "### 1. Identifique las variables \n",
        "\n",
        "Tenemos una: $x_1$ ."
      ],
      "metadata": {
        "id": "Jx2p7BB72a58"
      }
    },
    {
      "cell_type": "markdown",
      "source": [
        "### 2 y 3. Determine la distribución de probabilidad y modele las variables aleatorias \n",
        "\n",
        "En el planteamiento ya se especifica que $x_1 \\sim PS(8)$."
      ],
      "metadata": {
        "id": "8DsqyfGl2fVq"
      }
    },
    {
      "cell_type": "markdown",
      "source": [
        "### 4 y5 Defina el modelo del sistema y los objetivos de la simulación. Diseñe el experimento \n"
      ],
      "metadata": {
        "id": "GgMkq6Kv2m3t"
      }
    },
    {
      "cell_type": "code",
      "source": [
        "import numpy as np\n",
        "import random\n",
        "from scipy.stats import poisson\n"
      ],
      "metadata": {
        "id": "_QT1F5ht2mhb"
      },
      "execution_count": null,
      "outputs": []
    },
    {
      "cell_type": "code",
      "source": [
        "k=5\n",
        "mu=8\n",
        "poi1=poisson.sf(k,mu)"
      ],
      "metadata": {
        "id": "kU3Xbhi84mLP"
      },
      "execution_count": null,
      "outputs": []
    },
    {
      "cell_type": "code",
      "source": [
        "poi1"
      ],
      "metadata": {
        "colab": {
          "base_uri": "https://localhost:8080/"
        },
        "id": "ozDLbcMF2_Tb",
        "outputId": "abfbb5c0-f39c-48c3-d5cc-dbdf115611b1"
      },
      "execution_count": null,
      "outputs": [
        {
          "output_type": "execute_result",
          "data": {
            "text/plain": [
              "0.8087639379203747"
            ]
          },
          "metadata": {},
          "execution_count": 22
        }
      ]
    },
    {
      "cell_type": "code",
      "source": [
        "print(\"La probabilidad es de:\",poi1*100,\"%\")"
      ],
      "metadata": {
        "colab": {
          "base_uri": "https://localhost:8080/"
        },
        "id": "uZPjKPR63JeX",
        "outputId": "0a730d85-14e7-46b2-975c-292204233e7a"
      },
      "execution_count": null,
      "outputs": [
        {
          "output_type": "stream",
          "name": "stdout",
          "text": [
            "La probabilidad es de: 80.87639379203748 %\n"
          ]
        }
      ]
    }
  ]
}