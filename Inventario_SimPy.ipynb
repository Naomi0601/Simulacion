{
  "nbformat": 4,
  "nbformat_minor": 0,
  "metadata": {
    "colab": {
      "provenance": [],
      "authorship_tag": "ABX9TyMyEPjPVZ0P1//3XTq+mbOt",
      "include_colab_link": true
    },
    "kernelspec": {
      "name": "python3",
      "display_name": "Python 3"
    },
    "language_info": {
      "name": "python"
    }
  },
  "cells": [
    {
      "cell_type": "markdown",
      "metadata": {
        "id": "view-in-github",
        "colab_type": "text"
      },
      "source": [
        "<a href=\"https://colab.research.google.com/github/Naomi0601/Simulacion/blob/main/Inventario_SimPy.ipynb\" target=\"_parent\"><img src=\"https://colab.research.google.com/assets/colab-badge.svg\" alt=\"Open In Colab\"/></a>"
      ]
    },
    {
      "cell_type": "code",
      "execution_count": null,
      "metadata": {
        "colab": {
          "base_uri": "https://localhost:8080/"
        },
        "id": "7RrNhQH6nv6W",
        "outputId": "a38903a5-d306-4793-e749-39515fbd13aa"
      },
      "outputs": [
        {
          "output_type": "stream",
          "name": "stdout",
          "text": [
            "Looking in indexes: https://pypi.org/simple, https://us-python.pkg.dev/colab-wheels/public/simple/\n",
            "Collecting simpy\n",
            "  Downloading simpy-4.0.1-py2.py3-none-any.whl (29 kB)\n",
            "Installing collected packages: simpy\n",
            "Successfully installed simpy-4.0.1\n"
          ]
        }
      ],
      "source": [
        "!pip install simpy  #mandar a llamar la libreria simpy\n",
        "import simpy\n",
        "import numpy as np"
      ]
    },
    {
      "cell_type": "code",
      "source": [
        "def warehouse_run(env, order_cutoff, order_target): #Clase env:es un objeto que se simulara, order_cutff:Valor numerico para realizar inventario, order_tarjet: valor numerico cantidades\n",
        "  global inventory, balance, num_ordered\n",
        "\n",
        "  inventory= order_target\n",
        "  balance=0.0\n",
        "  num_ordered=0\n",
        "\n",
        "  while True:\n",
        "    interarrival = generate_interarrival()\n",
        "    yield env.timeout(interarrival) #funcion eneradora de valores de manera eficiente\n",
        "    balance -= inventory*2*interarrival\n",
        "    demand = generate_demand()\n",
        "    if demand < inventory:\n",
        "      balance += 100*demand\n",
        "      inventory -= demand\n",
        "      print('{:.2f} sold {}'.format(env.now, demand)) #imprimir en formato de cadena\n",
        "    else:\n",
        "      balance += 100*inventory\n",
        "      inventory = 0\n",
        "      print('{:.2f} sold {} (out of stock)'.format(env.now, inventory))\n",
        "    if inventory < order_cutoff and num_ordered == 0:\n",
        "      env.process(handle_order(env, order_target))\n"
      ],
      "metadata": {
        "id": "UJ4pzl04oNmv"
      },
      "execution_count": null,
      "outputs": []
    },
    {
      "cell_type": "code",
      "source": [
        "def handle_order(env, order_target):\n",
        "  global inventory, balance, num_ordered\n",
        "\n",
        "\n",
        "  num_ordered = order_target - inventory\n",
        "  print('{:.2f} placed order for {}'.format(env.now, num_ordered))\n",
        "  balance -= 50*num_ordered\n",
        "  yield env.timeout(2.0)\n",
        "  inventory += num_ordered\n",
        "  num_ordered=0\n",
        "  print('{:.2f} received order, {} in inventory'.format(env.now, inventory))"
      ],
      "metadata": {
        "id": "umX8CwlVuuI6"
      },
      "execution_count": null,
      "outputs": []
    },
    {
      "cell_type": "code",
      "source": [
        "def generate_interarrival(): #devuelve un valor generado aleatorios\n",
        "  return np.random.exponential(1./5) #genera numeros aleatorios con distribucion exponencial"
      ],
      "metadata": {
        "id": "4JtAuZxtpyP5"
      },
      "execution_count": null,
      "outputs": []
    },
    {
      "cell_type": "code",
      "source": [
        "def generate_demand(): #devuelve numeros entero aleatorio\n",
        "  return np.random.randint(1,5) #genera numeros aleatorios en el rango de 1 a 4"
      ],
      "metadata": {
        "id": "FjecCl4YskVw"
      },
      "execution_count": null,
      "outputs": []
    },
    {
      "cell_type": "code",
      "source": [
        "obs_time=[] #definir listas\n",
        "inventory_level=[]"
      ],
      "metadata": {
        "id": "eA_j04TuskGj"
      },
      "execution_count": null,
      "outputs": []
    },
    {
      "cell_type": "code",
      "source": [
        "def observe(env): #realizar observaiones periodicamente\n",
        "  global inventory #indica las variables\n",
        "\n",
        "  while True:\n",
        "    obs_time.append(env.now)\n",
        "    inventory_level.append(inventory)\n",
        "    yield env.timeout(0.1) # pausa la ejecucion de la funcion generadora y devuelve el control al entorno simulado"
      ],
      "metadata": {
        "id": "r8xhD17FsueN"
      },
      "execution_count": null,
      "outputs": []
    },
    {
      "cell_type": "code",
      "source": [
        "np.random.seed(1) #numeros aleatorios\n",
        "\n",
        "env = simpy.Environment() #crea un objeto\n",
        "env.process(warehouse_run(env, 25, 50)) #se crea un proceso en el entorno de lo simulado\n",
        "env.process(observe(env))\n",
        "\n",
        "env.run(until=5.0) #se inicia la ejecucion hast el alcance 5"
      ],
      "metadata": {
        "colab": {
          "base_uri": "https://localhost:8080/"
        },
        "id": "SBarj67AsuQe",
        "outputId": "2d9ead6b-90ab-4fcf-ac70-91ac0839486c"
      },
      "execution_count": null,
      "outputs": [
        {
          "output_type": "stream",
          "name": "stdout",
          "text": [
            "0.11 sold 1\n",
            "0.65 sold 2\n",
            "0.72 sold 4\n",
            "0.77 sold 2\n",
            "0.81 sold 2\n",
            "1.04 sold 2\n",
            "1.19 sold 3\n",
            "1.27 sold 1\n",
            "1.31 sold 3\n",
            "1.36 sold 3\n",
            "1.59 sold 4\n",
            "1.59 placed order for 27\n",
            "1.71 sold 2\n",
            "1.74 sold 1\n",
            "2.04 sold 2\n",
            "2.73 sold 4\n",
            "2.75 sold 2\n",
            "3.17 sold 1\n",
            "3.52 sold 1\n",
            "3.53 sold 4\n",
            "3.54 sold 1\n",
            "3.56 sold 4\n",
            "3.59 received order, 28 in inventory\n",
            "3.78 sold 2\n",
            "3.94 sold 1\n",
            "4.00 sold 4\n",
            "4.00 placed order for 29\n",
            "4.24 sold 1\n",
            "4.34 sold 4\n",
            "4.62 sold 4\n",
            "4.84 sold 2\n",
            "4.90 sold 4\n",
            "4.95 sold 2\n"
          ]
        }
      ]
    },
    {
      "cell_type": "code",
      "source": [
        "import matplotlib.pyplot as plt\n",
        "plt.figure() #crea una figura de grafica vacia\n",
        "plt.step(obs_time, inventory_level, where='post') #trazala grafica de lineas con los parametros\n",
        "plt.xlabel('Simulation time (days)') #un titulo en el eje de x\n",
        "plt.ylabel('Simulation level') #titulo en el eje de las y"
      ],
      "metadata": {
        "id": "DJmYM1_8useQ",
        "colab": {
          "base_uri": "https://localhost:8080/",
          "height": 466
        },
        "outputId": "baa70bea-8948-4f2a-b4fb-ed9f81ff50ee"
      },
      "execution_count": null,
      "outputs": [
        {
          "output_type": "execute_result",
          "data": {
            "text/plain": [
              "Text(0, 0.5, 'Simulation level')"
            ]
          },
          "metadata": {},
          "execution_count": 9
        },
        {
          "output_type": "display_data",
          "data": {
            "text/plain": [
              "<Figure size 640x480 with 1 Axes>"
            ],
            "image/png": "[encoded data removed]"
          },
          "metadata": {}
        }
      ]
    }
  ]
}