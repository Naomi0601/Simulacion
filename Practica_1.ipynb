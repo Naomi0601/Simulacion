{
  "nbformat": 4,
  "nbformat_minor": 0,
  "metadata": {
    "colab": {
      "provenance": [],
      "authorship_tag": "ABX9TyOesxBLdPtWdQi62Am3en/h",
      "include_colab_link": true
    },
    "kernelspec": {
      "name": "python3",
      "display_name": "Python 3"
    },
    "language_info": {
      "name": "python"
    }
  },
  "cells": [
    {
      "cell_type": "markdown",
      "metadata": {
        "id": "view-in-github",
        "colab_type": "text"
      },
      "source": [
        "<a href=\"https://colab.research.google.com/github/Naomi0601/Simulacion/blob/main/Practica_1.ipynb\" target=\"_parent\"><img src=\"https://colab.research.google.com/assets/colab-badge.svg\" alt=\"Open In Colab\"/></a>"
      ]
    },
    {
      "cell_type": "markdown",
      "source": [
        "### **PRUEBAS**"
      ],
      "metadata": {
        "id": "iGIs4BEm4E7C"
      }
    },
    {
      "cell_type": "code",
      "execution_count": 60,
      "metadata": {
        "id": "faamCRYLHoNC"
      },
      "outputs": [],
      "source": [
        "import math\n",
        "from scipy.stats import norm\n",
        "from scipy.stats import chi2\n",
        "import os, sys"
      ]
    },
    {
      "cell_type": "markdown",
      "source": [
        "## **Datos y Nivel de confianza**"
      ],
      "metadata": {
        "id": "vVmdNnqLRWmc"
      }
    },
    {
      "cell_type": "code",
      "source": [
        "datos =0.0318,0.0856,0.0954,0.1492,0.1525,0.1592,0.2006,0.2088,0.2204,0.2258,0.2415,0.3188,0.3254,0.341,0.3469,0.3681,0.3808,0.3884,0.4272,0.4557,0.4603,0.472,0.5027,0.5291,0.5461,0.5613,0.5739,0.5844,0.5991,0.5992,0.5999,0.6235,0.6289,0.636,0.6431,0.7387,0.7401,0.7977,0.8147,0.8376,0.8536,0.8589,0.8681,0.875,0.8797,0.8846,0.917,0.9606,0.9848,0.9996\n",
        "Nivel_confianza=95"
      ],
      "metadata": {
        "id": "4T73px8nQU2L"
      },
      "execution_count": 54,
      "outputs": []
    },
    {
      "cell_type": "markdown",
      "source": [
        "## PRUEBA DE MEDIAS"
      ],
      "metadata": {
        "id": "v7--FwGpORxO"
      }
    },
    {
      "cell_type": "code",
      "source": [
        "def media(X):\n",
        "  return  sum(X)/len(X)\n",
        "def z(alpha):\n",
        "  alpha_limite = 1 - alpha + alpha/2\n",
        "  z= norm.ppf(alpha_limite, loc=0, scale=1)\n",
        "  return z\n",
        "  \n",
        "def limite_inferior_me(alpha,n):\n",
        "   return 0.5 - z(alpha) *(1/math.sqrt(12*n))\n",
        "def limite_superior_me(alpha,n):\n",
        "   return 0.5 + z(alpha) *(1/math.sqrt(12*n))\n",
        "def prueba_media(alpha,X):\n",
        "  me_x = media(X)\n",
        "  li_me = limite_inferior_me(alpha, len(X))\n",
        "  print(f\"Limite inferior de la media: {li_me} \")\n",
        "  ls_me = limite_superior_me(alpha, len(X))\n",
        "  print(f\"Limite superior de la media: {ls_me} \")\n",
        "  if li_me <= me_x <= ls_me:\n",
        "    print(f\"El valor de la media = {me_x} \")\n",
        "    print(f\"Se encuentra en los limites de aceptación\")\n",
        "  else:\n",
        "    print(f\"El valor de la media = {me_x}\")\n",
        "    print(f\"No se encuentra en los limites de aceptación\")\n",
        "\n",
        "if __name__==\"__main__\":\n",
        "  X=datos\n",
        "  alpha= 1 - (Nivel_confianza/100)\n",
        "prueba_media(alpha,X)"
      ],
      "metadata": {
        "colab": {
          "base_uri": "https://localhost:8080/"
        },
        "id": "6o-PombGKKxt",
        "outputId": "ce4dc17a-47cf-4aae-ec41-a1d14416905c"
      },
      "execution_count": 55,
      "outputs": [
        {
          "output_type": "stream",
          "name": "stdout",
          "text": [
            "Limite inferior de la media: 0.4199848053940782 \n",
            "Limite superior de la media: 0.5800151946059219 \n",
            "El valor de la media = 0.5338659999999998 \n",
            "Se encuentra en los limites de aceptación\n"
          ]
        }
      ]
    },
    {
      "cell_type": "markdown",
      "source": [
        "## PRUEBA DE VARIANZA"
      ],
      "metadata": {
        "id": "GAhO9xPpONqO"
      }
    },
    {
      "cell_type": "code",
      "source": [
        "def varianza(X):\n",
        "  me=media(X)\n",
        "  acumulado=0\n",
        "  for x in X:\n",
        "     acumulado += (x-me)**2\n",
        "  return acumulado / (len(X)-1)\n",
        "\n",
        "def limite_inferior_varianza(alpha, n):\n",
        "  chi_cuadrada=chi2.ppf(alpha/2, n-1)\n",
        "  return chi_cuadrada/(12*(n-1))\n",
        "\n",
        "def limite_superior_varianza(alpha, n):\n",
        "  chi_cuadrada=chi2.ppf(1-(alpha/2), n-1)\n",
        "  return chi_cuadrada/(12*(n-1))\n",
        "\n",
        "def prueba_varianza(alpha,X):\n",
        "  var_x=varianza(X)\n",
        "  li_varianza=limite_inferior_varianza(alpha, len(X))\n",
        "  print(f\"Limite inferior de la varianza: {li_varianza} \")\n",
        "  ls_varianza=limite_superior_varianza(alpha, len(X))\n",
        "  print(f\"Limite superior de la varianza: {ls_varianza} \")\n",
        "  if li_varianza <= var_x <= ls_varianza:\n",
        "    print(f\"El valor de la varianza = {var_x} \")\n",
        "    print(f\"Se encuentra en los limites de aceptación\")\n",
        "  else:\n",
        "    print(f\"El valor de la varianza = {var_x}\")\n",
        "    print(f\"No se encuentra en los limites de aceptación\")\n",
        "\n",
        "\n",
        "prueba_varianza(alpha,X)"
      ],
      "metadata": {
        "colab": {
          "base_uri": "https://localhost:8080/"
        },
        "id": "ioOUUDBKSDrV",
        "outputId": "8ac95f2a-d493-44b5-c4da-eaf3d67f2a5f"
      },
      "execution_count": 56,
      "outputs": [
        {
          "output_type": "stream",
          "name": "stdout",
          "text": [
            "Limite inferior de la varianza: 0.05366482391610057 \n",
            "Limite superior de la varianza: 0.1194258734123036 \n",
            "El valor de la varianza = 0.07441615943265305 \n",
            "Se encuentra en los limites de aceptación\n"
          ]
        }
      ]
    },
    {
      "cell_type": "markdown",
      "source": [
        "## PRUEBA DE CORRIDAS"
      ],
      "metadata": {
        "id": "Q4lHXd1_OQU4"
      }
    },
    {
      "cell_type": "code",
      "source": [],
      "metadata": {
        "id": "gRyDTxo34ND2"
      },
      "execution_count": null,
      "outputs": []
    },
    {
      "cell_type": "markdown",
      "source": [
        "## PRUEBA JI-CUADRADA"
      ],
      "metadata": {
        "id": "fYbWUSsNqkeR"
      }
    },
    {
      "cell_type": "code",
      "source": [],
      "metadata": {
        "id": "eE7UYKB24N0m"
      },
      "execution_count": null,
      "outputs": []
    },
    {
      "cell_type": "markdown",
      "source": [
        "## PRUEBA KOLMOGOROV-SMIRNOV"
      ],
      "metadata": {
        "id": "g1QHze4aqkvK"
      }
    },
    {
      "cell_type": "markdown",
      "source": [],
      "metadata": {
        "id": "YLg9lnVR4RdJ"
      }
    },
    {
      "cell_type": "code",
      "source": [],
      "metadata": {
        "id": "Zw-m6mPZP4rO"
      },
      "execution_count": null,
      "outputs": []
    }
  ]
}