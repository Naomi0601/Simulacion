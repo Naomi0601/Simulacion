{
  "nbformat": 4,
  "nbformat_minor": 0,
  "metadata": {
    "colab": {
      "provenance": [],
      "authorship_tag": "ABX9TyM9hIWiNFnOYtvFwD0oZ8tz",
      "include_colab_link": true
    },
    "kernelspec": {
      "name": "python3",
      "display_name": "Python 3"
    },
    "language_info": {
      "name": "python"
    }
  },
  "cells": [
    {
      "cell_type": "markdown",
      "metadata": {
        "id": "view-in-github",
        "colab_type": "text"
      },
      "source": [
        "<a href=\"https://colab.research.google.com/github/Naomi0601/Simulacion/blob/main/Practica_1.ipynb\" target=\"_parent\"><img src=\"https://colab.research.google.com/assets/colab-badge.svg\" alt=\"Open In Colab\"/></a>"
      ]
    },
    {
      "cell_type": "markdown",
      "source": [
        "### **PRUEBAS**"
      ],
      "metadata": {
        "id": "iGIs4BEm4E7C"
      }
    },
    {
      "cell_type": "code",
      "execution_count": 60,
      "metadata": {
        "id": "faamCRYLHoNC"
      },
      "outputs": [],
      "source": [
        "import math\n",
        "from scipy.stats import norm\n",
        "from scipy.stats import chi2\n",
        "import os, sys"
      ]
    },
    {
      "cell_type": "markdown",
      "source": [
        "## **Datos y Nivel de confianza**"
      ],
      "metadata": {
        "id": "vVmdNnqLRWmc"
      }
    },
    {
      "cell_type": "code",
      "source": [
        "datos =0.0318,0.0856,0.0954,0.8846,0.917,0.9606,0.9848,0.9996,0.1492,0.1525,0.1592,0.2006,0.2088,0.2204,0.2258,0.2415,0.3188,0.3254,0.341,0.3469,0.3681,0.3808,0.3884,0.4272,0.4557,0.4603,0.472,0.5027,0.5291,0.7401,0.7977,0.8147,0.8376,0.8536,0.8589,0.8681,0.875,0.8797,0.5461,0.5613,0.5739,0.5844,0.5991,0.5992,0.5999,0.6235,0.6289,0.636,0.6431,0.7387\n",
        "Nivel_confianza=95"
      ],
      "metadata": {
        "id": "4T73px8nQU2L"
      },
      "execution_count": 86,
      "outputs": []
    },
    {
      "cell_type": "markdown",
      "source": [
        "## PRUEBA DE MEDIAS"
      ],
      "metadata": {
        "id": "v7--FwGpORxO"
      }
    },
    {
      "cell_type": "code",
      "source": [
        "def media(X):\n",
        "  return  sum(X)/len(X)\n",
        "def z(alpha):\n",
        "  alpha_limite = 1 - alpha + alpha/2\n",
        "  z= norm.ppf(alpha_limite, loc=0, scale=1)\n",
        "  return z\n",
        "  \n",
        "def limite_inferior_me(alpha,n):\n",
        "   return 0.5 - z(alpha) *(1/math.sqrt(12*n))\n",
        "def limite_superior_me(alpha,n):\n",
        "   return 0.5 + z(alpha) *(1/math.sqrt(12*n))\n",
        "def prueba_media(alpha,X):\n",
        "  me_x = media(X)\n",
        "  li_me = limite_inferior_me(alpha, len(X))\n",
        "  print(f\"Limite inferior de la media: {li_me} \")\n",
        "  ls_me = limite_superior_me(alpha, len(X))\n",
        "  print(f\"Limite superior de la media: {ls_me} \")\n",
        "  if li_me <= me_x <= ls_me:\n",
        "    print(f\"El valor de la media = {me_x} \")\n",
        "    print(f\"Se encuentra en los limites de aceptación\")\n",
        "  else:\n",
        "    print(f\"El valor de la media = {me_x}\")\n",
        "    print(f\"No se encuentra en los limites de aceptación\")\n",
        "\n",
        "if __name__==\"__main__\":\n",
        "  X=datos\n",
        "  alpha= 1 - (Nivel_confianza/100)\n",
        "prueba_media(alpha,X)"
      ],
      "metadata": {
        "colab": {
          "base_uri": "https://localhost:8080/"
        },
        "id": "6o-PombGKKxt",
        "outputId": "4dbcb314-65fb-4491-f782-2ab507338a3c"
      },
      "execution_count": 87,
      "outputs": [
        {
          "output_type": "stream",
          "name": "stdout",
          "text": [
            "Limite inferior de la media: 0.4199848053940782 \n",
            "Limite superior de la media: 0.5800151946059219 \n",
            "El valor de la media = 0.5338660000000001 \n",
            "Se encuentra en los limites de aceptación\n"
          ]
        }
      ]
    },
    {
      "cell_type": "markdown",
      "source": [
        "## PRUEBA DE VARIANZA"
      ],
      "metadata": {
        "id": "GAhO9xPpONqO"
      }
    },
    {
      "cell_type": "code",
      "source": [
        "def varianza(X):\n",
        "  me=media(X)\n",
        "  acumulado=0\n",
        "  for x in X:\n",
        "     acumulado += (x-me)**2\n",
        "  return acumulado / (len(X)-1)\n",
        "\n",
        "def limite_inferior_varianza(alpha, n):\n",
        "  chi_cuadrada=chi2.ppf(alpha/2, n-1)\n",
        "  return chi_cuadrada/(12*(n-1))\n",
        "\n",
        "def limite_superior_varianza(alpha, n):\n",
        "  chi_cuadrada=chi2.ppf(1-(alpha/2), n-1)\n",
        "  return chi_cuadrada/(12*(n-1))\n",
        "\n",
        "def prueba_varianza(alpha,X):\n",
        "  var_x=varianza(X)\n",
        "  li_varianza=limite_inferior_varianza(alpha, len(X))\n",
        "  print(f\"Limite inferior de la varianza: {li_varianza} \")\n",
        "  ls_varianza=limite_superior_varianza(alpha, len(X))\n",
        "  print(f\"Limite superior de la varianza: {ls_varianza} \")\n",
        "  if li_varianza <= var_x <= ls_varianza:\n",
        "    print(f\"El valor de la varianza = {var_x} \")\n",
        "    print(f\"Se encuentra en los limites de aceptación\")\n",
        "  else:\n",
        "    print(f\"El valor de la varianza = {var_x}\")\n",
        "    print(f\"No se encuentra en los limites de aceptación\")\n",
        "\n",
        "\n",
        "prueba_varianza(alpha,X)"
      ],
      "metadata": {
        "colab": {
          "base_uri": "https://localhost:8080/"
        },
        "id": "ioOUUDBKSDrV",
        "outputId": "850de477-f686-4aec-eee2-6e81b9983227"
      },
      "execution_count": 88,
      "outputs": [
        {
          "output_type": "stream",
          "name": "stdout",
          "text": [
            "Limite inferior de la varianza: 0.05366482391610057 \n",
            "Limite superior de la varianza: 0.1194258734123036 \n",
            "El valor de la varianza = 0.07441615943265306 \n",
            "Se encuentra en los limites de aceptación\n"
          ]
        }
      ]
    },
    {
      "cell_type": "markdown",
      "source": [
        "## PRUEBA DE CORRIDAS"
      ],
      "metadata": {
        "id": "Q4lHXd1_OQU4"
      }
    },
    {
      "cell_type": "code",
      "source": [
        "def __init__(self, numeros):\n",
        "        self.numeros = numeros\n",
        "        self.n = self.numeros.__len__()\n",
        "        self.unos_y_ceros = list({})\n",
        "        self.numero_de_corridas = -1\n",
        "        self.start()\n",
        "\n",
        "def start(self):\n",
        "        for i in range(1,self.n): # del 1 al n-1( ya que comienza en cero\n",
        "            # Si el numero es menor o igual que el anterior se pone cero\n",
        "            if self.numeros[i] <= self.numeros[i-1]:\n",
        "                self.unos_y_ceros.append(0)\n",
        "            else: # Si no se pone 1\n",
        "                self.unos_y_ceros.append(1)\n",
        "\n",
        "            if i == 1: # Si ES el primer caso\n",
        "                self.numero_de_corridas = 1\n",
        "            else: # Si NO es el primer caso y el anterior es diferente al actual => +1 corrida\n",
        "                if self.unos_y_ceros[i-1] != self.unos_y_ceros[i-2]:\n",
        "                    self.numero_de_corridas += 1\n",
        "\n",
        "def __str__(self):\n",
        "        return \"Secuencia: %s\\nNumero de corridas: %s\"%( self.unos_y_ceros, self.numero_de_corridas)\n",
        "\n",
        "\n",
        "if __name__ == '__main__':\n",
        "  \n",
        "\n",
        "    numeros = X\n",
        "    cab = CorridasArribaAbajo(numeros)\n",
        "    print (cab)"
      ],
      "metadata": {
        "colab": {
          "base_uri": "https://localhost:8080/"
        },
        "id": "gRyDTxo34ND2",
        "outputId": "538f2c3b-202f-494b-da24-2dcafc98c120"
      },
      "execution_count": 93,
      "outputs": [
        {
          "output_type": "stream",
          "name": "stdout",
          "text": [
            "Secuencia: [1, 1, 1, 1, 1, 1, 1, 0, 1, 1, 1, 1, 1, 1, 1, 1, 1, 1, 1, 1, 1, 1, 1, 1, 1, 1, 1, 1, 1, 1, 1, 1, 1, 1, 1, 1, 1, 0, 1, 1, 1, 1, 1, 1, 1, 1, 1, 1, 1]\n",
            "Numero de corridas: 5\n"
          ]
        }
      ]
    },
    {
      "cell_type": "markdown",
      "source": [
        "## PRUEBA JI-CUADRADA"
      ],
      "metadata": {
        "id": "fYbWUSsNqkeR"
      }
    },
    {
      "cell_type": "code",
      "source": [
        "class  ChiCuadrado ( object ):\n",
        "  def __init__(self, valores):\n",
        "        self.valores = valores\n",
        "        self.n = valores.__len__()\n",
        "        self.m = math.sqrt(self.n)\n",
        "        self.rango_menor = list({})\n",
        "        self.rango_mayor = list({})\n",
        "        self.fo = list({})\n",
        "        self.cuadrados = list({})\n",
        "\n",
        "        self.sum_fo = 0\n",
        "        self.sum_cuadrados = 0\n",
        "\n",
        "        self.fe = int((self.n) / math.floor( math.sqrt(self.n)))\n",
        "\n",
        "  def start(self):\n",
        "        paso = round(1.0 / self.fe,2)\n",
        "        for i in range(self.fe):\n",
        "            if i == 0 :\n",
        "                self.rango_menor.append(0)\n",
        "            else:\n",
        "                self.rango_menor.append(self.rango_mayor[i-1])\n",
        "            self.rango_mayor.append( self.rango_menor[i] + paso )\n",
        "        self.rango_mayor[i] = 1.0 \n",
        "        self.iniciar_conteo()\n",
        "\n",
        "  def iniciar_conteo(self):\n",
        "        self.sum_fo = 0\n",
        "        self.sum_cuadrados = 0\n",
        "        for i in range(self.fe):\n",
        "            if i != (self.fe - 1):\n",
        "                self.fo.append( self.contar( self.rango_menor[i], self.rango_mayor[i], \">\" ) )\n",
        "            else:\n",
        "                self.fo.append( self.contar( self.rango_menor[i], self.rango_mayor[i], \"]\" ) )\n",
        "            self.cuadrados.append(math.pow(self.fe - self.fo[i],2)/self.fe)\n",
        "            self.sum_fo += self.fo[i]\n",
        "            self.sum_cuadrados += self.cuadrados[i]\n",
        "\n",
        "  def contar(self, rango_inferior, rango_superior, llave_derecha):\n",
        "        contador = 0\n",
        "        for i in range(self.n):\n",
        "            if llave_derecha == \">\":\n",
        "                if ( rango_inferior <= valores[i] ) and ( valores[i] < rango_superior ):\n",
        "                    contador += 1\n",
        "            elif llave_derecha == \"]\":\n",
        "                if ( rango_inferior <= valores[i] ) and ( valores[i] <= rango_superior ):\n",
        "                    contador += 1\n",
        "        return contador\n",
        "\n",
        "  def reporte(self):\n",
        "        str = ' {0:2s}| {1:14s}  |  {2:3s}|  {3:3s}|        |((FE-FO^2)/FE|'\n",
        "        print (str.format('i','rangos','FO','FE'))\n",
        "        for i in range(self.fe):\n",
        "            if i != (self.fe - 1 ) :\n",
        "                str = '{0:2d} | [ {1:1.2f} : {2:1.2f} > | {3:3d} | {4:3d} | {5:-6.2f}/{4:d} | {7:-3.2f}'\n",
        "            else :\n",
        "                str = '{0:2d} | [ {1:1.2f} : {2:1.2f} ] | {3:3d} | {4:3d} | {5:-6.2f}/{6:d} | {7:-3.2f}'\n",
        "            print (str.format(i+1,\n",
        "                                self.rango_menor[i],\n",
        "                                self.rango_mayor[i],\n",
        "                                self.fo[i],\n",
        "                                self.fe,\n",
        "                                math.pow(self.fo[i]-self.fe,2),self.fe,\n",
        "                                self.cuadrados[i]))\n",
        "        str = '{0:-26d} |{1:4d} | {2:-16.2f}'\n",
        "        print (str.format(self.sum_fo, int(self.m)*self.fe, self.sum_cuadrados))\n",
        "\n",
        "\n",
        "if __name__ == \"__main__\":\n",
        "    f =X\n",
        "    valores = f\n",
        "\n",
        "    test = ChiCuadrado(valores)\n",
        "    test.start()\n",
        "    \n",
        "    print (test.reporte())"
      ],
      "metadata": {
        "colab": {
          "base_uri": "https://localhost:8080/"
        },
        "id": "eE7UYKB24N0m",
        "outputId": "86b0b144-df6a-42b1-acc6-3de94e140486"
      },
      "execution_count": 117,
      "outputs": [
        {
          "output_type": "stream",
          "name": "stdout",
          "text": [
            " i | rangos          |  FO |  FE |        |((FE-FO^2)/FE|\n",
            " 1 | [ 0.00 : 0.14 > |   3 |   7 |  16.00/7 | 2.29\n",
            " 2 | [ 0.14 : 0.28 > |   8 |   7 |   1.00/7 | 0.14\n",
            " 3 | [ 0.28 : 0.42 > |   7 |   7 |   0.00/7 | 0.00\n",
            " 4 | [ 0.42 : 0.56 > |   7 |   7 |   0.00/7 | 0.00\n",
            " 5 | [ 0.56 : 0.70 > |  10 |   7 |   9.00/7 | 1.29\n",
            " 6 | [ 0.70 : 0.84 > |   5 |   7 |   4.00/7 | 0.57\n",
            " 7 | [ 0.84 : 1.00 ] |  10 |   7 |   9.00/7 | 1.29\n",
            "                        50 |  49 |             5.57\n",
            "None\n"
          ]
        }
      ]
    },
    {
      "cell_type": "markdown",
      "source": [
        "## PRUEBA KOLMOGOROV-SMIRNOV"
      ],
      "metadata": {
        "id": "g1QHze4aqkvK"
      }
    },
    {
      "cell_type": "code",
      "source": [
        "class KolgomorovSmirnov(object):\n",
        "   def __init__(self, numeros):\n",
        "        self.numeros = numeros  # cada valor r[i]\n",
        "        self.n = self.numeros.__len__()\n",
        "        self.d_mas   = -1\n",
        "        self.d_menos = -1\n",
        "        self.d       = -1\n",
        "        self.start()\n",
        "   def ordenar_valores(self):\n",
        "        import sys,os\n",
        "        self.numeros\n",
        "      \n",
        "   def start(self):\n",
        "        self.ordenar_valores()\n",
        "        self.d_mas = self.calcular_d_mas()\n",
        "        self.d_menos = self.calcular_d_menos()\n",
        "        self.d = max(self.d_mas, self.d_menos)\n",
        "\n",
        "   def calcular_d_mas(self):\n",
        "        lista = list({})\n",
        "        for i in range(0, self.n): # desde 0 hasta n-1           \n",
        "            lista.append(((i+1.0)/self.n)-self.numeros[i])\n",
        "            print (\"%5.2f - %5.2f\" % (((i+1.0)/self.n), self.numeros[i]))\n",
        "        \n",
        "        return max(lista)\n",
        "\n",
        "   def calcular_d_menos(self):\n",
        "        lista = list({})\n",
        "        for i in range(0, self.n): # desdsde 0 hasta n-1\n",
        "            print (\"%5.2f - %5.2f\"%( self.numeros[i],((i*1.0)/self.n)))\n",
        "            lista.append( self.numeros[i]*1.0-((i*1.0)/self.n) ) # el algoritmo dice i-1 pero mi i comienza en 0\n",
        "        \n",
        "        return max(lista)\n",
        "\n",
        "   def __str__(self):\n",
        "        return \"n : {0:-5d}\\nD+: {1:-5.2f}\\nD-: {2:-5.2f}\\nD : {3:-5.2f}\".format(self.n,self.d_mas,self.d_menos,self.d)\n",
        "if __name__ == '__main__':\n",
        "    import sys,os\n",
        "    valores = X\n",
        "    ks = KolgomorovSmirnov(valores)\n",
        "    \n",
        "    print (ks)"
      ],
      "metadata": {
        "colab": {
          "base_uri": "https://localhost:8080/"
        },
        "id": "Zw-m6mPZP4rO",
        "outputId": "8ef16da5-ffa2-4e4e-bdfc-6e0c56df2931"
      },
      "execution_count": 137,
      "outputs": [
        {
          "output_type": "stream",
          "name": "stdout",
          "text": [
            " 0.02 -  0.03\n",
            " 0.04 -  0.09\n",
            " 0.06 -  0.10\n",
            " 0.08 -  0.88\n",
            " 0.10 -  0.92\n",
            " 0.12 -  0.96\n",
            " 0.14 -  0.98\n",
            " 0.16 -  1.00\n",
            " 0.18 -  0.15\n",
            " 0.20 -  0.15\n",
            " 0.22 -  0.16\n",
            " 0.24 -  0.20\n",
            " 0.26 -  0.21\n",
            " 0.28 -  0.22\n",
            " 0.30 -  0.23\n",
            " 0.32 -  0.24\n",
            " 0.34 -  0.32\n",
            " 0.36 -  0.33\n",
            " 0.38 -  0.34\n",
            " 0.40 -  0.35\n",
            " 0.42 -  0.37\n",
            " 0.44 -  0.38\n",
            " 0.46 -  0.39\n",
            " 0.48 -  0.43\n",
            " 0.50 -  0.46\n",
            " 0.52 -  0.46\n",
            " 0.54 -  0.47\n",
            " 0.56 -  0.50\n",
            " 0.58 -  0.53\n",
            " 0.60 -  0.74\n",
            " 0.62 -  0.80\n",
            " 0.64 -  0.81\n",
            " 0.66 -  0.84\n",
            " 0.68 -  0.85\n",
            " 0.70 -  0.86\n",
            " 0.72 -  0.87\n",
            " 0.74 -  0.88\n",
            " 0.76 -  0.88\n",
            " 0.78 -  0.55\n",
            " 0.80 -  0.56\n",
            " 0.82 -  0.57\n",
            " 0.84 -  0.58\n",
            " 0.86 -  0.60\n",
            " 0.88 -  0.60\n",
            " 0.90 -  0.60\n",
            " 0.92 -  0.62\n",
            " 0.94 -  0.63\n",
            " 0.96 -  0.64\n",
            " 0.98 -  0.64\n",
            " 1.00 -  0.74\n",
            " 0.03 -  0.00\n",
            " 0.09 -  0.02\n",
            " 0.10 -  0.04\n",
            " 0.88 -  0.06\n",
            " 0.92 -  0.08\n",
            " 0.96 -  0.10\n",
            " 0.98 -  0.12\n",
            " 1.00 -  0.14\n",
            " 0.15 -  0.16\n",
            " 0.15 -  0.18\n",
            " 0.16 -  0.20\n",
            " 0.20 -  0.22\n",
            " 0.21 -  0.24\n",
            " 0.22 -  0.26\n",
            " 0.23 -  0.28\n",
            " 0.24 -  0.30\n",
            " 0.32 -  0.32\n",
            " 0.33 -  0.34\n",
            " 0.34 -  0.36\n",
            " 0.35 -  0.38\n",
            " 0.37 -  0.40\n",
            " 0.38 -  0.42\n",
            " 0.39 -  0.44\n",
            " 0.43 -  0.46\n",
            " 0.46 -  0.48\n",
            " 0.46 -  0.50\n",
            " 0.47 -  0.52\n",
            " 0.50 -  0.54\n",
            " 0.53 -  0.56\n",
            " 0.74 -  0.58\n",
            " 0.80 -  0.60\n",
            " 0.81 -  0.62\n",
            " 0.84 -  0.64\n",
            " 0.85 -  0.66\n",
            " 0.86 -  0.68\n",
            " 0.87 -  0.70\n",
            " 0.88 -  0.72\n",
            " 0.88 -  0.74\n",
            " 0.55 -  0.76\n",
            " 0.56 -  0.78\n",
            " 0.57 -  0.80\n",
            " 0.58 -  0.82\n",
            " 0.60 -  0.84\n",
            " 0.60 -  0.86\n",
            " 0.60 -  0.88\n",
            " 0.62 -  0.90\n",
            " 0.63 -  0.92\n",
            " 0.64 -  0.94\n",
            " 0.64 -  0.96\n",
            " 0.74 -  0.98\n",
            "n :    50\n",
            "D+:  0.34\n",
            "D-:  0.86\n",
            "D :  0.86\n"
          ]
        }
      ]
    }
  ]
}