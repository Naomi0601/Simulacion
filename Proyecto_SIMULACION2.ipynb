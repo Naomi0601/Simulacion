{
  "cells": [
    {
      "cell_type": "markdown",
      "metadata": {
        "id": "view-in-github",
        "colab_type": "text"
      },
      "source": [
        "<a href=\"https://colab.research.google.com/github/Naomi0601/Simulacion/blob/main/Proyecto_SIMULACION2.ipynb\" target=\"_parent\"><img src=\"https://colab.research.google.com/assets/colab-badge.svg\" alt=\"Open In Colab\"/></a>"
      ]
    },
    {
      "cell_type": "markdown",
      "source": [
        "# **Una peluqueria quiere ver que le conviene mas si contratar a 2 o 3 con un tiempo de atencion entre 15 y 30 minutos en un total de 5 horas (300 minutos)**"
      ],
      "metadata": {
        "id": "uMM31DRbl8J8"
      }
    },
    {
      "cell_type": "markdown",
      "source": [
        "# **DISEÑO DE EXPERIMENTO DE 3 PELUQUEROS**"
      ],
      "metadata": {
        "id": "Mjyj8G98kk1R"
      }
    },
    {
      "cell_type": "code",
      "source": [
        "!pip install simpy"
      ],
      "metadata": {
        "colab": {
          "base_uri": "https://localhost:8080/"
        },
        "id": "kqn5D1LSlOeK",
        "outputId": "b563bc01-1207-4b61-c074-037673f52507"
      },
      "execution_count": null,
      "outputs": [
        {
          "output_type": "stream",
          "name": "stdout",
          "text": [
            "Collecting simpy\n",
            "  Downloading simpy-4.0.1-py2.py3-none-any.whl (29 kB)\n",
            "Installing collected packages: simpy\n",
            "Successfully installed simpy-4.0.1\n"
          ]
        }
      ]
    },
    {
      "cell_type": "code",
      "source": [
        "import simpy #simulación basada en eventos discretos\n",
        "import random #generar números aleatorios\n",
        "from tabulate import tabulate #mostrar los resultados en una tabla.\n",
        "import matplotlib.pyplot as plt #para crear gráficos\n",
        "import numpy as np #realizar cálculos numéricos."
      ],
      "metadata": {
        "id": "2ED72UKkcxf1"
      },
      "execution_count": null,
      "outputs": []
    },
    {
      "cell_type": "code",
      "source": [
        "def cliente(env, servidor, num_cliente):\n",
        "    llegada = env.now + random.uniform(0, 10) #generamos el tiempo de llegada con una distribucion uniforme\n",
        "\n",
        "    with servidor.request() as req: #sirve para segurarnos se libere correctamente\n",
        "        yield req                   #cuando cliente haya terminado su atencion\n",
        "\n",
        "        peluquero = None # indica que inicialmente no se ha asignado ningún valor específico a esa variable.\n",
        "        for i, p in enumerate(peluqueros_disponibles): #buscar un peluquero disponible\n",
        "            if p == True: #peluquero esta libre\n",
        "                peluquero = i + 1  #peluquero el valor de i incrementado en 1.\n",
        "                peluqueros_disponibles[i] = False #peluquero esta ocupado\n",
        "                break\n",
        "\n",
        "        yield env.timeout(max(0, llegada - env.now))  # Esperar hasta la hora de llegada\n",
        "        hora_atencion = env.now #se guarda el valor del tiempo actual en la simulación en la variable hora_atencion\n",
        "        atencion = random.uniform(15, 30) #tiempo de atencion va de 15 a 30\n",
        "        yield env.timeout(atencion) #pausa la ejecución del generador actual durante un período de tiempo especificado por la variable atencion\n",
        "\n",
        "        partida = env.now\n",
        "        espera = max(0, hora_atencion - llegada) #Registramos la hora de salida del cliente, calculamos el tiempo de espera\n",
        "\n",
        "        # Guardar los datos del cliente en una lista\n",
        "        datos_cliente = [num_cliente, peluquero, llegada, hora_atencion, partida, espera, partida - llegada]\n",
        "        resultados.append(datos_cliente)\n",
        "\n",
        "        # Marcar al peluquero como disponible nuevamente\n",
        "        peluqueros_disponibles[peluquero - 1] = True"
      ],
      "metadata": {
        "id": "v0sm43uJc1D4"
      },
      "execution_count": null,
      "outputs": []
    },
    {
      "cell_type": "code",
      "source": [
        "def llegada_clientes(env):\n",
        "    contador = 1\n",
        "    while True:\n",
        "        yield env.timeout(random.expovariate(1 / 10))  #genera un número aleatorio siguiendo una distribución exponencial con un parámetro de tasa de 1/10\n",
        "        cola_clientes.append(contador) #agrega el valor de la variable contador al final de la lista cola_clientes\n",
        "        env.process(cliente(env, servidor, contador)) #crea un nuevo proceso dentro del entorno de simulación env utilizando la función o generador cliente\n",
        "        contador += 1"
      ],
      "metadata": {
        "id": "xejJwgKnc7C4"
      },
      "execution_count": null,
      "outputs": []
    },
    {
      "cell_type": "code",
      "source": [
        "env = simpy.Environment()\n",
        "servidor = simpy.Resource(env, capacity=3)  # Tres peluqueros disponibles\n",
        "resultados = []  # Lista para almacenar los datos de los clientes\n",
        "peluqueros_disponibles = [True] * 3  # Lista para rastrear la disponibilidad de los peluqueros\n",
        "cola_clientes = []  # Cola para almacenar eventos de llegada de clientes"
      ],
      "metadata": {
        "id": "_1K3wjdzc-iJ"
      },
      "execution_count": null,
      "outputs": []
    },
    {
      "cell_type": "code",
      "source": [
        "env.process(llegada_clientes(env)) #Creamos un proceso para la función\n",
        "env.run(until=300)  # Simular durante 300 minutos"
      ],
      "metadata": {
        "id": "YTCW9RvYdEUr"
      },
      "execution_count": null,
      "outputs": []
    },
    {
      "cell_type": "code",
      "source": [
        "# Calcular el promedio del tiempo en fila y el tiempo en el sistema\n",
        "promedio_fila3=[]\n",
        "tiempo_en_fila = [cliente[5] for cliente in resultados]\n",
        "promedio_fila3 = sum(tiempo_en_fila) / len(tiempo_en_fila)\n",
        "promedio_sistema3=[]\n",
        "tiempo_en_sistema = [cliente[6] for cliente in resultados]\n",
        "promedio_sistema3 = sum(tiempo_en_sistema) / len(tiempo_en_sistema)"
      ],
      "metadata": {
        "id": "_6W3odU9dHhD"
      },
      "execution_count": null,
      "outputs": []
    },
    {
      "cell_type": "code",
      "source": [
        "# Imprimir la tabla de resultados\n",
        "columnas3 = ['Cliente', 'Peluquero', 'Hora de llegada', 'Hora de atención', 'Hora de salida', 'Tiempo de espera', 'Tiempo en el sistema']\n",
        "print(tabulate(resultados, headers=columnas3, tablefmt='orgtbl'))\n",
        "\n",
        "# Imprimir el promedio del tiempo en fila y el tiempo en el sistema\n",
        "print(f\"\\nPromedio de tiempo en fila: {promedio_fila3:.2f}\")\n",
        "print(f\"Promedio de tiempo en el sistema: {promedio_sistema3:.2f}\")"
      ],
      "metadata": {
        "colab": {
          "base_uri": "https://localhost:8080/"
        },
        "id": "Cembo1uu4F8V",
        "outputId": "00ba5d01-0631-4054-b676-25c95d5c6bb3"
      },
      "execution_count": null,
      "outputs": [
        {
          "output_type": "stream",
          "name": "stdout",
          "text": [
            "|   Cliente |   Peluquero |   Hora de llegada |   Hora de atención |   Hora de salida |   Tiempo de espera |   Tiempo en el sistema |\n",
            "|-----------+-------------+-------------------+--------------------+------------------+--------------------+------------------------|\n",
            "|         2 |           2 |           5.29067 |            5.29067 |          29.3167 |            0       |                24.0261 |\n",
            "|         3 |           3 |          10.5976  |           10.5976  |          29.4885 |            0       |                18.8909 |\n",
            "|         1 |           1 |           5.50277 |            5.50277 |          32.2978 |            0       |                26.795  |\n",
            "|         4 |           2 |          15.5137  |           29.3167  |          46.6098 |           13.803   |                31.096  |\n",
            "|         6 |           1 |          27.2517  |           32.2978  |          54.9466 |            5.04611 |                27.6949 |\n",
            "|         5 |           3 |          17.6994  |           29.4885  |          58.7855 |           11.7891  |                41.0861 |\n",
            "|         8 |           1 |          40.3923  |           54.9466  |          71.6141 |           14.5543  |                31.2217 |\n",
            "|         7 |           2 |          42.7935  |           46.6098  |          74.6637 |            3.81624 |                31.8702 |\n",
            "|         9 |           3 |          60.6517  |           60.6517  |          81.2789 |            0       |                20.6272 |\n",
            "|        10 |           1 |          62.5211  |           71.6141  |          92.5853 |            9.09294 |                30.0642 |\n",
            "|        11 |           2 |          70.8181  |           74.6637  |         103.844  |            3.84568 |                33.0255 |\n",
            "|        12 |           3 |          85.6713  |           85.6713  |         107.358  |            0       |                21.6866 |\n",
            "|        13 |           1 |          87.3859  |           92.5853  |         122.264  |            5.19948 |                34.8785 |\n",
            "|        14 |           1 |         131.956   |          131.956   |         147.243  |            0       |                15.2866 |\n",
            "|        15 |           2 |         141.801   |          141.801   |         161.757  |            0       |                19.9562 |\n",
            "|        16 |           3 |         142.966   |          142.966   |         170.441  |            0       |                27.4749 |\n",
            "|        17 |           1 |         180.148   |          180.148   |         198.953  |            0       |                18.805  |\n",
            "|        18 |           2 |         184.854   |          184.854   |         207.149  |            0       |                22.2953 |\n",
            "|        19 |           1 |         214.116   |          214.116   |         238.047  |            0       |                23.9306 |\n",
            "|        20 |           2 |         220.951   |          220.951   |         243.902  |            0       |                22.9516 |\n",
            "|        22 |           1 |         252.354   |          252.354   |         268.678  |            0       |                16.3238 |\n",
            "|        21 |           3 |         241.835   |          241.835   |         268.985  |            0       |                27.1506 |\n",
            "|        23 |           2 |         263.147   |          263.147   |         292.388  |            0       |                29.2408 |\n",
            "|        24 |           1 |         266.821   |          268.678   |         294.887  |            1.8564  |                28.0659 |\n",
            "|        25 |           3 |         276.817   |          276.817   |         298.755  |            0       |                21.9378 |\n",
            "\n",
            "Promedio de tiempo en fila: 2.76\n",
            "Promedio de tiempo en el sistema: 25.86\n"
          ]
        }
      ]
    },
    {
      "cell_type": "markdown",
      "source": [
        "# **OSCIO**"
      ],
      "metadata": {
        "id": "2Iy7JyRyY-t3"
      }
    },
    {
      "cell_type": "markdown",
      "source": [
        "El tiempo de ociosidad se calcula sumando el tiempo que un peluquero ha estado sin atender a ningún cliente. Esto ocurre cuando el peluquero está libre y no hay clientes esperando para ser atendidos.\n",
        "\n",
        "El cálculo del tiempo de ociosidad de cada peluquero es útil para evaluar la eficiencia del sistema. Un tiempo de ociosidad alto puede indicar que hay peluqueros disponibles que podrían estar atendiendo a más clientes, lo que implica una menor utilización de los recursos disponibles en la peluquería.\n"
      ],
      "metadata": {
        "id": "LEGj_yt5vgdi"
      }
    },
    {
      "cell_type": "code",
      "source": [
        "def calcular_tiempo_no_trabajado(resultados, peluqueros_disponibles):\n",
        "    tiempo_no_trabajado_peluqueros3 = [0] * len(peluqueros_disponibles)\n",
        "    clientes_atendidos_peluquero = [[] for _ in range(len(peluqueros_disponibles))]\n",
        "\n",
        "    for cliente in resultados:\n",
        "        peluquero = cliente[1]\n",
        "        clientes_atendidos_peluquero[peluquero - 1].append(cliente)\n",
        "\n",
        "    suma_tiempo_no_trabajado3 = 0\n",
        "\n",
        "    for i, clientes_peluquero in enumerate(clientes_atendidos_peluquero):\n",
        "        tiempo_no_trabajado = 0\n",
        "        hora_salida_anterior = 0\n",
        "\n",
        "        for cliente in clientes_peluquero:\n",
        "            hora_salida = cliente[4]\n",
        "            tiempo_no_trabajado += cliente[3] - hora_salida_anterior\n",
        "            hora_salida_anterior = hora_salida\n",
        "\n",
        "        tiempo_no_trabajado_peluqueros3[i] = tiempo_no_trabajado\n",
        "        suma_tiempo_no_trabajado3 += tiempo_no_trabajado\n",
        "\n",
        "    return tiempo_no_trabajado_peluqueros3, suma_tiempo_no_trabajado3\n",
        "\n",
        "tiempo_no_trabajado_peluqueros3, suma_tiempo_no_trabajado3 = calcular_tiempo_no_trabajado(resultados, peluqueros_disponibles)\n",
        "porcentajes_tiempo_no_trabajado3 = []\n",
        "for i, tiempo in enumerate(tiempo_no_trabajado_peluqueros3):\n",
        "    peluquero = i + 1\n",
        "    porcentajes_tiempo_no_trabajado = (tiempo * 100) / 300\n",
        "    print(f\"Tiempo no trabajado del Peluquero {peluquero}: {tiempo:.2f} minutos ({porcentajes_tiempo_no_trabajado:.2f}%)\")\n",
        "    porcentajes_tiempo_no_trabajado3.append(porcentajes_tiempo_no_trabajado)\n"
      ],
      "metadata": {
        "colab": {
          "base_uri": "https://localhost:8080/"
        },
        "id": "Cz8bTpGgF3gN",
        "outputId": "272c15ab-226c-450e-92bf-1db3e7b026fd"
      },
      "execution_count": null,
      "outputs": [
        {
          "output_type": "stream",
          "name": "stdout",
          "text": [
            "Tiempo no trabajado del Peluquero 1: 77.57 minutos (25.86%)\n",
            "Tiempo no trabajado del Peluquero 2: 99.39 minutos (33.13%)\n",
            "Tiempo no trabajado del Peluquero 3: 131.69 minutos (43.90%)\n"
          ]
        }
      ]
    },
    {
      "cell_type": "code",
      "source": [
        "# Crear una lista con los números de los peluqueros\n",
        "peluqueros = list(range(1, len(peluqueros_disponibles) + 1))\n",
        "\n",
        "# Graficar los porcentajes de tiempo no trabajado por peluquero\n",
        "plt.bar(peluqueros, porcentajes_tiempo_no_trabajado3)\n",
        "plt.xlabel('Peluquero')\n",
        "plt.ylabel('Porcentaje de tiempo no trabajado')\n",
        "plt.title('Porcentaje de tiempo no trabajado por peluquero')\n",
        "plt.show()"
      ],
      "metadata": {
        "colab": {
          "base_uri": "https://localhost:8080/",
          "height": 472
        },
        "id": "RNqrSrX8n-9L",
        "outputId": "2fef4ae3-3685-4a66-e546-6267d7fb3d4b"
      },
      "execution_count": null,
      "outputs": [
        {
          "output_type": "display_data",
          "data": {
            "text/plain": [
              "<Figure size 640x480 with 1 Axes>"
            ],
            "image/png": "[encoded data removed]"
          },
          "metadata": {}
        }
      ]
    },
    {
      "cell_type": "markdown",
      "source": [
        "# **DISEÑO DE EXPERIMENTO DE 2 PELUQUEROS**"
      ],
      "metadata": {
        "id": "zzNoDGEtcVqm"
      }
    },
    {
      "cell_type": "code",
      "source": [
        "def cliente(env, servidor, num_cliente):\n",
        "    llegada = env.now + random.uniform(0, 10) #generamos el tiempo de llegada con una distribucion uniforme\n",
        "\n",
        "    with servidor.request() as req: #sirve para segurarnos se libere correctamente\n",
        "        yield req                   #cuando cliente haya terminado su atencion\n",
        "\n",
        "        peluquero = None # indica que inicialmente no se ha asignado ningún valor específico a esa variable.\n",
        "        for i, p in enumerate(peluqueros_disponibles): #buscar un peluquero disponible\n",
        "            if p == True: #peluquero esta libre\n",
        "                peluquero = i + 1  #peluquero el valor de i incrementado en 1.\n",
        "                peluqueros_disponibles[i] = False #peluquero esta ocupado\n",
        "                break\n",
        "\n",
        "        yield env.timeout(max(0, llegada - env.now))  # Esperar hasta la hora de llegada\n",
        "        hora_atencion = env.now #se guarda el valor del tiempo actual en la simulación en la variable hora_atencion\n",
        "        atencion = random.uniform(15, 30) #tiempo de atencion va de 15 a 30\n",
        "        yield env.timeout(atencion) #pausa la ejecución del generador actual durante un período de tiempo especificado por la variable atencion\n",
        "\n",
        "        partida = env.now\n",
        "        espera = max(0, hora_atencion - llegada) #Registramos la hora de salida del cliente, calculamos el tiempo de espera\n",
        "\n",
        "        # Guardar los datos del cliente en una lista\n",
        "        datos_cliente = [num_cliente, peluquero, llegada, hora_atencion, partida, espera, partida - llegada]\n",
        "        resultados.append(datos_cliente)\n",
        "\n",
        "        # Marcar al peluquero como disponible nuevamente\n",
        "        peluqueros_disponibles[peluquero - 1] = True"
      ],
      "metadata": {
        "id": "486zZKYFkeW-"
      },
      "execution_count": null,
      "outputs": []
    },
    {
      "cell_type": "code",
      "source": [
        "def llegada_clientes(env):\n",
        "    contador = 1\n",
        "    while True:\n",
        "        yield env.timeout(random.expovariate(1 / 10))  #genera un número aleatorio siguiendo una distribución exponencial con un parámetro de tasa de 1/10\n",
        "        cola_clientes.append(contador) #agrega el valor de la variable contador al final de la lista cola_clientes\n",
        "        env.process(cliente(env, servidor, contador)) #crea un nuevo proceso dentro del entorno de simulación env utilizando la función o generador cliente\n",
        "        contador += 1"
      ],
      "metadata": {
        "id": "Wh0wYj6dgNQZ"
      },
      "execution_count": null,
      "outputs": []
    },
    {
      "cell_type": "code",
      "source": [
        "env = simpy.Environment()\n",
        "servidor = simpy.Resource(env, capacity=2)  # Tres peluqueros disponibles\n",
        "resultados = []  # Lista para almacenar los datos de los clientes\n",
        "peluqueros_disponibles = [True] * 2  # Lista para rastrear la disponibilidad de los peluqueros\n",
        "cola_clientes = []  # Cola para almacenar eventos de llegada de clientes"
      ],
      "metadata": {
        "id": "ptqw-5lXcYgM"
      },
      "execution_count": null,
      "outputs": []
    },
    {
      "cell_type": "code",
      "source": [
        "env.process(llegada_clientes(env)) #Creamos un proceso para la función\n",
        "env.run(until=300)  # Simular durante 300 minutos"
      ],
      "metadata": {
        "id": "CB6Q7cFLcpFp"
      },
      "execution_count": null,
      "outputs": []
    },
    {
      "cell_type": "code",
      "source": [
        "# Calcular el promedio del tiempo en fila y el tiempo en el sistema\n",
        "promedio_fila=[]\n",
        "tiempo_en_fila = [cliente[5] for cliente in resultados]\n",
        "promedio_fila = sum(tiempo_en_fila) / len(tiempo_en_fila)\n",
        "promedio_sistema=[]\n",
        "tiempo_en_sistema = [cliente[6] for cliente in resultados]\n",
        "promedio_sistema = sum(tiempo_en_sistema) / len(tiempo_en_sistema)"
      ],
      "metadata": {
        "id": "zLZjk9njcsnc"
      },
      "execution_count": null,
      "outputs": []
    },
    {
      "cell_type": "code",
      "source": [
        "# Imprimir la tabla de resultados\n",
        "columnas = ['Cliente', 'Peluquero', 'Hora de llegada', 'Hora de atención', 'Hora de salida', 'Tiempo de espera', 'Tiempo en el sistema']\n",
        "print(tabulate(resultados, headers=columnas, tablefmt='orgtbl'))\n",
        "\n",
        "# Imprimir el promedio del tiempo en fila y el tiempo en el sistema\n",
        "print(f\"\\nPromedio de tiempo en fila: {promedio_fila:.2f}\")\n",
        "print(f\"Promedio de tiempo en el sistema: {promedio_sistema:.2f}\")"
      ],
      "metadata": {
        "colab": {
          "base_uri": "https://localhost:8080/"
        },
        "id": "f9BJCkzfcw0u",
        "outputId": "f83af070-6fa7-4e83-9bba-201439009067"
      },
      "execution_count": null,
      "outputs": [
        {
          "output_type": "stream",
          "name": "stdout",
          "text": [
            "|   Cliente |   Peluquero |   Hora de llegada |   Hora de atención |   Hora de salida |   Tiempo de espera |   Tiempo en el sistema |\n",
            "|-----------+-------------+-------------------+--------------------+------------------+--------------------+------------------------|\n",
            "|         1 |           1 |           28.1917 |            28.1917 |          46.8086 |            0       |                18.6169 |\n",
            "|         2 |           2 |           24.1378 |            24.1378 |          47.0994 |            0       |                22.9616 |\n",
            "|         3 |           1 |           38.8583 |            46.8086 |          65.2213 |            7.9503  |                26.363  |\n",
            "|         4 |           2 |           41.061  |            47.0994 |          68.3401 |            6.03841 |                27.2791 |\n",
            "|         5 |           1 |           59.8955 |            65.2213 |          84.9184 |            5.32581 |                25.0229 |\n",
            "|         6 |           2 |           61.4903 |            68.3401 |          86.1014 |            6.84984 |                24.6111 |\n",
            "|         7 |           1 |           77.6189 |            84.9184 |         104.942  |            7.29946 |                27.3233 |\n",
            "|         8 |           2 |           79.0311 |            86.1014 |         110.41   |            7.07024 |                31.3787 |\n",
            "|         9 |           1 |           79.3376 |           104.942  |         128.093  |           25.6046  |                48.7552 |\n",
            "|        10 |           2 |           85.5547 |           110.41   |         128.658  |           24.8551  |                43.1037 |\n",
            "|        11 |           1 |           98.3347 |           128.093  |         147.214  |           29.7582  |                48.8796 |\n",
            "|        12 |           2 |          102.389  |           128.658  |         152.045  |           26.269   |                49.6559 |\n",
            "|        13 |           1 |          117.238  |           147.214  |         167.935  |           29.9762  |                50.6967 |\n",
            "|        14 |           2 |          118.081  |           152.045  |         177.331  |           33.9641  |                59.2497 |\n",
            "|        15 |           1 |          118.708  |           167.935  |         194.545  |           49.2273  |                75.8378 |\n",
            "|        16 |           2 |          161.817  |           177.331  |         201.466  |           15.5143  |                39.6492 |\n",
            "|        17 |           1 |          166.833  |           194.545  |         221.967  |           27.7122  |                55.1338 |\n",
            "|        18 |           2 |          175.427  |           201.466  |         229.195  |           26.0393  |                53.7686 |\n",
            "|        19 |           1 |          198.311  |           221.967  |         239.598  |           23.656   |                41.2869 |\n",
            "|        20 |           2 |          199.002  |           229.195  |         244.937  |           30.1929  |                45.9349 |\n",
            "|        21 |           1 |          214.828  |           239.598  |         265.085  |           24.7697  |                50.2568 |\n",
            "|        22 |           2 |          231.444  |           244.937  |         267.522  |           13.493   |                36.0782 |\n",
            "|        23 |           1 |          235.325  |           265.085  |         294.67   |           29.76    |                59.3452 |\n",
            "\n",
            "Promedio de tiempo en fila: 19.62\n",
            "Promedio de tiempo en el sistema: 41.79\n"
          ]
        }
      ]
    },
    {
      "cell_type": "markdown",
      "source": [
        "# **OSCIO**"
      ],
      "metadata": {
        "id": "fyGxFur3vj3W"
      }
    },
    {
      "cell_type": "code",
      "source": [
        "def calcular_tiempo_no_trabajado(resultados, peluqueros_disponibles):\n",
        "    tiempo_no_trabajado_peluqueros2 = [0] * len(peluqueros_disponibles)\n",
        "    clientes_atendidos_peluquero = [[] for _ in range(len(peluqueros_disponibles))]\n",
        "\n",
        "    for cliente in resultados:\n",
        "        peluquero = cliente[1]\n",
        "        clientes_atendidos_peluquero[peluquero - 1].append(cliente)\n",
        "\n",
        "    suma_tiempo_no_trabajado2 = 0\n",
        "\n",
        "    for i, clientes_peluquero in enumerate(clientes_atendidos_peluquero):\n",
        "        tiempo_no_trabajado = 0\n",
        "        hora_salida_anterior = 0\n",
        "\n",
        "        for cliente in clientes_peluquero:\n",
        "            hora_salida = cliente[4]\n",
        "            tiempo_no_trabajado += cliente[3] - hora_salida_anterior\n",
        "            hora_salida_anterior = hora_salida\n",
        "\n",
        "        tiempo_no_trabajado_peluqueros2[i] = tiempo_no_trabajado\n",
        "        suma_tiempo_no_trabajado2 += tiempo_no_trabajado\n",
        "\n",
        "    return tiempo_no_trabajado_peluqueros2, suma_tiempo_no_trabajado2\n",
        "\n",
        "tiempo_no_trabajado_peluqueros2, suma_tiempo_no_trabajado2 = calcular_tiempo_no_trabajado(resultados, peluqueros_disponibles)\n",
        "porcentajes_tiempo_no_trabajado2 = []\n",
        "for i, tiempo in enumerate(tiempo_no_trabajado_peluqueros2):\n",
        "    peluquero = i + 1\n",
        "    porcentajes_tiempo_no_trabajado = (tiempo * 100) / 300\n",
        "    print(f\"Tiempo no trabajado del Peluquero {peluquero}: {tiempo:.2f} minutos ({porcentajes_tiempo_no_trabajado:.2f}%)\")\n",
        "    porcentajes_tiempo_no_trabajado2.append(porcentajes_tiempo_no_trabajado)\n"
      ],
      "metadata": {
        "colab": {
          "base_uri": "https://localhost:8080/"
        },
        "id": "5EGMBHut34YB",
        "outputId": "4953379c-9572-4109-bcac-21094bbe5da7"
      },
      "execution_count": null,
      "outputs": [
        {
          "output_type": "stream",
          "name": "stdout",
          "text": [
            "Tiempo no trabajado del Peluquero 1: 28.19 minutos (9.40%)\n",
            "Tiempo no trabajado del Peluquero 2: 24.14 minutos (8.05%)\n"
          ]
        }
      ]
    },
    {
      "cell_type": "code",
      "source": [
        "# Crear una lista con los números de los peluqueros\n",
        "peluqueros = list(range(1, len(peluqueros_disponibles) + 1))\n",
        "\n",
        "# Graficar los porcentajes de tiempo no trabajado por peluquero\n",
        "plt.bar(peluqueros, porcentajes_tiempo_no_trabajado2)\n",
        "plt.xlabel('Peluquero')\n",
        "plt.ylabel('Porcentaje de tiempo no trabajado')\n",
        "plt.title('Porcentaje de tiempo no trabajado por peluquero')\n",
        "plt.show()"
      ],
      "metadata": {
        "colab": {
          "base_uri": "https://localhost:8080/",
          "height": 472
        },
        "id": "Z59lTGEl2K6w",
        "outputId": "8ad9b632-32ab-4203-92e5-1909d51829b2"
      },
      "execution_count": null,
      "outputs": [
        {
          "output_type": "display_data",
          "data": {
            "text/plain": [
              "<Figure size 640x480 with 1 Axes>"
            ],
            "image/png": "[encoded data removed]"
          },
          "metadata": {}
        }
      ]
    },
    {
      "cell_type": "markdown",
      "source": [
        "# **Comparamos para ver que nos conviene mas contratar 2 o 3 peluqueros**"
      ],
      "metadata": {
        "id": "KxRCNbWNqpBD"
      }
    },
    {
      "cell_type": "code",
      "source": [
        "print(\"--------PARA TRES PELUQUEROS---------\")\n",
        "for i, tiempo in enumerate(tiempo_no_trabajado_peluqueros3):\n",
        "    peluquero = i + 1\n",
        "    porcentajes_tiempo_no_trabajado = (tiempo * 100) / 300\n",
        "    print(f\"Tiempo no trabajado del Peluquero {peluquero}: {tiempo:.2f} minutos ({porcentajes_tiempo_no_trabajado:.2f}%)\")\n",
        "    porcentajes_tiempo_no_trabajado3.append(porcentajes_tiempo_no_trabajado)\n",
        "print(f\"\\nPromedio de tiempo en fila: {promedio_fila3:.2f}\")\n",
        "print(f\"Promedio de tiempo en el sistema: {promedio_sistema3:.2f}\")\n",
        "print(\"-------PARA DOS PELUQUEROS--------\")\n",
        "for i, tiempo in enumerate(tiempo_no_trabajado_peluqueros2):\n",
        "    peluquero = i + 1\n",
        "    porcentajes_tiempo_no_trabajado = (tiempo * 100) / 300\n",
        "    print(f\"Tiempo no trabajado del Peluquero {peluquero}: {tiempo:.2f} minutos ({porcentajes_tiempo_no_trabajado:.2f}%)\")\n",
        "    porcentajes_tiempo_no_trabajado2.append(porcentajes_tiempo_no_trabajado)\n",
        "print(f\"\\nPromedio de tiempo en fila: {promedio_fila:.2f}\")\n",
        "print(f\"Promedio de tiempo en el sistema: {promedio_sistema:.2f}\")"
      ],
      "metadata": {
        "colab": {
          "base_uri": "https://localhost:8080/"
        },
        "id": "xMeQpD7b0TU6",
        "outputId": "9290b44c-8cc3-4b7b-a28c-28e2aa9aeef4"
      },
      "execution_count": null,
      "outputs": [
        {
          "output_type": "stream",
          "name": "stdout",
          "text": [
            "--------PARA TRES PELUQUEROS---------\n",
            "Tiempo no trabajado del Peluquero 1: 77.57 minutos (25.86%)\n",
            "Tiempo no trabajado del Peluquero 2: 99.39 minutos (33.13%)\n",
            "Tiempo no trabajado del Peluquero 3: 131.69 minutos (43.90%)\n",
            "\n",
            "Promedio de tiempo en fila: 2.76\n",
            "Promedio de tiempo en el sistema: 25.86\n",
            "-------PARA DOS PELUQUEROS--------\n",
            "Tiempo no trabajado del Peluquero 1: 28.19 minutos (9.40%)\n",
            "Tiempo no trabajado del Peluquero 2: 24.14 minutos (8.05%)\n",
            "\n",
            "Promedio de tiempo en fila: 19.62\n",
            "Promedio de tiempo en el sistema: 41.79\n"
          ]
        }
      ]
    }
  ],
  "metadata": {
    "colab": {
      "provenance": [],
      "authorship_tag": "ABX9TyPGarrsYuJFtwOqBpI0Zvya",
      "include_colab_link": true
    },
    "kernelspec": {
      "display_name": "Python 3",
      "name": "python3"
    },
    "language_info": {
      "name": "python"
    }
  },
  "nbformat": 4,
  "nbformat_minor": 0
}