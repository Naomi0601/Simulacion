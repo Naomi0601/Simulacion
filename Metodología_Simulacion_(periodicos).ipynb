{
  "cells": [
    {
      "cell_type": "markdown",
      "metadata": {
        "id": "view-in-github",
        "colab_type": "text"
      },
      "source": [
        "<a href=\"https://colab.research.google.com/github/Naomi0601/Simulacion/blob/main/Metodolog%C3%ADa_Simulacion_(periodicos).ipynb\" target=\"_parent\"><img src=\"https://colab.research.google.com/assets/colab-badge.svg\" alt=\"Open In Colab\"/></a>"
      ]
    },
    {
      "cell_type": "markdown",
      "metadata": {
        "id": "a5cc0a87"
      },
      "source": [
        "# Metodología de la Simulación (PERIODICOS)\n",
        "\n",
        "---\n",
        "\n"
      ],
      "id": "a5cc0a87"
    },
    {
      "cell_type": "markdown",
      "metadata": {
        "id": "0e218d98"
      },
      "source": [
        "### 1. Identifique las variables \n",
        "\n",
        "Aquellas cuyo comportamiento define el comportamiento o la evoución global del sistema real."
      ],
      "id": "0e218d98"
    },
    {
      "cell_type": "markdown",
      "metadata": {
        "id": "3ebcd0f2"
      },
      "source": [
        "### 2. Determine la distribución de probabilidad\n",
        "\n",
        "Elija el tipo de distribución de probabilidad que mejor defina el comportamiento aleatorio de cada una de las variables del sistema identificadas en el paso anterior."
      ],
      "id": "3ebcd0f2"
    },
    {
      "cell_type": "markdown",
      "metadata": {
        "id": "803801d5"
      },
      "source": [
        "### 3. Modele las variables aleatorias \n",
        "\n",
        "Cosntruya un modelo fiel de la aleatoriedad de las variables del sistema. Simular el comportamiento del sistema implica generar muestras aleatorias de cada variable que sigan fielmente la distribución de probabilidad correspondiente."
      ],
      "id": "803801d5"
    },
    {
      "cell_type": "markdown",
      "metadata": {
        "id": "33709223"
      },
      "source": [
        "### 4. Defina el modelo del sistema y los objetivos de la simulación \n",
        "\n",
        "Fije los objetivos y diseñe un modelo del sistema real que abstraiga sus propiedades más relevantes. Todo error en el modelo (o su implementación computacional) puede dar lugar a conclusiones equivocadas. \n",
        "\n",
        "Antes de experimentar con el modelo, asegurarse de que refleja fielmente el sistema real **validando** el mismo a partir de datos reales, para ello compare los resultados obtenidos de la simulación con los producidos por el sistema."
      ],
      "id": "33709223"
    },
    {
      "cell_type": "markdown",
      "metadata": {
        "id": "7f853065"
      },
      "source": [
        "### 5. Diseñe el experimento\n",
        "\n",
        "Diseñe un experimento así como las ejecuciones concretas del mismo, los escenarios que desea estudiar para alcanzar los objetivos fijados. El experimento consiste en generar valores de las variables cuyo comportamiento define el comportamiento del sistema y analizar este ante dichos valores."
      ],
      "id": "7f853065"
    },
    {
      "cell_type": "markdown",
      "metadata": {
        "id": "15ae61c8"
      },
      "source": [
        "### 6. Repita el experimento $n$ veces \n",
        "\n",
        "Así dispondrá de $n$ observaciones sobre el comportamiento del sistema, lo que permitirá entender su funcionamiento así como evaluar el desempeño del mismo frente a los diversos escenarios establecidos.\n",
        "\n",
        "El **método Monte Carlo** se basa en la **Ley Fuerte de los Grandes Números** y el **Teorema del Límite Central**."
      ],
      "id": "15ae61c8"
    },
    {
      "cell_type": "markdown",
      "metadata": {
        "id": "51ce3fa1"
      },
      "source": [
        "## Ejercicio 3\n",
        "\n",
        "Un quiosquero vende periodico a 1.10 euros cada uno.\\\n",
        "Cada periodico le cuesta 0.90 euros. Las ventas de periodicos a partir de su experiencia se refleja en la tabla siguiente: \\\n",
        "\n",
        "|Periodicos |**30**|**40**|**50**|**60**|**70**|\n",
        "|-----------|------|------|------|------|------|\n",
        "|   f(x)    |20%   | 25%  | 25%  | 20%  |10%   |\n",
        "\n",
        "Teniendo en cuenta el costo de 0.20 euros por venta perdida y 0.10 euros por el reciclaje de cada periodico no vendido, determine el beneficio promedio diario si se pide 50 periodicos cada dia."
      ],
      "id": "51ce3fa1"
    },
    {
      "cell_type": "markdown",
      "metadata": {
        "id": "564ca694"
      },
      "source": [
        "Por simulación: Construimos el modelo en varios pasos."
      ],
      "id": "564ca694"
    },
    {
      "cell_type": "markdown",
      "metadata": {
        "id": "fbbc8571"
      },
      "source": [
        "**PASO 1**. Defina las variables que intervienen en el modelo."
      ],
      "id": "fbbc8571"
    },
    {
      "cell_type": "markdown",
      "metadata": {
        "id": "ktpn7_ZjvKZ4"
      },
      "source": [
        "x=periodicos vendidos"
      ],
      "id": "ktpn7_ZjvKZ4"
    },
    {
      "cell_type": "markdown",
      "metadata": {
        "id": "4d3899f3"
      },
      "source": [
        "**PASO 2**. Formule la distribución de probabilidad de cada variable."
      ],
      "id": "4d3899f3"
    },
    {
      "cell_type": "markdown",
      "metadata": {
        "id": "fefa1334"
      },
      "source": [
        "|Periodicos |**30**|**40**|**50**|**60**|**70**|\n",
        "|-----------|------|------|------|------|------|\n",
        "|   f(x)    |0.20  | 0.25 | 0.25 | 0.20 |0.10  |"
      ],
      "id": "fefa1334"
    },
    {
      "cell_type": "markdown",
      "metadata": {
        "id": "fd02116a"
      },
      "source": [
        "**PASO 3**. Enumere la distribución acumulada de probabilidad de cada variable."
      ],
      "id": "fd02116a"
    },
    {
      "cell_type": "markdown",
      "metadata": {
        "id": "59e252c6"
      },
      "source": [
        "|Periodicos |**30**|**40**|**50**|**60**|**70**|\n",
        "|-----------|------|------|------|------|------|\n",
        "|   f(x)    |0.20  | 0.25 | 0.25 | 0.20 |0.10  |\n",
        "|F(x)       |0.20  | 0.45 | 0.70 | 0.90 |1.00  |"
      ],
      "id": "59e252c6"
    },
    {
      "cell_type": "markdown",
      "metadata": {
        "id": "4852dcac"
      },
      "source": [
        "**PASO 4**. Establezca el intervalo de números aleatorios correspondiente a cada valor de cada una de las variables."
      ],
      "id": "4852dcac"
    },
    {
      "cell_type": "markdown",
      "metadata": {
        "id": "905db069"
      },
      "source": [
        "|Periodicos |**30**|**40**|**50**|**60**|**70**|\n",
        "|-----------|------|------|------|------|------|\n",
        "|   f(x)    |0.20  | 0.25 | 0.25 | 0.20 |0.10  |\n",
        "|F(x)       |0.20  | 0.45 | 0.70 | 0.90 |1.00  |\n",
        "|Intervalos |0.00 a 0.19|0.20 a 0.44|0.45 a 0.69|0.70 a 0.89|0.90 a 1.00|"
      ],
      "id": "905db069"
    },
    {
      "cell_type": "markdown",
      "metadata": {
        "id": "edb6b074"
      },
      "source": [
        "**PASO 5**. Genere números aleatorios."
      ],
      "id": "edb6b074"
    },
    {
      "cell_type": "markdown",
      "metadata": {
        "id": "WqBO99vty9XQ"
      },
      "source": [
        "x=rd.random()"
      ],
      "id": "WqBO99vty9XQ"
    },
    {
      "cell_type": "markdown",
      "metadata": {
        "id": "f38f3396"
      },
      "source": [
        "**PASO 6**. Simule un lanzamiento."
      ],
      "id": "f38f3396"
    },
    {
      "cell_type": "markdown",
      "metadata": {
        "id": "a68ba17e"
      },
      "source": [
        "|**Dia** |**Numero aleatorio**|**Ventas simuladas**|**Ventas reales**|**Ventas pedidos**|**Periodicos no vendidos**|**Beneficios (euros)**|**Beeneficio promedio**|\n",
        "|-----------|------|------|------|------|------|------|------|\n",
        "| 1    |0.25 |40 | 40| 0 |10  | -2|-2|\n",
        "|2|0.75|60|50|10|0|8|6"
      ],
      "id": "a68ba17e"
    },
    {
      "cell_type": "markdown",
      "metadata": {
        "id": "d270399e"
      },
      "source": [
        "**PASO 7**. Obtenga la gráfica de estabilización que indica que el tamaño de muestra utilizado es suficiente para \n",
        "garantizar la convergencia del resultado."
      ],
      "id": "d270399e"
    },
    {
      "cell_type": "code",
      "execution_count": null,
      "metadata": {
        "id": "2fd22e33"
      },
      "outputs": [],
      "source": [
        "import random as rd\n",
        "import matplotlib.pyplot as plt\n",
        "import numpy as np"
      ],
      "id": "2fd22e33"
    },
    {
      "cell_type": "code",
      "execution_count": null,
      "metadata": {
        "id": "32719c0f"
      },
      "outputs": [],
      "source": [
        "def ventas_sim():\n",
        "  VS=0\n",
        "  x=rd.random()\n",
        "\n",
        "  if x>=0 and x<0.20:\n",
        "    VS=30\n",
        "  elif x>=0.20 and x<0.45:\n",
        "    VS=40\n",
        "  elif x>=0.45 and x< 0.70:\n",
        "    VS=50\n",
        "  elif x>=0.70 and x<0.90:\n",
        "    VS=60\n",
        "  elif x>=0.90 and x<=1.00:\n",
        "    VS=70\n",
        "  return VS\n",
        "\n",
        "def beneficio(pedido):\n",
        " B=0\n",
        " VR=0\n",
        " VP=0\n",
        " NP=0\n",
        " vs=ventas_sim()\n",
        " if vs > pedido:\n",
        "  VR=pedido\n",
        "  VP=vs-pedido\n",
        "  NP=0\n",
        " else:\n",
        "  VR=vs\n",
        "  VP=0\n",
        "  NP=pedido-VR\n",
        "\n",
        " B=1.10*VR- 0.90*pedido - 0.10*NP - 0.20*VP\n",
        " return (B)   \n"
      ],
      "id": "32719c0f"
    },
    {
      "cell_type": "code",
      "execution_count": null,
      "metadata": {
        "colab": {
          "base_uri": "https://localhost:8080/"
        },
        "id": "aL5KQA1UFpJn",
        "outputId": "0b090967-8272-40bd-b039-5f511fe7a6a5"
      },
      "outputs": [
        {
          "output_type": "execute_result",
          "data": {
            "text/plain": [
              "-2.0"
            ]
          },
          "metadata": {},
          "execution_count": 87
        }
      ],
      "source": [
        "beneficio(50)"
      ],
      "id": "aL5KQA1UFpJn"
    },
    {
      "cell_type": "code",
      "execution_count": null,
      "metadata": {
        "id": "ef68f87c"
      },
      "outputs": [],
      "source": [
        "def simulacion(n):\n",
        "  L=[]\n",
        "  B=0\n",
        "  for i in range(n):\n",
        "    B+=beneficio(50)\n",
        "    L.append(B/(i+1))\n",
        "  return L"
      ],
      "id": "ef68f87c"
    },
    {
      "cell_type": "code",
      "source": [
        "X=simulacion(500)"
      ],
      "metadata": {
        "id": "qCVOv_xUJWMc"
      },
      "id": "qCVOv_xUJWMc",
      "execution_count": null,
      "outputs": []
    },
    {
      "cell_type": "code",
      "source": [
        "plt.plot(X)"
      ],
      "metadata": {
        "colab": {
          "base_uri": "https://localhost:8080/",
          "height": 448
        },
        "id": "msMlg2AuJcsU",
        "outputId": "b2203834-aefa-4b57-95db-ba926656ce35"
      },
      "id": "msMlg2AuJcsU",
      "execution_count": null,
      "outputs": [
        {
          "output_type": "execute_result",
          "data": {
            "text/plain": [
              "[<matplotlib.lines.Line2D at 0x7f33cfa06fe0>]"
            ]
          },
          "metadata": {},
          "execution_count": 90
        },
        {
          "output_type": "display_data",
          "data": {
            "text/plain": [
              "<Figure size 640x480 with 1 Axes>"
            ],
            "image/png": "[encoded data removed]"
          },
          "metadata": {}
        }
      ]
    },
    {
      "cell_type": "code",
      "source": [
        "np.mean(X)"
      ],
      "metadata": {
        "colab": {
          "base_uri": "https://localhost:8080/"
        },
        "id": "nH9QnwVkK8c9",
        "outputId": "1cf8170f-176c-4b25-8296-d80af5885aef"
      },
      "id": "nH9QnwVkK8c9",
      "execution_count": null,
      "outputs": [
        {
          "output_type": "execute_result",
          "data": {
            "text/plain": [
              "1.8104236224931392"
            ]
          },
          "metadata": {},
          "execution_count": 91
        }
      ]
    },
    {
      "cell_type": "markdown",
      "metadata": {
        "id": "f596fcd1"
      },
      "source": [
        "**PASO 8**. Replique el modelo."
      ],
      "id": "f596fcd1"
    },
    {
      "cell_type": "code",
      "execution_count": null,
      "metadata": {
        "id": "DAPvjT_kzzef"
      },
      "outputs": [],
      "source": [
        "def modelo(n):\n",
        "  lista=[]\n",
        "  for i in range(n):\n",
        "    s=simulacion(500)\n",
        "    lista.append(np.mean(s))\n",
        "  return lista"
      ],
      "id": "DAPvjT_kzzef"
    },
    {
      "cell_type": "code",
      "source": [
        "Y=modelo(40)"
      ],
      "metadata": {
        "id": "7FmzyqmBLems"
      },
      "id": "7FmzyqmBLems",
      "execution_count": null,
      "outputs": []
    },
    {
      "cell_type": "markdown",
      "metadata": {
        "id": "6e9bd469"
      },
      "source": [
        "**PASO 9**. Calcule la probabilidad su desviación estándar."
      ],
      "id": "6e9bd469"
    },
    {
      "cell_type": "code",
      "source": [
        "print(np.mean(Y), np.std(Y))"
      ],
      "metadata": {
        "colab": {
          "base_uri": "https://localhost:8080/"
        },
        "id": "VqQODPBvLebT",
        "outputId": "918d940b-2f79-4fa8-82bd-3d955a72bdab"
      },
      "id": "VqQODPBvLebT",
      "execution_count": null,
      "outputs": [
        {
          "output_type": "stream",
          "name": "stdout",
          "text": [
            "1.418843648066852 0.5207958840103126\n"
          ]
        }
      ]
    },
    {
      "cell_type": "code",
      "execution_count": null,
      "metadata": {
        "colab": {
          "base_uri": "https://localhost:8080/",
          "height": 430
        },
        "id": "dbeb0461",
        "outputId": "bb3a00a6-4f77-41cb-9e03-66434d07222f"
      },
      "outputs": [
        {
          "output_type": "display_data",
          "data": {
            "text/plain": [
              "<Figure size 640x480 with 1 Axes>"
            ],
            "image/png": "[encoded data removed]"
          },
          "metadata": {}
        }
      ],
      "source": [
        "plt.hist(Y)\n",
        "plt.show()"
      ],
      "id": "dbeb0461"
    },
    {
      "cell_type": "markdown",
      "metadata": {
        "id": "db8776d2"
      },
      "source": [
        "**PASO 10**. Halle el intervalo de confianza de la probabilidad con un nivel de confianza del $95 \\%$."
      ],
      "id": "db8776d2"
    },
    {
      "cell_type": "code",
      "source": [
        "from scipy.stats import norm\n",
        "media=np.mean(Y)\n",
        "de=np.std(Y, ddof=1)\n",
        "con=0.95\n",
        "IC=norm.interval(con, loc=media, scale=de/np.sqrt(len(Y)))"
      ],
      "metadata": {
        "id": "CZVZNu1RMAkT"
      },
      "id": "CZVZNu1RMAkT",
      "execution_count": null,
      "outputs": []
    },
    {
      "cell_type": "code",
      "source": [
        "print(\"Intervalo de confianza del 95%\",IC)"
      ],
      "metadata": {
        "colab": {
          "base_uri": "https://localhost:8080/"
        },
        "id": "cdqpL3fYMmm0",
        "outputId": "71ef7a30-9e5c-4c8d-e1bd-fd4d68a3c841"
      },
      "id": "cdqpL3fYMmm0",
      "execution_count": null,
      "outputs": [
        {
          "output_type": "stream",
          "name": "stdout",
          "text": [
            "Intervalo de confianza del 95% (1.0852891187584728, 1.4165699801309901)\n"
          ]
        }
      ]
    }
  ],
  "metadata": {
    "colab": {
      "provenance": [],
      "include_colab_link": true
    },
    "kernelspec": {
      "display_name": "Python 3 (ipykernel)",
      "language": "python",
      "name": "python3"
    },
    "language_info": {
      "codemirror_mode": {
        "name": "ipython",
        "version": 3
      },
      "file_extension": ".py",
      "mimetype": "text/x-python",
      "name": "python",
      "nbconvert_exporter": "python",
      "pygments_lexer": "ipython3",
      "version": "3.7.3"
    }
  },
  "nbformat": 4,
  "nbformat_minor": 5
}