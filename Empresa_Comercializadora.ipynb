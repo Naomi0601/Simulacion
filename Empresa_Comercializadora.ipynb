{
  "cells": [
    {
      "cell_type": "markdown",
      "metadata": {
        "id": "a5cc0a87"
      },
      "source": [
        "# EMPRESA COMERCIALIZADORA\n",
        "\n",
        "---\n",
        "\n"
      ],
      "id": "a5cc0a87"
    },
    {
      "cell_type": "markdown",
      "metadata": {
        "id": "51ce3fa1"
      },
      "source": [
        "## Ejercicio\n",
        "\n",
        "Una empresa dedicada a la comerzalizacion de un producto de mucho exito quiere determinar el numeor de unidades que debe comprar con el objetivo de satisfacer la demanda de sus clientes los proximos meses. La distribucion de las ventas de los ultimos tres años recoge en la tabla siguiente:\n",
        "\n",
        "|Unidades vendidas |**100**|**200**|**300**|**400**|**500**|**600**|\n",
        "|-----------|------|------|------|------|------|-----|\n",
        "|   frecuencia (meses)    |8|9|4|9|4|2|\n",
        "\n",
        "El coste de cada unidad de productos asciende a 750 euros, siendo su precio de venta unitario de 100 euros. Se sabe que dentro de un mes saldra al mercado un nuevo modelo de caracteristicas muy superiores al modelo actual. Cuando esto ocurra la empresa podra devolver al distribuidor las unidades sobrantes del modelo actual y este le indemnizara con 250 euros por cada unidad retornada."
      ],
      "id": "51ce3fa1"
    },
    {
      "cell_type": "markdown",
      "metadata": {
        "id": "564ca694"
      },
      "source": [
        "Por simulación: Construimos el modelo en varios pasos."
      ],
      "id": "564ca694"
    },
    {
      "cell_type": "markdown",
      "metadata": {
        "id": "fbbc8571"
      },
      "source": [
        "**PASO 1**. Defina las variables que intervienen en el modelo."
      ],
      "id": "fbbc8571"
    },
    {
      "cell_type": "markdown",
      "metadata": {
        "id": "ktpn7_ZjvKZ4"
      },
      "source": [
        "Las ventas mensuales del producto"
      ],
      "id": "ktpn7_ZjvKZ4"
    },
    {
      "cell_type": "markdown",
      "metadata": {
        "id": "4d3899f3"
      },
      "source": [
        "**PASO 2**. Formule la distribución de probabilidad de cada variable."
      ],
      "id": "4d3899f3"
    },
    {
      "cell_type": "markdown",
      "metadata": {
        "id": "fefa1334"
      },
      "source": [
        "|Unidades vendidas |**100**|**200**|**300**|**400**|**500**|**600**|\n",
        "|-----------|------|------|------|------|------|-----|\n",
        "|   frecuencia (meses)    |8|9|4|9|4|2|\n",
        "|   f(x)    |0.22  | 0.25 | 0.11 |  0.25|0.11|0.06|"
      ],
      "id": "fefa1334"
    },
    {
      "cell_type": "markdown",
      "metadata": {
        "id": "fd02116a"
      },
      "source": [
        "**PASO 3**. Enumere la distribución acumulada de probabilidad de cada variable."
      ],
      "id": "fd02116a"
    },
    {
      "cell_type": "markdown",
      "metadata": {
        "id": "59e252c6"
      },
      "source": [
        "|Unidades vendidas |**100**|**200**|**300**|**400**|**500**|**600**|\n",
        "|-----------|------|------|------|------|------|----|\n",
        "|   frecuencia (meses)    |8|9|4|9|4|2|\n",
        "|   f(x)    |0.22  | 0.25 | 0.11 |  0.25|0.11|0.06|\n",
        "|F(x)       |0.22  | 0.47 | 0.58 | 0.83 |0.94|1|"
      ],
      "id": "59e252c6"
    },
    {
      "cell_type": "markdown",
      "metadata": {
        "id": "4852dcac"
      },
      "source": [
        "**PASO 4**. Establezca el intervalo de números aleatorios correspondiente a cada valor de cada una de las variables."
      ],
      "id": "4852dcac"
    },
    {
      "cell_type": "markdown",
      "metadata": {
        "id": "905db069"
      },
      "source": [
        "|Unidades vendidas |**100**|**200**|**300**|**400**|**500**|**600**|\n",
        "|-----------|------|------|------|------|------|----|\n",
        "|   frecuencia (meses)    |8|9|4|9|4|2|\n",
        "|   f(x)    |0.22  | 0.25 | 0.11 |  0.25|0.11|0.06|\n",
        "|F(x)       |0.22  | 0.47 | 0.58 | 0.83 |0.94|1.00|\n",
        "|Intervalos |0.00 a 0.21|0.22 a 0.46|0.47 a 0.57|0.58 a 0.82|0.83 a 0.93|0.94 a 1.00|"
      ],
      "id": "905db069"
    },
    {
      "cell_type": "markdown",
      "metadata": {
        "id": "edb6b074"
      },
      "source": [
        "**PASO 5**. Genere números aleatorios."
      ],
      "id": "edb6b074"
    },
    {
      "cell_type": "markdown",
      "metadata": {
        "id": "WqBO99vty9XQ"
      },
      "source": [
        "x=rd.random()"
      ],
      "id": "WqBO99vty9XQ"
    },
    {
      "cell_type": "markdown",
      "metadata": {
        "id": "f38f3396"
      },
      "source": [
        "**PASO 6**. Simule un lanzamiento."
      ],
      "id": "f38f3396"
    },
    {
      "cell_type": "markdown",
      "source": [
        "Elegiremos el caso de comprar 400 unidades"
      ],
      "metadata": {
        "id": "5mpidMvbloT5"
      },
      "id": "5mpidMvbloT5"
    },
    {
      "cell_type": "markdown",
      "metadata": {
        "id": "a68ba17e"
      },
      "source": [
        "|**Numero aleatorio**|**Ventas simuladas**|**Devueltas**|**Ingreso de ventas**|**Ingreso de no devoluciones**|**Costo**|**Beeneficio**|\n",
        "|-----------|------|------|------|------|------|------|\n",
        "| 0.33|200|200|200,000|50,000|300,000|-50,000|"
      ],
      "id": "a68ba17e"
    },
    {
      "cell_type": "markdown",
      "metadata": {
        "id": "d270399e"
      },
      "source": [
        "**PASO 7**. Obtenga la gráfica de estabilización que indica que el tamaño de muestra utilizado es suficiente para\n",
        "garantizar la convergencia del resultado."
      ],
      "id": "d270399e"
    },
    {
      "cell_type": "code",
      "execution_count": null,
      "metadata": {
        "id": "2fd22e33"
      },
      "outputs": [],
      "source": [
        "import random as rd\n",
        "import matplotlib.pyplot as plt\n",
        "import numpy as np"
      ],
      "id": "2fd22e33"
    },
    {
      "cell_type": "code",
      "execution_count": null,
      "metadata": {
        "id": "32719c0f"
      },
      "outputs": [],
      "source": [
        "def ventas_sim():\n",
        "  Ventas=0\n",
        "  x=rd.random()\n",
        "\n",
        "  if x>=0 and x<0.22:\n",
        "    Ventas=100\n",
        "  elif x>=0.22 and x<0.47:\n",
        "    Ventas=200\n",
        "  elif x>=0.47 and x< 0.58:\n",
        "    Ventas=300\n",
        "  elif x>=0.58 and x<0.83:\n",
        "    Ventas=400\n",
        "  elif x>0.83 and x<=0.94:\n",
        "    Ventas=500\n",
        "  elif x>0.94 and x<=1.00:\n",
        "    Ventas=600\n",
        "  return Ventas\n",
        "\n",
        "def beneficio(pedido):\n",
        " compras=200\n",
        " ventas=ventas_sim()\n",
        " precio_unitario_venta=1000\n",
        " ingreso_unitario_devolucion=250\n",
        " ingreso=0\n",
        " devuelto=0\n",
        " ingreso_devoluciones=0\n",
        " Ben=0\n",
        " costo=0\n",
        " coste_unitario_adquision=750\n",
        "\n",
        " if compras > ventas:\n",
        "  ingreso_venta=ventas*precio_unitario_venta\n",
        "  devuelto=compras-ventas\n",
        "  ingreso_devoluciones=ingreso_unitario_devolucion*devuelto\n",
        " else:\n",
        "  ingreso_venta=compras*precio_unitario_venta\n",
        "  devuelto=0\n",
        "  ingreso_devoluciones=0\n",
        "\n",
        " costo=coste_unitario_adquision*compras\n",
        " Ben=ingreso_venta+ingreso_devoluciones-costo\n",
        " return (Ben)\n"
      ],
      "id": "32719c0f"
    },
    {
      "cell_type": "code",
      "execution_count": null,
      "metadata": {
        "colab": {
          "base_uri": "https://localhost:8080/"
        },
        "id": "aL5KQA1UFpJn",
        "outputId": "eba6e253-0b64-459d-d1f7-30b23b5cc32f"
      },
      "outputs": [
        {
          "output_type": "execute_result",
          "data": {
            "text/plain": [
              "50000"
            ]
          },
          "metadata": {},
          "execution_count": 69
        }
      ],
      "source": [
        "beneficio(50)"
      ],
      "id": "aL5KQA1UFpJn"
    },
    {
      "cell_type": "code",
      "execution_count": null,
      "metadata": {
        "id": "ef68f87c"
      },
      "outputs": [],
      "source": [
        "def simulacion(n):\n",
        "  L=[]\n",
        "  B=0\n",
        "  for i in range(n):\n",
        "    B+=beneficio(50)\n",
        "    L.append(B/(i+1))\n",
        "  return L"
      ],
      "id": "ef68f87c"
    },
    {
      "cell_type": "code",
      "source": [
        "X=simulacion(850)"
      ],
      "metadata": {
        "id": "qCVOv_xUJWMc"
      },
      "id": "qCVOv_xUJWMc",
      "execution_count": null,
      "outputs": []
    },
    {
      "cell_type": "code",
      "source": [
        "plt.plot(X)"
      ],
      "metadata": {
        "colab": {
          "base_uri": "https://localhost:8080/",
          "height": 448
        },
        "id": "msMlg2AuJcsU",
        "outputId": "54922733-54a7-4219-be57-2f105e9f0c29"
      },
      "id": "msMlg2AuJcsU",
      "execution_count": null,
      "outputs": [
        {
          "output_type": "execute_result",
          "data": {
            "text/plain": [
              "[<matplotlib.lines.Line2D at 0x7f85c264b4f0>]"
            ]
          },
          "metadata": {},
          "execution_count": 72
        },
        {
          "output_type": "display_data",
          "data": {
            "text/plain": [
              "<Figure size 640x480 with 1 Axes>"
            ],
            "image/png": "[encoded data removed]"
          },
          "metadata": {}
        }
      ]
    },
    {
      "cell_type": "code",
      "source": [
        "np.mean(X)"
      ],
      "metadata": {
        "colab": {
          "base_uri": "https://localhost:8080/"
        },
        "id": "nH9QnwVkK8c9",
        "outputId": "250ced5d-eabc-4232-ba88-9d228b7df653"
      },
      "id": "nH9QnwVkK8c9",
      "execution_count": null,
      "outputs": [
        {
          "output_type": "execute_result",
          "data": {
            "text/plain": [
              "33432.20019340959"
            ]
          },
          "metadata": {},
          "execution_count": 77
        }
      ]
    },
    {
      "cell_type": "markdown",
      "metadata": {
        "id": "f596fcd1"
      },
      "source": [
        "**PASO 8**. Replique el modelo."
      ],
      "id": "f596fcd1"
    },
    {
      "cell_type": "code",
      "execution_count": null,
      "metadata": {
        "id": "DAPvjT_kzzef"
      },
      "outputs": [],
      "source": [
        "def modelo(n):\n",
        "  lista=[]\n",
        "  for i in range(n):\n",
        "    s=simulacion(500)\n",
        "    lista.append(np.mean(s))\n",
        "  return lista"
      ],
      "id": "DAPvjT_kzzef"
    },
    {
      "cell_type": "code",
      "source": [
        "Y=modelo(40)"
      ],
      "metadata": {
        "id": "7FmzyqmBLems"
      },
      "id": "7FmzyqmBLems",
      "execution_count": null,
      "outputs": []
    },
    {
      "cell_type": "markdown",
      "metadata": {
        "id": "6e9bd469"
      },
      "source": [
        "**PASO 9**. Calcule la probabilidad su desviación estándar."
      ],
      "id": "6e9bd469"
    },
    {
      "cell_type": "code",
      "source": [
        "print(np.mean(X), np.std(X))"
      ],
      "metadata": {
        "colab": {
          "base_uri": "https://localhost:8080/"
        },
        "id": "VqQODPBvLebT",
        "outputId": "77c7af64-c901-4b5c-bd49-d45dfce22057"
      },
      "id": "VqQODPBvLebT",
      "execution_count": null,
      "outputs": [
        {
          "output_type": "stream",
          "name": "stdout",
          "text": [
            "33432.20019340959 2404.8152249273417\n"
          ]
        }
      ]
    },
    {
      "cell_type": "code",
      "execution_count": null,
      "metadata": {
        "colab": {
          "base_uri": "https://localhost:8080/",
          "height": 430
        },
        "id": "dbeb0461",
        "outputId": "9d410737-23fa-4abf-9d0c-eef8ed23c1bc"
      },
      "outputs": [
        {
          "output_type": "display_data",
          "data": {
            "text/plain": [
              "<Figure size 640x480 with 1 Axes>"
            ],
            "image/png": "[encoded data removed]"
          },
          "metadata": {}
        }
      ],
      "source": [
        "plt.hist(Y)\n",
        "plt.show()"
      ],
      "id": "dbeb0461"
    },
    {
      "cell_type": "markdown",
      "metadata": {
        "id": "db8776d2"
      },
      "source": [
        "**PASO 10**. Halle el intervalo de confianza de la probabilidad con un nivel de confianza del $95 \\%$."
      ],
      "id": "db8776d2"
    },
    {
      "cell_type": "code",
      "source": [
        "from scipy.stats import norm\n",
        "media=np.mean(Y)\n",
        "de=np.std(Y, ddof=1)\n",
        "con=0.95\n",
        "IC=norm.interval(con, loc=media, scale=de/np.sqrt(len(Y)))"
      ],
      "metadata": {
        "id": "CZVZNu1RMAkT"
      },
      "id": "CZVZNu1RMAkT",
      "execution_count": null,
      "outputs": []
    },
    {
      "cell_type": "code",
      "source": [
        "print(\"Intervalo de confianza del 95%\",IC)"
      ],
      "metadata": {
        "colab": {
          "base_uri": "https://localhost:8080/"
        },
        "id": "cdqpL3fYMmm0",
        "outputId": "b3e371f1-8666-47ea-ff39-7346c218fd62"
      },
      "id": "cdqpL3fYMmm0",
      "execution_count": null,
      "outputs": [
        {
          "output_type": "stream",
          "name": "stdout",
          "text": [
            "Intervalo de confianza del 95% (32532.20063479068, 33776.85009119596)\n"
          ]
        }
      ]
    }
  ],
  "metadata": {
    "colab": {
      "provenance": []
    },
    "kernelspec": {
      "display_name": "Python 3 (ipykernel)",
      "language": "python",
      "name": "python3"
    },
    "language_info": {
      "codemirror_mode": {
        "name": "ipython",
        "version": 3
      },
      "file_extension": ".py",
      "mimetype": "text/x-python",
      "name": "python",
      "nbconvert_exporter": "python",
      "pygments_lexer": "ipython3",
      "version": "3.7.3"
    }
  },
  "nbformat": 4,
  "nbformat_minor": 5
}