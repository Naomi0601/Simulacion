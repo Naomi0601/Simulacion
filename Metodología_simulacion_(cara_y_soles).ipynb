{
  "cells": [
    {
      "cell_type": "markdown",
      "id": "a5cc0a87",
      "metadata": {
        "id": "a5cc0a87"
      },
      "source": [
        "# Metodología de la Simulación (CARAS Y SOLES)"
      ]
    },
    {
      "cell_type": "markdown",
      "id": "0e218d98",
      "metadata": {
        "id": "0e218d98"
      },
      "source": [
        "### 1. Identifique las variables\n",
        "\n",
        "Aquellas cuyo comportamiento define el comportamiento o la evoución global del sistema real."
      ]
    },
    {
      "cell_type": "markdown",
      "id": "3ebcd0f2",
      "metadata": {
        "id": "3ebcd0f2"
      },
      "source": [
        "### 2. Determine la distribución de probabilidad\n",
        "\n",
        "Elija el tipo de distribución de probabilidad que mejor defina el comportamiento aleatorio de cada una de las variables del sistema identificadas en el paso anterior."
      ]
    },
    {
      "cell_type": "markdown",
      "id": "803801d5",
      "metadata": {
        "id": "803801d5"
      },
      "source": [
        "### 3. Modele las variables aleatorias\n",
        "\n",
        "Cosntruya un modelo fiel de la aleatoriedad de las variables del sistema. Simular el comportamiento del sistema implica generar muestras aleatorias de cada variable que sigan fielmente la distribución de probabilidad correspondiente."
      ]
    },
    {
      "cell_type": "markdown",
      "id": "33709223",
      "metadata": {
        "id": "33709223"
      },
      "source": [
        "### 4. Defina el modelo del sistema y los objetivos de la simulación\n",
        "\n",
        "Fije los objetivos y diseñe un modelo del sistema real que abstraiga sus propiedades más relevantes. Todo error en el modelo (o su implementación computacional) puede dar lugar a conclusiones equivocadas.\n",
        "\n",
        "Antes de experimentar con el modelo, asegurarse de que refleja fielmente el sistema real **validando** el mismo a partir de datos reales, para ello compare los resultados obtenidos de la simulación con los producidos por el sistema."
      ]
    },
    {
      "cell_type": "markdown",
      "id": "7f853065",
      "metadata": {
        "id": "7f853065"
      },
      "source": [
        "### 5. Diseñe el experimento\n",
        "\n",
        "Diseñe un experimento así como las ejecuciones concretas del mismo, los escenarios que desea estudiar para alcanzar los objetivos fijados. El experimento consiste en generar valores de las variables cuyo comportamiento define el comportamiento del sistema y analizar este ante dichos valores."
      ]
    },
    {
      "cell_type": "markdown",
      "id": "15ae61c8",
      "metadata": {
        "id": "15ae61c8"
      },
      "source": [
        "### 6. Repita el experimento $n$ veces\n",
        "\n",
        "Así dispondrá de $n$ observaciones sobre el comportamiento del sistema, lo que permitirá entender su funcionamiento así como evaluar el desempeño del mismo frente a los diversos escenarios establecidos.\n",
        "\n",
        "El **método Monte Carlo** se basa en la **Ley Fuerte de los Grandes Números** y el **Teorema del Límite Central**."
      ]
    },
    {
      "cell_type": "markdown",
      "id": "51ce3fa1",
      "metadata": {
        "id": "51ce3fa1"
      },
      "source": [
        "## Ejemplo\n",
        "\n",
        "Calcule la probabilidad de que aparezcan dos caras lanzando tres veces una moneda al aire.\n",
        "\n",
        "1. Analíticamente.\n",
        "2. Mediante simulación."
      ]
    },
    {
      "cell_type": "markdown",
      "id": "6f1b4105",
      "metadata": {
        "id": "6f1b4105"
      },
      "source": [
        "Analiticamente:"
      ]
    },
    {
      "cell_type": "code",
      "execution_count": null,
      "id": "bb5e678d",
      "metadata": {
        "id": "bb5e678d"
      },
      "outputs": [],
      "source": [
        "import scipy\n",
        "import matplotlib\n",
        "from math import factorial"
      ]
    },
    {
      "cell_type": "code",
      "source": [
        "def factorial(n):\n",
        "  if n==0 or n==1:\n",
        "    resultado=1\n",
        "  elif n>1:\n",
        "    resultado=n*factorial(n-1)\n",
        "  return resultado"
      ],
      "metadata": {
        "id": "k51SPW7KDxLl"
      },
      "id": "k51SPW7KDxLl",
      "execution_count": null,
      "outputs": []
    },
    {
      "cell_type": "code",
      "source": [
        "x=(factorial(3))/(factorial(2)*factorial(3-2))*(0.5**2)*((1-0.5)**(3-2))\n",
        "print(\"La probabilidad es \",(x*100),\"%\")\n"
      ],
      "metadata": {
        "colab": {
          "base_uri": "https://localhost:8080/"
        },
        "id": "YE3qc51my4CU",
        "outputId": "0ae3cf3d-d225-4caa-f73f-35469b603d69"
      },
      "id": "YE3qc51my4CU",
      "execution_count": null,
      "outputs": [
        {
          "output_type": "stream",
          "name": "stdout",
          "text": [
            "La probabilidad es  37.5 %\n"
          ]
        }
      ]
    },
    {
      "cell_type": "markdown",
      "id": "564ca694",
      "metadata": {
        "id": "564ca694"
      },
      "source": [
        "Por simulación: Construimos el modelo en varios pasos."
      ]
    },
    {
      "cell_type": "markdown",
      "id": "fbbc8571",
      "metadata": {
        "id": "fbbc8571"
      },
      "source": [
        "**PASO 1**. Defina las variables que intervienen en el modelo."
      ]
    },
    {
      "cell_type": "code",
      "execution_count": null,
      "id": "37c5f31c",
      "metadata": {
        "id": "37c5f31c"
      },
      "outputs": [],
      "source": [
        "x=2;"
      ]
    },
    {
      "cell_type": "markdown",
      "id": "4d3899f3",
      "metadata": {
        "id": "4d3899f3"
      },
      "source": [
        "**PASO 2**. Formule la distribución de probabilidad de cada variable."
      ]
    },
    {
      "cell_type": "markdown",
      "id": "fefa1334",
      "metadata": {
        "id": "fefa1334"
      },
      "source": [
        "\n",
        "|      |**Sol**|**Aguila**|\n",
        "|------|-------|----------|\n",
        "|f(x)|       0.5  |   0.5       |"
      ]
    },
    {
      "cell_type": "markdown",
      "id": "fd02116a",
      "metadata": {
        "id": "fd02116a"
      },
      "source": [
        "**PASO 3**. Enumere la distribución acumulada de probabilidad de cada variable."
      ]
    },
    {
      "cell_type": "markdown",
      "id": "59e252c6",
      "metadata": {
        "id": "59e252c6"
      },
      "source": [
        "|      |**Sol**|**Aguila**|\n",
        "|------|-------|----------|\n",
        "|f(x)  | 0.5   |   0.5    |\n",
        "|F(x)  | 0.5   |    1     |"
      ]
    },
    {
      "cell_type": "markdown",
      "id": "4852dcac",
      "metadata": {
        "id": "4852dcac"
      },
      "source": [
        "**PASO 4**. Establezca el intervalo de números aleatorios correspondiente a cada valor de cada una de las variables."
      ]
    },
    {
      "cell_type": "markdown",
      "id": "905db069",
      "metadata": {
        "id": "905db069"
      },
      "source": [
        "|           |**Sol**|**Aguila**|\n",
        "|-----------|-------|----------|\n",
        "|f(x)       |    0.5   |    0.5      |\n",
        "|F(x)       |     0.5  |    1      |\n",
        "|Intervalos | (0,0.5)  |   (0.5,1)       |"
      ]
    },
    {
      "cell_type": "markdown",
      "id": "edb6b074",
      "metadata": {
        "id": "edb6b074"
      },
      "source": [
        "**PASO 5**. Genere números aleatorios."
      ]
    },
    {
      "cell_type": "code",
      "source": [
        "import numpy as np\n",
        "import random as rand"
      ],
      "metadata": {
        "id": "cyFtH3Z6F2zU"
      },
      "id": "cyFtH3Z6F2zU",
      "execution_count": null,
      "outputs": []
    },
    {
      "cell_type": "markdown",
      "id": "f38f3396",
      "metadata": {
        "id": "f38f3396"
      },
      "source": [
        "**PASO 6**. Simule un lanzamiento."
      ]
    },
    {
      "cell_type": "code",
      "source": [
        "Lista=[]\n",
        "caras=0;\n",
        "for i in range(3):\n",
        "  Lista.append(rand.uniform(0,1))\n",
        "print(Lista)\n"
      ],
      "metadata": {
        "colab": {
          "base_uri": "https://localhost:8080/"
        },
        "id": "8lqSBYbwF-2S",
        "outputId": "7ecef183-9de6-41fe-9704-7498d0d84ce1"
      },
      "id": "8lqSBYbwF-2S",
      "execution_count": null,
      "outputs": [
        {
          "output_type": "stream",
          "name": "stdout",
          "text": [
            "[0.16592001537384216, 0.5749158025173023, 0.2084393305644494]\n"
          ]
        }
      ]
    },
    {
      "cell_type": "code",
      "source": [
        "for i in range(3):\n",
        "  if Lista[i]<0.5:\n",
        "    caras=caras+1;\n",
        "  else:\n",
        "    caras=caras+0\n",
        "print(\"El numero de caras es\",caras)\n"
      ],
      "metadata": {
        "colab": {
          "base_uri": "https://localhost:8080/"
        },
        "id": "lJ02rIqBHJKr",
        "outputId": "2f00419b-f0e2-4895-a349-e0f5421e1fca"
      },
      "id": "lJ02rIqBHJKr",
      "execution_count": null,
      "outputs": [
        {
          "output_type": "stream",
          "name": "stdout",
          "text": [
            "El numero de caras es 2\n"
          ]
        }
      ]
    },
    {
      "cell_type": "markdown",
      "source": [
        "calcularemos la probabilidad P(caras)=caras/numero de ensayos"
      ],
      "metadata": {
        "id": "Pv0GtjivJqfq"
      },
      "id": "Pv0GtjivJqfq"
    },
    {
      "cell_type": "code",
      "source": [
        "p=caras/len(Lista)\n",
        "print(\"La probabilidad es de\",caras,\"caras es\",p)"
      ],
      "metadata": {
        "colab": {
          "base_uri": "https://localhost:8080/"
        },
        "id": "XTbei0l_JqP4",
        "outputId": "89dd1706-66d9-407b-921c-16bacc12a0ab"
      },
      "id": "XTbei0l_JqP4",
      "execution_count": null,
      "outputs": [
        {
          "output_type": "stream",
          "name": "stdout",
          "text": [
            "La probabilidad es de 2 caras es 0.6666666666666666\n"
          ]
        }
      ]
    },
    {
      "cell_type": "markdown",
      "id": "d270399e",
      "metadata": {
        "id": "d270399e"
      },
      "source": [
        "**PASO 7**. Obtenga la gráfica de estabilización que indica que el tamaño de muestra utilizado es suficiente para\n",
        "garantizar la convergencia del resultado."
      ]
    },
    {
      "cell_type": "code",
      "source": [
        "import numpy as np\n",
        "import random\n",
        "import matplotlib.pyplot as plt"
      ],
      "metadata": {
        "id": "p2I4LX0NnQSr"
      },
      "id": "p2I4LX0NnQSr",
      "execution_count": null,
      "outputs": []
    },
    {
      "cell_type": "code",
      "source": [
        "def volados(n):\n",
        "    caras = 0\n",
        "    for i in range(n):\n",
        "        u = random.uniform(0,1)\n",
        "        if u <= 0.5:\n",
        "            caras += 1\n",
        "    return caras"
      ],
      "metadata": {
        "id": "S49HkZWKnRZb"
      },
      "id": "S49HkZWKnRZb",
      "execution_count": null,
      "outputs": []
    },
    {
      "cell_type": "code",
      "source": [
        "def caras(m):\n",
        "    favorable = 0\n",
        "    if volados(3) == m:\n",
        "        favorable +=1\n",
        "    return favorable"
      ],
      "metadata": {
        "id": "hA8cooFPnTep"
      },
      "id": "hA8cooFPnTep",
      "execution_count": null,
      "outputs": []
    },
    {
      "cell_type": "code",
      "source": [
        "def experimento(iteraciones):\n",
        "    i = 0\n",
        "    favorables=0\n",
        "    Lista = []\n",
        "    while i <= iteraciones:\n",
        "        favorables = favorables + caras(2)\n",
        "        i += 1\n",
        "        probabilidad = favorables/i\n",
        "        Lista.append(probabilidad)\n",
        "    return Lista"
      ],
      "metadata": {
        "id": "pcSym0gjnV24"
      },
      "id": "pcSym0gjnV24",
      "execution_count": null,
      "outputs": []
    },
    {
      "cell_type": "code",
      "source": [
        "exp = experimento(2000)"
      ],
      "metadata": {
        "id": "4KZTNX97nZSO"
      },
      "id": "4KZTNX97nZSO",
      "execution_count": null,
      "outputs": []
    },
    {
      "cell_type": "code",
      "source": [
        "np.mean(exp)"
      ],
      "metadata": {
        "colab": {
          "base_uri": "https://localhost:8080/"
        },
        "id": "JGe5JnmRnb_u",
        "outputId": "63d2691a-cbe5-44ed-9395-7b652efd2481"
      },
      "id": "JGe5JnmRnb_u",
      "execution_count": null,
      "outputs": [
        {
          "output_type": "execute_result",
          "data": {
            "text/plain": [
              "0.3685716521720774"
            ]
          },
          "metadata": {},
          "execution_count": 14
        }
      ]
    },
    {
      "cell_type": "code",
      "source": [
        "plt.plot(exp)\n",
        "plt.xlabel('iteraciones')\n",
        "plt.ylabel('p')\n",
        "plt.title('Probabilidad de obtener 2 caras')\n",
        "plt.show()"
      ],
      "metadata": {
        "colab": {
          "base_uri": "https://localhost:8080/",
          "height": 472
        },
        "id": "eE2TkoszncWI",
        "outputId": "bf4782f1-2d4a-4c95-a3bb-8f85bf233edf"
      },
      "id": "eE2TkoszncWI",
      "execution_count": null,
      "outputs": [
        {
          "output_type": "display_data",
          "data": {
            "text/plain": [
              "<Figure size 640x480 with 1 Axes>"
            ],
            "image/png": "[encoded data removed]"
          },
          "metadata": {}
        }
      ]
    },
    {
      "cell_type": "markdown",
      "id": "4b616586",
      "metadata": {
        "id": "4b616586"
      },
      "source": [
        "**PASO 8**. Replique el modelo."
      ]
    },
    {
      "cell_type": "code",
      "execution_count": null,
      "id": "b3beace6",
      "metadata": {
        "id": "b3beace6"
      },
      "outputs": [],
      "source": [
        "def simulacion_caras(repeticiones):\n",
        "    List = []\n",
        "    for i in range(repeticiones):\n",
        "        List.append(np.mean(experimento(1000)))\n",
        "    return List"
      ]
    },
    {
      "cell_type": "code",
      "source": [
        "simulacion = simulacion_caras(50)"
      ],
      "metadata": {
        "id": "EBFTJs-tny1s"
      },
      "id": "EBFTJs-tny1s",
      "execution_count": null,
      "outputs": []
    },
    {
      "cell_type": "code",
      "source": [
        "plt.hist(simulacion)\n",
        "plt.xlabel('iteraciones')\n",
        "plt.ylabel('p')\n",
        "plt.title('Probabilidad')\n",
        "plt.show()"
      ],
      "metadata": {
        "colab": {
          "base_uri": "https://localhost:8080/",
          "height": 472
        },
        "id": "dMBkG_obnymF",
        "outputId": "fdb78c2c-8ce9-41c4-c316-2b235ad6403b"
      },
      "id": "dMBkG_obnymF",
      "execution_count": null,
      "outputs": [
        {
          "output_type": "display_data",
          "data": {
            "text/plain": [
              "<Figure size 640x480 with 1 Axes>"
            ],
            "image/png": "[encoded data removed]"
          },
          "metadata": {}
        }
      ]
    },
    {
      "cell_type": "markdown",
      "id": "ed50eae0",
      "metadata": {
        "id": "ed50eae0"
      },
      "source": [
        "**PASO 9**. Calcule la probabilidad de que aparezcan dos caras lanzando tres veces una moneda al aire y su desviación\n",
        "estándar."
      ]
    },
    {
      "cell_type": "code",
      "execution_count": null,
      "id": "d3ddd8fd",
      "metadata": {
        "id": "d3ddd8fd",
        "colab": {
          "base_uri": "https://localhost:8080/"
        },
        "outputId": "11ef4b1f-7b53-47bc-aad1-3e164b9df040"
      },
      "outputs": [
        {
          "output_type": "execute_result",
          "data": {
            "text/plain": [
              "(0.3759547381340384, 0.0003863953581197713, 0.019656941728554096)"
            ]
          },
          "metadata": {},
          "execution_count": 25
        }
      ],
      "source": [
        "np.mean(simulacion), np.var(simulacion), np.std(simulacion)"
      ]
    },
    {
      "cell_type": "markdown",
      "id": "e5b90e8e",
      "metadata": {
        "id": "e5b90e8e"
      },
      "source": [
        "**PASO 10**. Halle el intervalo de confianza de la probabilidad de queaparezcan dos caras lanzando tres veces una moneda\n",
        "al aire con un nivel de confianza del $95 \\%$."
      ]
    },
    {
      "cell_type": "code",
      "execution_count": null,
      "id": "2fd22e33",
      "metadata": {
        "id": "2fd22e33",
        "colab": {
          "base_uri": "https://localhost:8080/"
        },
        "outputId": "fd542f08-3aa4-4529-f3ea-f10320e91bb9"
      },
      "outputs": [
        {
          "output_type": "stream",
          "name": "stdout",
          "text": [
            "0.38140336439714895\n"
          ]
        }
      ],
      "source": [
        "ls=np.mean(simulacion)+(1.96*(np.std(simulacion)/np.sqrt(50)))\n",
        "print(ls)"
      ]
    },
    {
      "cell_type": "code",
      "source": [
        "li=np.mean(simulacion)-(1.96*(np.std(simulacion)/np.sqrt(50)))\n",
        "print(li)"
      ],
      "metadata": {
        "colab": {
          "base_uri": "https://localhost:8080/"
        },
        "id": "5pPejD7_9brM",
        "outputId": "8ca8ca3e-3922-47b8-c9f8-c0aa9624dc73"
      },
      "id": "5pPejD7_9brM",
      "execution_count": null,
      "outputs": [
        {
          "output_type": "stream",
          "name": "stdout",
          "text": [
            "0.37050611187092786\n"
          ]
        }
      ]
    },
    {
      "cell_type": "code",
      "source": [
        "print(\"Los valores son:\")\n",
        "print(li,\"<=\",np.mean(simulacion),\"<=\",ls)"
      ],
      "metadata": {
        "colab": {
          "base_uri": "https://localhost:8080/"
        },
        "id": "kTK3bM1P9dR-",
        "outputId": "41b8ba04-7b36-421e-ead6-2fa26deda421"
      },
      "id": "kTK3bM1P9dR-",
      "execution_count": null,
      "outputs": [
        {
          "output_type": "stream",
          "name": "stdout",
          "text": [
            "Los valores son:\n",
            "0.37050611187092786 <= 0.3759547381340384 <= 0.38140336439714895\n"
          ]
        }
      ]
    }
  ],
  "metadata": {
    "kernelspec": {
      "display_name": "Python 3 (ipykernel)",
      "language": "python",
      "name": "python3"
    },
    "language_info": {
      "codemirror_mode": {
        "name": "ipython",
        "version": 3
      },
      "file_extension": ".py",
      "mimetype": "text/x-python",
      "name": "python",
      "nbconvert_exporter": "python",
      "pygments_lexer": "ipython3",
      "version": "3.7.3"
    },
    "colab": {
      "provenance": []
    }
  },
  "nbformat": 4,
  "nbformat_minor": 5
}