{
  "nbformat": 4,
  "nbformat_minor": 0,
  "metadata": {
    "colab": {
      "provenance": []
    },
    "kernelspec": {
      "name": "python3",
      "display_name": "Python 3"
    },
    "language_info": {
      "name": "python"
    }
  },
  "cells": [
    {
      "cell_type": "markdown",
      "source": [
        "### ***EJERCICIO 1*** **CABRERA HERNANDEZ NAOMI ITZEL**"
      ],
      "metadata": {
        "id": "SFgpiZ2QPncD"
      }
    },
    {
      "cell_type": "markdown",
      "source": [
        "**Dos personas han quedado citas en un determinado lugar. Ambas tienen la misma probabilidad de llegar al lugar de la cita en el intervalo de tiempo [0, 30].**\n",
        "\n",
        "\n",
        "**Determínese la probabilidad de que el tiempo que una persona espere a la otra sea como máximo 10.**\n"
      ],
      "metadata": {
        "id": "G0EqEbWGPuOI"
      }
    },
    {
      "cell_type": "markdown",
      "source": [
        "***a)Por simulacion*** \\\n",
        "***b)Analiticamente***"
      ],
      "metadata": {
        "id": "CYPVT9sSQ1If"
      }
    },
    {
      "cell_type": "markdown",
      "source": [
        "**a)Por simulacion: Construimos el modelo en varios pasos**"
      ],
      "metadata": {
        "id": "C7dOQ7JORXAA"
      }
    },
    {
      "cell_type": "markdown",
      "source": [
        "**PASO 1.** Identifique las variables \n",
        "\n",
        "Tenemos dos: $x_1$ y $x_2$."
      ],
      "metadata": {
        "id": "lJkau-u5dMmA"
      }
    },
    {
      "cell_type": "markdown",
      "source": [
        "**PASO 2 y 3.** Determine la distribución de probabilidad y modele las variables aleatorias \n",
        "\n",
        " $x_1 \\sim U(0,30)$\n",
        " \n",
        "  $x_2 \\sim U(0,30)$."
      ],
      "metadata": {
        "id": "p5QEHx9idSAV"
      }
    },
    {
      "cell_type": "markdown",
      "source": [
        "**PASO 4.** Defina el modelo del sistema y los objetivos de la simulación "
      ],
      "metadata": {
        "id": "lXgxZqvcZi1y"
      }
    },
    {
      "cell_type": "markdown",
      "source": [
        "La diferencia $|x_1 - x_2|$ modela adecuadamente el sistema.\n",
        "\n",
        "Si $|x_2 - x_1| > 10$ \n",
        "si a persona espera mas de 10 min, supera el tiempo de espera. \n",
        "$|x_2 - x_1| \\leq 10$ De lo contrario, el tiempo que espera una persona a la otra es maximo de 10 \n"
      ],
      "metadata": {
        "id": "VfQmqxX7dz_l"
      }
    },
    {
      "cell_type": "code",
      "source": [
        "import numpy as np\n",
        "import random\n",
        "import matplotlib.pyplot as plt\n",
        "from scipy.stats import norm"
      ],
      "metadata": {
        "id": "tNhUYvvhRoif"
      },
      "execution_count": 1,
      "outputs": []
    },
    {
      "cell_type": "code",
      "source": [
        "def llegada():                \n",
        "    positivo=0                      \n",
        "    x_1 = random.uniform(0,30) \n",
        "    x_2 = random.uniform(0,30)\n",
        "    if  abs(x_2 - x_1)<=10.0 :\n",
        "        positivo += 1\n",
        "    return positivo"
      ],
      "metadata": {
        "id": "0WUf6UqkW6XD"
      },
      "execution_count": 2,
      "outputs": []
    },
    {
      "cell_type": "code",
      "source": [
        "llegada()"
      ],
      "metadata": {
        "colab": {
          "base_uri": "https://localhost:8080/"
        },
        "id": "6ZMO_qLrYNO-",
        "outputId": "5c13ed9d-9adb-42ac-938a-ac57f67b4609"
      },
      "execution_count": 3,
      "outputs": [
        {
          "output_type": "execute_result",
          "data": {
            "text/plain": [
              "0"
            ]
          },
          "metadata": {},
          "execution_count": 3
        }
      ]
    },
    {
      "cell_type": "markdown",
      "source": [
        "**PASO 5.** Diseñe el experimento\n",
        "\n",
        "Para estimar la probabilidad de interferencia, ejecutamos $n$ veces la función anterior y calculamos de manera acumulativa\n",
        "la probabilidad de interferencia."
      ],
      "metadata": {
        "id": "hQ5QqESJZpGB"
      }
    },
    {
      "cell_type": "code",
      "source": [
        "def prob_llegar(n):                    \n",
        "    prob = []                       # Esta funcion devuelve esta lista \"prob\", con los valores de la probabilidad\n",
        "    pos = 0                       # estimada al contar las veces que hay interferencia y dividir entre las veces que \n",
        "    for i in range(n):              # se ha reptido la observacion mientras aumenta el numero de iteraciones.\n",
        "        pos += llegada()\n",
        "        prob.append(pos/(i+1))\n",
        "    return prob"
      ],
      "metadata": {
        "id": "g1Nq1l7CYalx"
      },
      "execution_count": 4,
      "outputs": []
    },
    {
      "cell_type": "code",
      "source": [
        "X = prob_llegar(500) "
      ],
      "metadata": {
        "id": "nzHpkeZHYfUn"
      },
      "execution_count": 5,
      "outputs": []
    },
    {
      "cell_type": "code",
      "source": [
        "plt.plot(X) "
      ],
      "metadata": {
        "colab": {
          "base_uri": "https://localhost:8080/",
          "height": 447
        },
        "id": "zYkgGB-sYhiT",
        "outputId": "b73fad7a-9270-4b15-aa98-38421ce1da22"
      },
      "execution_count": 6,
      "outputs": [
        {
          "output_type": "execute_result",
          "data": {
            "text/plain": [
              "[<matplotlib.lines.Line2D at 0x7f0937f787c0>]"
            ]
          },
          "metadata": {},
          "execution_count": 6
        },
        {
          "output_type": "display_data",
          "data": {
            "text/plain": [
              "<Figure size 640x480 with 1 Axes>"
            ],
            "image/png": "[encoded data removed]"
          },
          "metadata": {}
        }
      ]
    },
    {
      "cell_type": "code",
      "source": [
        "print(np.mean(X), np.std(X))"
      ],
      "metadata": {
        "colab": {
          "base_uri": "https://localhost:8080/"
        },
        "id": "rqpmyqJKYlKm",
        "outputId": "f7ac0c12-2ad7-488f-d07b-f4fcb46c87b4"
      },
      "execution_count": 7,
      "outputs": [
        {
          "output_type": "stream",
          "name": "stdout",
          "text": [
            "0.586223971665245 0.043709946794354575\n"
          ]
        }
      ]
    },
    {
      "cell_type": "markdown",
      "source": [
        "**PASO 6.** Repita el experimento $n$ veces "
      ],
      "metadata": {
        "id": "mrSV9aG5Z47z"
      }
    },
    {
      "cell_type": "code",
      "source": [
        "def modelo(n):\n",
        "    lista=[]\n",
        "    for i in range(n):\n",
        "        s = prob_llegar(500)\n",
        "        lista.append(np.mean(s))\n",
        "    return lista"
      ],
      "metadata": {
        "id": "Yp5TqtgEYxn7"
      },
      "execution_count": 9,
      "outputs": []
    },
    {
      "cell_type": "code",
      "source": [
        "Y=modelo(120)"
      ],
      "metadata": {
        "id": "TqZHn5oxY0A3"
      },
      "execution_count": 10,
      "outputs": []
    },
    {
      "cell_type": "code",
      "source": [
        "plt.hist(Y)\n",
        "plt.show()"
      ],
      "metadata": {
        "colab": {
          "base_uri": "https://localhost:8080/",
          "height": 430
        },
        "id": "PCUd4CfMY1x8",
        "outputId": "9d66da30-8d8e-4c4d-c17a-c7f6086f5670"
      },
      "execution_count": 11,
      "outputs": [
        {
          "output_type": "display_data",
          "data": {
            "text/plain": [
              "<Figure size 640x480 with 1 Axes>"
            ],
            "image/png": "[encoded data removed]"
          },
          "metadata": {}
        }
      ]
    },
    {
      "cell_type": "code",
      "source": [
        "print(np.mean(Y), np.std(Y))"
      ],
      "metadata": {
        "colab": {
          "base_uri": "https://localhost:8080/"
        },
        "id": "izziR-tmY62s",
        "outputId": "fb884e0b-0e3c-4774-a936-9341008f5752"
      },
      "execution_count": 12,
      "outputs": [
        {
          "output_type": "stream",
          "name": "stdout",
          "text": [
            "0.5527021571322606 0.0334143449063436\n"
          ]
        }
      ]
    },
    {
      "cell_type": "markdown",
      "source": [
        "**PASO 7.** Hallamos el intervalo de confianza del 95%\n"
      ],
      "metadata": {
        "id": "JLuY58gnZ-UE"
      }
    },
    {
      "cell_type": "markdown",
      "source": [
        "\n",
        "$$\\bar{x}-z_{\\alpha/2} \\cdot \\frac{s}{\\sqrt{n}} < \\mu < \\bar{x}+z_{\\alpha/2}\\cdot \\frac{s}{\\sqrt{n}}$$"
      ],
      "metadata": {
        "id": "dvEU_ry1ERSq"
      }
    },
    {
      "cell_type": "code",
      "source": [
        "np.mean(Y)"
      ],
      "metadata": {
        "colab": {
          "base_uri": "https://localhost:8080/"
        },
        "id": "hXA8CPLxZX67",
        "outputId": "0bd26027-cdaa-4424-fcff-8b8298bc9b45"
      },
      "execution_count": 13,
      "outputs": [
        {
          "output_type": "execute_result",
          "data": {
            "text/plain": [
              "0.5527021571322606"
            ]
          },
          "metadata": {},
          "execution_count": 13
        }
      ]
    },
    {
      "cell_type": "code",
      "source": [
        "np.mean(Y) - 1.96*np.std(Y)/np.sqrt(50), np.mean(Y) + 1.96*np.std(Y)/np.sqrt(50)"
      ],
      "metadata": {
        "colab": {
          "base_uri": "https://localhost:8080/"
        },
        "id": "G5PwG-zmZbz9",
        "outputId": "985b8063-8e9f-4a69-c3da-4150dd076eaa"
      },
      "execution_count": 14,
      "outputs": [
        {
          "output_type": "execute_result",
          "data": {
            "text/plain": [
              "(0.5434401732623654, 0.5619641410021557)"
            ]
          },
          "metadata": {},
          "execution_count": 14
        }
      ]
    },
    {
      "cell_type": "markdown",
      "source": [
        "**b)Analiticamente**"
      ],
      "metadata": {
        "id": "gKzvSpecRTLO"
      }
    },
    {
      "cell_type": "markdown",
      "source": [
        "Definimos anteriormente dos variables por lo que tenemos\n",
        "\n",
        "$f(x_i)=\\frac{1}{b-a}=\\frac{1}{30}$\n",
        "\n",
        "por lo que\n",
        "\n",
        "\n"
      ],
      "metadata": {
        "id": "HjIY7toOF0Un"
      }
    },
    {
      "cell_type": "markdown",
      "source": [
        "\n",
        "f(x) =${\\begin{array}{lcc}\n",
        "    \\frac{1}{30^2} & si & 0 \\leq x_1,x_2 \\leq 30 \\\\\n",
        "     0 & des otra manera \\\\\n",
        "\\end{array}}$"
      ],
      "metadata": {
        "id": "K4XQCT2oapbz"
      }
    },
    {
      "cell_type": "markdown",
      "source": [
        "Por lo que tenemos la siguiente integral "
      ],
      "metadata": {
        "id": "xjfEy_6mZI4h"
      }
    },
    {
      "cell_type": "markdown",
      "source": [
        "$ 1-2  \\int_{10}^{30} \\! \\int_{0}^{x_1-10} \\! \\frac{1}{30^2} \\,dx_2 dx_1 $ \n"
      ],
      "metadata": {
        "id": "xM3IgoSzZMmy"
      }
    },
    {
      "cell_type": "code",
      "source": [],
      "metadata": {
        "id": "_tG13YmQcmU-"
      },
      "execution_count": null,
      "outputs": []
    },
    {
      "cell_type": "markdown",
      "source": [
        "Al realizarla en alguna aplicacion tenemos lo siguiente"
      ],
      "metadata": {
        "id": "9kvuv14wccWr"
      }
    },
    {
      "cell_type": "markdown",
      "source": [
        "$\\frac{5}{8} =0.555 $"
      ],
      "metadata": {
        "id": "ta4_lYKpciOY"
      }
    },
    {
      "cell_type": "markdown",
      "source": [
        "La probabilidad es del 55.55%"
      ],
      "metadata": {
        "id": "uej4YPsBaWL9"
      }
    }
  ]
}