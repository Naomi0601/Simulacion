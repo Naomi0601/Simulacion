{
  "nbformat": 4,
  "nbformat_minor": 0,
  "metadata": {
    "colab": {
      "provenance": []
    },
    "kernelspec": {
      "name": "python3",
      "display_name": "Python 3"
    },
    "language_info": {
      "name": "python"
    }
  },
  "cells": [
    {
      "cell_type": "markdown",
      "source": [
        "### ***EJERCICIO 3*** **CABRERA HERNANDEZ NAOMI ITZEL**"
      ],
      "metadata": {
        "id": "FqJFdQSXQFk0"
      }
    },
    {
      "cell_type": "markdown",
      "source": [
        "**Una empresa dispone de varias máquinas herramienta cuyas herramientas de corte se desgastan constantemente. Cuando esto ocurre, la máquina es inservible. En la actualidad el mantenimiento es correctivo reemplazándose una herramienta cuando falla. Dado que cada máquina dispone de una torre con cinco herramientas, se propo ne reemplazar toda la torre de herramientas (las cinco herramientas de golpe) cada vez que falle una, lo que debería reducir la frecuencia de desgaste de las herramientas. El tiempo necesario para el reemplazo de una herramienta es de una hora. Las cinco pueden reemplazarse en dos horas. El coste de una hora de máquina parada es de cien euros. Cada herramienta cuesta diez euros. La tabla siguiente recoge los datos de averías en el caso de sustituir una sola herramienta cada vez.**\n",
        "\n",
        "\n",
        "|Horas entre averias si sustituye una herramienta |**20**|**30**|**40**|**50**|**60**|**70**|**80**|\n",
        "|-----------|------|------|------|------|------|------|------|\n",
        "|Probabilidad|0.05|0.15|0.15|0.20|0.20|0.15|0.10|\n",
        "\n",
        "**Si las cinco herramientas se cambian cada vez que una falla, la distribución de proba bilidad entre fallos es la siguiente:**\n",
        "\n",
        "|Horas entre averias si sustituye una herramienta |**30**|**40**|**50**|**60**|**70**|**80**|**90**|\n",
        "|-----------|------|------|------|------|------|------|------|\n",
        "|Probabilidad|0.05|0.15|0.15|0.20|0.20|0.15|0.10|\n",
        "\n"
      ],
      "metadata": {
        "id": "uyx8B1WEQJoP"
      }
    },
    {
      "cell_type": "markdown",
      "source": [
        "***a) Determine mediante simulación la mejor política de reemplazo de las herramietas de corte.*** \\\n",
        "***b)Resuelva el  caso sin el uso de simulacion y compare los resultado. Indique si esto afecta o no a la decision tomada utilizando la simulacion*** \n"
      ],
      "metadata": {
        "id": "aKwLVJ06Wj5e"
      }
    },
    {
      "cell_type": "markdown",
      "source": [
        "# **SOLUCION**"
      ],
      "metadata": {
        "id": "LriV_VFKffAn"
      }
    },
    {
      "cell_type": "markdown",
      "source": [
        "***a) Determine mediante simulación la mejor política de reemplazo de las herramietas de corte.***"
      ],
      "metadata": {
        "id": "RGjbE7PRfi9u"
      }
    },
    {
      "cell_type": "markdown",
      "source": [
        "**PASO 1**. Defina las variables que intervienen en el modelo."
      ],
      "metadata": {
        "id": "fKv7xSLKft3a"
      }
    },
    {
      "cell_type": "markdown",
      "source": [
        "Las horas entre averias"
      ],
      "metadata": {
        "id": "0-RnuKV0fvX5"
      }
    },
    {
      "cell_type": "markdown",
      "source": [
        "**PASO 2**. Formule la distribución de probabilidad de cada variable."
      ],
      "metadata": {
        "id": "oMg4kUJef5EU"
      }
    },
    {
      "cell_type": "markdown",
      "source": [
        "|Horas entre averias|**20**|**30**|**40**|**50**|**60**|**70**|**80**|\n",
        "|-----------|------|------|------|------|------|------|------|\n",
        "|**f(x)**|0.05|0.15|0.15|0.20|0.20|0.15|0.10|"
      ],
      "metadata": {
        "id": "yN9wtm60f4-S"
      }
    },
    {
      "cell_type": "markdown",
      "source": [
        "**PASO 3**. Enumere la distribución acumulada de probabilidad de cada variable."
      ],
      "metadata": {
        "id": "48kjrj5ff4DL"
      }
    },
    {
      "cell_type": "markdown",
      "source": [
        "|Horas entre averias|**20**|**30**|**40**|**50**|**60**|**70**|**80**|\n",
        "|-----------|------|------|------|------|------|------|------|\n",
        "|**f(x)**|0.05|0.15|0.15|0.20|0.20|0.15|0.10|\n",
        "|**F(x)**|0.05|0.20|0.35|0.55|0.75|0.90|1.00|"
      ],
      "metadata": {
        "id": "BEJJdJozgWPA"
      }
    },
    {
      "cell_type": "markdown",
      "source": [
        "**PASO 4**. Establezca el intervalo de números aleatorios correspondiente a cada valor de cada una de las variables."
      ],
      "metadata": {
        "id": "FwzrDfQ6fi6w"
      }
    },
    {
      "cell_type": "markdown",
      "source": [
        "|Horas entre averias|**20**|**30**|**40**|**50**|**60**|**70**|**80**|\n",
        "|-----------|------|------|------|------|------|------|------|\n",
        "|**f(x)**|0.05|0.15|0.15|0.20|0.20|0.15|0.10|\n",
        "|**F(x)**|0.05|0.20|0.35|0.55|0.75|0.90|1.00|\n",
        "|**Intervalos**|0.00 a 0.04|0.05 a 0.19|0.20 a 0.34|0.35 a 0.54|0.55 a 0.74|0.75 a 0.89|0.90 a 1.00|"
      ],
      "metadata": {
        "id": "yyr7F1g2g1_v"
      }
    },
    {
      "cell_type": "markdown",
      "source": [
        "**PASO 5**. Genere números aleatorios."
      ],
      "metadata": {
        "id": "fKqV4k-0hdtD"
      }
    },
    {
      "cell_type": "markdown",
      "source": [
        "x=rd.random()"
      ],
      "metadata": {
        "id": "LXhzusiEhfwP"
      }
    },
    {
      "cell_type": "markdown",
      "source": [
        "**PASO 6**. Simule un lanzamiento."
      ],
      "metadata": {
        "id": "njXrtNEMhmEq"
      }
    },
    {
      "cell_type": "markdown",
      "source": [
        "|**Averia numero**|**Numero aleatorio**|**Horas entre averias**|**Coste reemplazo**|**Corte por hora de funcionamiento**|\n",
        "|-----------|------|------|------|------|\n",
        "|1|0.36|50|110|2.20|\n"
      ],
      "metadata": {
        "id": "xFk2erkLhpTP"
      }
    },
    {
      "cell_type": "markdown",
      "source": [
        "Coste reemplazo=costo de maquina parada+ coste herramienta=100+10=110 euros"
      ],
      "metadata": {
        "id": "kTJ8MkIzzrep"
      }
    },
    {
      "cell_type": "markdown",
      "source": [
        "Costo de hora de funcionamiento= $\\frac{coste-de-reemplazo}{Horas-entre-averias}$ =$\\frac{110}{50}$=2.20$\\frac{euros}{horas}$"
      ],
      "metadata": {
        "id": "LirW6Nop1fET"
      }
    },
    {
      "cell_type": "markdown",
      "source": [
        "**PASO 7**. Obtenga la gráfica de estabilización que indica que el tamaño de muestra utilizado es suficiente para \n",
        "garantizar la convergencia del resultado."
      ],
      "metadata": {
        "id": "nAzNkOJW4P8Z"
      }
    },
    {
      "cell_type": "code",
      "source": [
        "import random as rd\n",
        "import matplotlib.pyplot as plt\n",
        "import numpy as np"
      ],
      "metadata": {
        "id": "mNzYyBqeEDmJ"
      },
      "execution_count": 22,
      "outputs": []
    },
    {
      "cell_type": "code",
      "source": [
        "from traitlets.traitlets import CRegExp\n",
        "def horas_entre_averias():\n",
        "  HEA=0\n",
        "  x=rd.random()\n",
        "\n",
        "  if x>=0 and x<0.04:\n",
        "    HEA=20\n",
        "  elif x>=0.05 and x<0.20:\n",
        "    HEA=30\n",
        "  elif x>=0.20 and x<0.35:\n",
        "    HEA=40\n",
        "  elif x>=0.35 and x<0.55:\n",
        "    HEA=50\n",
        "  elif x>=0.55 and x<0.75:\n",
        "    HEA=60\n",
        "  elif x>=0.75 and x<0.90:\n",
        "    HEA=70\n",
        "  elif x>=0.90 and x<=1.00:\n",
        "    HEA=80\n",
        "  return HEA\n",
        "\n",
        "def coste_hora_funcionamiento(averias):\n",
        "  hea=horas_entre_averias()\n",
        "  CMP=100\n",
        "  CH=10\n",
        "  CR=CMP+CH\n",
        "  CHF=0\n",
        "  CHF=CR/hea\n",
        "\n",
        "  return(CHF)\n",
        "  "
      ],
      "metadata": {
        "id": "kgQ4RkylEGJ_"
      },
      "execution_count": 23,
      "outputs": []
    },
    {
      "cell_type": "code",
      "source": [
        "coste_hora_funcionamiento(85)"
      ],
      "metadata": {
        "colab": {
          "base_uri": "https://localhost:8080/"
        },
        "id": "FE_ysHuhH9oJ",
        "outputId": "3c2e3a12-a42e-4d88-cb9a-eb5862ec4e16"
      },
      "execution_count": 24,
      "outputs": [
        {
          "output_type": "execute_result",
          "data": {
            "text/plain": [
              "1.8333333333333333"
            ]
          },
          "metadata": {},
          "execution_count": 24
        }
      ]
    },
    {
      "cell_type": "code",
      "source": [
        "def simulacion(n):\n",
        "  L=[]\n",
        "  B=0\n",
        "  for i in range(n):\n",
        "    B+=coste_hora_funcionamiento(85)\n",
        "    L.append(B/(i+1))\n",
        "  return L"
      ],
      "metadata": {
        "id": "X6gQwvLlISsU"
      },
      "execution_count": 25,
      "outputs": []
    },
    {
      "cell_type": "code",
      "source": [
        "X=simulacion(40)"
      ],
      "metadata": {
        "id": "ELMxEGPBIbSu"
      },
      "execution_count": 38,
      "outputs": []
    },
    {
      "cell_type": "code",
      "source": [
        "plt.plot(X)"
      ],
      "metadata": {
        "colab": {
          "base_uri": "https://localhost:8080/",
          "height": 447
        },
        "id": "UtkFOEWEKGaY",
        "outputId": "3f116e41-74c3-44da-ad56-4dc8bdf7f589"
      },
      "execution_count": 39,
      "outputs": [
        {
          "output_type": "execute_result",
          "data": {
            "text/plain": [
              "[<matplotlib.lines.Line2D at 0x7f2c697a23e0>]"
            ]
          },
          "metadata": {},
          "execution_count": 39
        },
        {
          "output_type": "display_data",
          "data": {
            "text/plain": [
              "<Figure size 640x480 with 1 Axes>"
            ],
            "image/png": "[encoded data removed]"
          },
          "metadata": {}
        }
      ]
    },
    {
      "cell_type": "code",
      "source": [
        "np.mean(X)"
      ],
      "metadata": {
        "colab": {
          "base_uri": "https://localhost:8080/"
        },
        "id": "RvFUA41gOAvJ",
        "outputId": "bbf6d622-0865-4c2b-8775-1bd905a8475c"
      },
      "execution_count": 40,
      "outputs": [
        {
          "output_type": "execute_result",
          "data": {
            "text/plain": [
              "2.024442661188226"
            ]
          },
          "metadata": {},
          "execution_count": 40
        }
      ]
    },
    {
      "cell_type": "markdown",
      "source": [
        "**PASO 8**. Replique el modelo"
      ],
      "metadata": {
        "id": "LSy6f0MA9m1d"
      }
    },
    {
      "cell_type": "code",
      "source": [
        "def modelo(n):\n",
        "  lista=[]\n",
        "  for i in range(n):\n",
        "    s=simulacion(20)\n",
        "    lista.append(np.mean(s))\n",
        "  return lista"
      ],
      "metadata": {
        "id": "DuEa9VGNOEGT"
      },
      "execution_count": 41,
      "outputs": []
    },
    {
      "cell_type": "code",
      "source": [
        "Y=modelo(5)"
      ],
      "metadata": {
        "id": "Xiy3xxGHOR2k"
      },
      "execution_count": 43,
      "outputs": []
    },
    {
      "cell_type": "markdown",
      "source": [
        "**PASO 9**. Calcule la probabilidad su desviación estándar."
      ],
      "metadata": {
        "id": "832q0ucm4Uy2"
      }
    },
    {
      "cell_type": "code",
      "source": [
        "print(np.mean(Y), np.std(Y))"
      ],
      "metadata": {
        "colab": {
          "base_uri": "https://localhost:8080/"
        },
        "id": "vczjAb-KOXAE",
        "outputId": "996eec70-e497-437f-c791-f0646667f1e3"
      },
      "execution_count": 44,
      "outputs": [
        {
          "output_type": "stream",
          "name": "stdout",
          "text": [
            "2.4489308794424205 0.20878552177298063\n"
          ]
        }
      ]
    },
    {
      "cell_type": "code",
      "source": [
        "plt.hist(Y)\n",
        "plt.show()"
      ],
      "metadata": {
        "colab": {
          "base_uri": "https://localhost:8080/",
          "height": 430
        },
        "id": "OElcEbx6OXoj",
        "outputId": "6db54819-10cb-4d71-83e3-fb67b7df8615"
      },
      "execution_count": 45,
      "outputs": [
        {
          "output_type": "display_data",
          "data": {
            "text/plain": [
              "<Figure size 640x480 with 1 Axes>"
            ],
            "image/png": "[encoded data removed]"
          },
          "metadata": {}
        }
      ]
    },
    {
      "cell_type": "markdown",
      "source": [
        "**PASO 10**. Halle el intervalo de confianza de la probabilidad con un nivel de confianza del $95 \\%$"
      ],
      "metadata": {
        "id": "V6ZHB-l54bGT"
      }
    },
    {
      "cell_type": "markdown",
      "source": [
        "$$\\bar{x}-z_{\\alpha/2} \\cdot \\frac{s}{\\sqrt{n}} < \\mu < \\bar{x}+z_{\\alpha/2}\\cdot \\frac{s}{\\sqrt{n}}$$"
      ],
      "metadata": {
        "id": "QVXv2QcbW6SO"
      }
    },
    {
      "cell_type": "code",
      "source": [
        "np.mean(Y)"
      ],
      "metadata": {
        "id": "aqMR5i4FOb_l",
        "colab": {
          "base_uri": "https://localhost:8080/"
        },
        "outputId": "a9b020dd-eddb-4a68-f44e-84683e14d362"
      },
      "execution_count": 46,
      "outputs": [
        {
          "output_type": "execute_result",
          "data": {
            "text/plain": [
              "2.4489308794424205"
            ]
          },
          "metadata": {},
          "execution_count": 46
        }
      ]
    },
    {
      "cell_type": "code",
      "source": [
        "np.mean(Y) - 1.96*np.std(Y)/np.sqrt(50), np.mean(Y) + 1.96*np.std(Y)/np.sqrt(50)"
      ],
      "metadata": {
        "id": "mm_mBJk-OfkA",
        "colab": {
          "base_uri": "https://localhost:8080/"
        },
        "outputId": "da8ee56a-1950-4ec0-e9e5-a6b87f3d4167"
      },
      "execution_count": 47,
      "outputs": [
        {
          "output_type": "execute_result",
          "data": {
            "text/plain": [
              "(2.391058485404796, 2.506803273480045)"
            ]
          },
          "metadata": {},
          "execution_count": 47
        }
      ]
    },
    {
      "cell_type": "markdown",
      "source": [
        "***SUSTITUCION DE CINCO HERRAMIENTAS***"
      ],
      "metadata": {
        "id": "PzjRG5ro1st3"
      }
    },
    {
      "cell_type": "markdown",
      "source": [
        "**PASO 1**. Defina las variables que intervienen en el modelo."
      ],
      "metadata": {
        "id": "aGhQgtQn47M-"
      }
    },
    {
      "cell_type": "markdown",
      "source": [
        "Las horas entre averias"
      ],
      "metadata": {
        "id": "FF_BztxI4_UW"
      }
    },
    {
      "cell_type": "markdown",
      "source": [
        "**PASO 2**. Formule la distribución de probabilidad de cada variable."
      ],
      "metadata": {
        "id": "idhjAnRQQk0Z"
      }
    },
    {
      "cell_type": "markdown",
      "source": [
        "|Horas entre averias |**30**|**40**|**50**|**60**|**70**|**80**|**90**|\n",
        "|-----------|------|------|------|------|------|------|------|\n",
        "|f(x)|0.05|0.15|0.15|0.20|0.20|0.15|0.10|"
      ],
      "metadata": {
        "id": "dai8yRB56dN_"
      }
    },
    {
      "cell_type": "markdown",
      "source": [
        "**PASO 3**. Enumere la distribución acumulada de probabilidad de cada variable."
      ],
      "metadata": {
        "id": "x00kNhoC6nT2"
      }
    },
    {
      "cell_type": "markdown",
      "source": [
        "|Horas entre averias |**30**|**40**|**50**|**60**|**70**|**80**|**90**|\n",
        "|-----------|------|------|------|------|------|------|------|\n",
        "|f(x)|0.05|0.15|0.15|0.20|0.20|0.15|0.10|\n",
        "|F(x)|0.05|0.20|0.35|0.55|0.75|0.90|1.00|"
      ],
      "metadata": {
        "id": "4-ztetoV6jcA"
      }
    },
    {
      "cell_type": "markdown",
      "source": [
        "**PASO 4**. Establezca el intervalo de números aleatorios correspondiente a cada valor de cada una de las variables."
      ],
      "metadata": {
        "id": "KMtHzvXh7nYX"
      }
    },
    {
      "cell_type": "markdown",
      "source": [
        "|Horas entre averias |**30**|**40**|**50**|**60**|**70**|**80**|**90**|\n",
        "|-----------|------|------|------|------|------|------|------|\n",
        "|**f(x)**|0.05|0.15|0.15|0.20|0.20|0.15|0.10|\n",
        "|**F(x)**|0.05|0.20|0.35|0.55|0.75|0.90|1.00|\n",
        "|**Intervalos**|0.00 a 0.04|0.05 a 0.19|0.20 a 0.34|0.35 a 0.54|0.55 a 0.74|0.75 a 0.89|0.90 a 1.00|"
      ],
      "metadata": {
        "id": "yUQ31gZg7rtS"
      }
    },
    {
      "cell_type": "markdown",
      "source": [
        "**PASO 5**. Genere números aleatorios."
      ],
      "metadata": {
        "id": "EhdIIrLY8E89"
      }
    },
    {
      "cell_type": "markdown",
      "source": [
        "x=rd.random()"
      ],
      "metadata": {
        "id": "MxICCNLa8H4v"
      }
    },
    {
      "cell_type": "markdown",
      "source": [
        "**PASO 6**. Simule un lanzamiento."
      ],
      "metadata": {
        "id": "P_x3Eveq8KjC"
      }
    },
    {
      "cell_type": "markdown",
      "source": [
        "|**Averia numero**|**Numero aleatorio**|**Horas entre averias**|**Coste reemplazo**|**Corte por hora de funcionamiento**|\n",
        "|-----------|------|------|------|------|\n",
        "|1|0.53|60|2500|4.17|\n"
      ],
      "metadata": {
        "id": "wHTEaYsc8Nqz"
      }
    },
    {
      "cell_type": "markdown",
      "source": [
        "Coste reemplazo=coste maquina parada + coste herramienta \\\n",
        "\n",
        "Coste maquina parada = 100 euros/hora * 2 horas = 200 euros\n",
        "\n",
        "Coste herramienta = 10 euros/herramienta * 5 herramientas = 50 euros\n",
        "\n",
        "Coste reemplazo = 200 + 50 = 250euros\n",
        "\n",
        "Coste por hora de funcionamiento = 250/60 = 24.17 euros/hora"
      ],
      "metadata": {
        "id": "TAsfc_po8xKL"
      }
    },
    {
      "cell_type": "markdown",
      "source": [
        "**PASO 7**. Obtenga la gráfica de estabilización que indica que el tamaño de muestra utilizado es suficiente para \n",
        "garantizar la convergencia del resultado."
      ],
      "metadata": {
        "id": "AcrWQX0d9hy5"
      }
    },
    {
      "cell_type": "code",
      "source": [
        "import random as rd\n",
        "import matplotlib.pyplot as plt\n",
        "import numpy as np"
      ],
      "metadata": {
        "id": "Bj9oMObIT4CE"
      },
      "execution_count": 12,
      "outputs": []
    },
    {
      "cell_type": "code",
      "source": [
        "from traitlets.traitlets import CRegExp\n",
        "def horas_entre_averias():\n",
        "  HEA=0\n",
        "  x=rd.random()\n",
        "\n",
        "  if x>=0 and x<0.04:\n",
        "    HEA=30\n",
        "  elif x>=0.05 and x<0.20:\n",
        "    HEA=40\n",
        "  elif x>=0.20 and x<0.35:\n",
        "    HEA=50\n",
        "  elif x>=0.35 and x<0.55:\n",
        "    HEA=60\n",
        "  elif x>=0.55 and x<0.75:\n",
        "    HEA=70\n",
        "  elif x>=0.75 and x<0.90:\n",
        "    HEA=80\n",
        "  elif x>=0.90 and x<=1.00:\n",
        "    HEA=90\n",
        "  return HEA\n",
        "\n",
        "def coste_hora_funcionamiento(averias):\n",
        "  hea=horas_entre_averias()\n",
        "  CMP=100*2\n",
        "  CH=10*8\n",
        "  CR=CMP+CH\n",
        "  CHF=0\n",
        "  CHF=CR/hea\n",
        "\n",
        "  return(CHF)"
      ],
      "metadata": {
        "id": "Q9pmXDxIT9Pm"
      },
      "execution_count": 13,
      "outputs": []
    },
    {
      "cell_type": "code",
      "source": [
        "coste_hora_funcionamiento(85)"
      ],
      "metadata": {
        "id": "mwpahvVrT45g",
        "colab": {
          "base_uri": "https://localhost:8080/"
        },
        "outputId": "d6f0fee3-0ba9-4808-c828-20b19b48a677"
      },
      "execution_count": 14,
      "outputs": [
        {
          "output_type": "execute_result",
          "data": {
            "text/plain": [
              "4.0"
            ]
          },
          "metadata": {},
          "execution_count": 14
        }
      ]
    },
    {
      "cell_type": "code",
      "source": [
        "plt.plot(X)"
      ],
      "metadata": {
        "id": "hGfM5p3TWTsz",
        "colab": {
          "base_uri": "https://localhost:8080/",
          "height": 447
        },
        "outputId": "db3e7687-7b3e-4bb7-9b3b-bd9a72734e50"
      },
      "execution_count": 15,
      "outputs": [
        {
          "output_type": "execute_result",
          "data": {
            "text/plain": [
              "[<matplotlib.lines.Line2D at 0x7f2c69bdf070>]"
            ]
          },
          "metadata": {},
          "execution_count": 15
        },
        {
          "output_type": "display_data",
          "data": {
            "text/plain": [
              "<Figure size 640x480 with 1 Axes>"
            ],
            "image/png": "[encoded data removed]"
          },
          "metadata": {}
        }
      ]
    },
    {
      "cell_type": "code",
      "source": [
        "np.mean(X)"
      ],
      "metadata": {
        "id": "G7vVQG03WbqM",
        "colab": {
          "base_uri": "https://localhost:8080/"
        },
        "outputId": "5a2885e4-a3f3-4b5f-ef8c-910d2c3a028b"
      },
      "execution_count": 16,
      "outputs": [
        {
          "output_type": "execute_result",
          "data": {
            "text/plain": [
              "2.5750732406997883"
            ]
          },
          "metadata": {},
          "execution_count": 16
        }
      ]
    },
    {
      "cell_type": "markdown",
      "source": [
        "**PASO 8**. Replique el modelo"
      ],
      "metadata": {
        "id": "TrvwDul04Q-8"
      }
    },
    {
      "cell_type": "code",
      "source": [
        "def modelo(n):\n",
        "  lista=[]\n",
        "  for i in range(n):\n",
        "    s=simulacion(30)\n",
        "    lista.append(np.mean(s))\n",
        "  return lista"
      ],
      "metadata": {
        "id": "YDbLslJNWaqD"
      },
      "execution_count": 51,
      "outputs": []
    },
    {
      "cell_type": "code",
      "source": [
        "Y=modelo(5)"
      ],
      "metadata": {
        "id": "-cTvx6GVWj7S"
      },
      "execution_count": 52,
      "outputs": []
    },
    {
      "cell_type": "markdown",
      "source": [
        "**PASO 9**. Calcule la probabilidad su desviación estándar."
      ],
      "metadata": {
        "id": "OiFcyqfO9poA"
      }
    },
    {
      "cell_type": "code",
      "source": [
        "print(np.mean(Y), np.std(Y))"
      ],
      "metadata": {
        "id": "9WVY5v4pWkzm",
        "colab": {
          "base_uri": "https://localhost:8080/"
        },
        "outputId": "e0e6fe18-0ecf-42b5-a8bd-3002a8b59f20"
      },
      "execution_count": 53,
      "outputs": [
        {
          "output_type": "stream",
          "name": "stdout",
          "text": [
            "2.449039273162586 0.23697063408909425\n"
          ]
        }
      ]
    },
    {
      "cell_type": "code",
      "source": [
        "plt.hist(Y)\n",
        "plt.show()"
      ],
      "metadata": {
        "id": "en2k9VZIWpm7",
        "colab": {
          "base_uri": "https://localhost:8080/",
          "height": 430
        },
        "outputId": "2d6df3a4-5872-4425-bdc0-87adae38ce70"
      },
      "execution_count": 54,
      "outputs": [
        {
          "output_type": "display_data",
          "data": {
            "text/plain": [
              "<Figure size 640x480 with 1 Axes>"
            ],
            "image/png": "[encoded data removed]"
          },
          "metadata": {}
        }
      ]
    },
    {
      "cell_type": "markdown",
      "source": [
        "**PASO 10**. Halle el intervalo de confianza de la probabilidad con un nivel de confianza del $95 \\%$"
      ],
      "metadata": {
        "id": "99RqFPqD9te5"
      }
    },
    {
      "cell_type": "markdown",
      "source": [
        "$$\\bar{x}-z_{\\alpha/2} \\cdot \\frac{s}{\\sqrt{n}} < \\mu < \\bar{x}+z_{\\alpha/2}\\cdot \\frac{s}{\\sqrt{n}}$$"
      ],
      "metadata": {
        "id": "B3vbcuH_W869"
      }
    },
    {
      "cell_type": "code",
      "source": [
        "np.mean(Y)"
      ],
      "metadata": {
        "id": "-9lwx2tiWt0w",
        "colab": {
          "base_uri": "https://localhost:8080/"
        },
        "outputId": "7bcd0de3-3dfe-4be1-9026-8f465bb978d0"
      },
      "execution_count": 55,
      "outputs": [
        {
          "output_type": "execute_result",
          "data": {
            "text/plain": [
              "2.449039273162586"
            ]
          },
          "metadata": {},
          "execution_count": 55
        }
      ]
    },
    {
      "cell_type": "code",
      "source": [
        "np.mean(Y) - 1.96*np.std(Y)/np.sqrt(50), np.mean(Y) + 1.96*np.std(Y)/np.sqrt(50)"
      ],
      "metadata": {
        "id": "Tq2HuJjmXBAr",
        "colab": {
          "base_uri": "https://localhost:8080/"
        },
        "outputId": "7093a441-9a45-4e45-b902-396b14df4128"
      },
      "execution_count": 56,
      "outputs": [
        {
          "output_type": "execute_result",
          "data": {
            "text/plain": [
              "(2.3833543645784476, 2.514724181746724)"
            ]
          },
          "metadata": {},
          "execution_count": 56
        }
      ]
    },
    {
      "cell_type": "markdown",
      "source": [
        "***b)Resuelva el  caso sin el uso de simulacion y compare los resultado. Indique si esto afecta o no a la decision tomada utilizando la simulacion***"
      ],
      "metadata": {
        "id": "3ki8rEhkQAtm"
      }
    },
    {
      "cell_type": "markdown",
      "source": [
        "Coste por hora de funcionamiento si solo sustituye una herramienta"
      ],
      "metadata": {
        "id": "hYxnel5dQtMK"
      }
    },
    {
      "cell_type": "markdown",
      "source": [
        "|Horas entre averias|Probabilidad| |\n",
        "|----------|---------|--------------|\n",
        "|$X_i$|$P(X_i)$|$X_i$*$P(X_i)$|\n",
        "|20|0.05|1.00|\n",
        "|30|0.15|4.50|\n",
        "|40|0.15|6.00|\n",
        "|50|0.20|10.00|\n",
        "|60|0.20|12.00|\n",
        "|70|0.15|10.50|\n",
        "|80|0.10|8.00|\n",
        "|**Total**|  |52.00|"
      ],
      "metadata": {
        "id": "RGAYxKceQ0bK"
      }
    },
    {
      "cell_type": "markdown",
      "source": [
        "$\\frac{1}{52}\\frac{averia}{horas}*\\frac{110}{1}\\frac{euros}{averia}=2.12\\frac{euros}{hora}$"
      ],
      "metadata": {
        "id": "a18-TiWLSACn"
      }
    },
    {
      "cell_type": "markdown",
      "source": [
        "Coste por hora de funcionamiento si se sustituye cinco herramientas:"
      ],
      "metadata": {
        "id": "6jmwZrAXSmJv"
      }
    },
    {
      "cell_type": "markdown",
      "source": [
        "|Horas entre averias|Probabilidad| |\n",
        "|----------|---------|--------------|\n",
        "|$X_i$|$P(X_i)$|$X_i$*$P(X_i)$|\n",
        "|30|0.05|1.50|\n",
        "|40|0.15|6.00|\n",
        "|50|0.15|7.50|\n",
        "|60|0.20|1.20|\n",
        "|70|0.20|10.50|\n",
        "|80|0.15|8.00|\n",
        "|90|0.10|9.00|\n",
        "|**Total**|  |51.20|"
      ],
      "metadata": {
        "id": "zpJ-ghc8Supd"
      }
    },
    {
      "cell_type": "markdown",
      "source": [
        "$\\frac{1}{51.20}\\frac{averia}{horas}*\\frac{250}{1}\\frac{euros}{averia}=4.88\\frac{euros}{hora}$"
      ],
      "metadata": {
        "id": "Mu_2o7OeTMCC"
      }
    },
    {
      "cell_type": "markdown",
      "source": [
        "**El mantenimiento óptima es reemplazar una herramienta cuando se deteriora. No varía la decisión\n",
        "tomada mediante simulación.**"
      ],
      "metadata": {
        "id": "6zyP7Q_kTZtu"
      }
    }
  ]
}