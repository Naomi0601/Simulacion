{
  "nbformat": 4,
  "nbformat_minor": 0,
  "metadata": {
    "colab": {
      "provenance": []
    },
    "kernelspec": {
      "name": "python3",
      "display_name": "Python 3"
    },
    "language_info": {
      "name": "python"
    }
  },
  "cells": [
    {
      "cell_type": "markdown",
      "source": [
        "### ***EJERCICIO 2*** **CABRERA HERNANDEZ NAOMI ITZEL**"
      ],
      "metadata": {
        "id": "neY_v0gaP7YG"
      }
    },
    {
      "cell_type": "markdown",
      "source": [
        "**Un quiosquero vende periódicos a 1.10 euros cada uno. Cada periódico le cuesta al quiosquero 0.90 euros. Las ventas de periódicos del quiosquero a partir de su experiencia se refleja en la tabla siguiente.** \\\n",
        "\n",
        "|Periodicos |**30**|**40**|**50**|**60**|**70**|\n",
        "|-----------|------|------|------|------|------|\n",
        "|   f(x)    |20%   | 25%  | 25%  | 20%  |10%   |\n",
        "\n",
        "\n",
        "**La tabla recoge por ejemplo que el 20 % del tiempo las ventas han sido de 30 periódicos. Teniendo en cuenta el coste de 0,20 euros por venta perdida y el coste de 0,10 euros por el reciclaje de cada periódico no vendido, determine el beneficio promedio diario si pide 50 periódicos cada día.**\n",
        "\n",
        "\n"
      ],
      "metadata": {
        "id": "jnM0BW2kSNSr"
      }
    },
    {
      "cell_type": "markdown",
      "source": [
        "***a)Por simulacion* \\\n",
        "*b)Analiticamente* \\\n",
        "*c)Determine, por simulacion, el pedido de periodicos que optimiza el beneficio***"
      ],
      "metadata": {
        "id": "8Bq0BIZhQEsP"
      }
    },
    {
      "cell_type": "markdown",
      "source": [
        "## SOLUCION"
      ],
      "metadata": {
        "id": "1BzbURrqQInV"
      }
    },
    {
      "cell_type": "markdown",
      "source": [
        "***a)Por simulacion: Construimos el modelo en varios pasos***"
      ],
      "metadata": {
        "id": "g40rx_feSAt6"
      }
    },
    {
      "cell_type": "markdown",
      "source": [
        "**PASO 1**. Defina las variables que intervienen en el modelo."
      ],
      "metadata": {
        "id": "AsqprhZnZUCU"
      }
    },
    {
      "cell_type": "markdown",
      "source": [
        "$X_1$ periodicos vendidos"
      ],
      "metadata": {
        "id": "cy-wCOMxZZuZ"
      }
    },
    {
      "cell_type": "markdown",
      "source": [
        "**PASO 2**. Formule la distribución de probabilidad de cada variable."
      ],
      "metadata": {
        "id": "cmhSzpcpZjeJ"
      }
    },
    {
      "cell_type": "markdown",
      "source": [
        "|Periodicos |**30**|**40**|**50**|**60**|**70**|\n",
        "|-----------|------|------|------|------|------|\n",
        "|   f(x)    |0.20  | 0.25 | 0.25 | 0.20 |0.10  |"
      ],
      "metadata": {
        "id": "6R0UBM5oZreb"
      }
    },
    {
      "cell_type": "markdown",
      "source": [
        "**PASO 3**. Enumere la distribución acumulada de probabilidad de cada variable."
      ],
      "metadata": {
        "id": "5eD4it99ZsY9"
      }
    },
    {
      "cell_type": "markdown",
      "source": [
        "|Periodicos |**30**|**40**|**50**|**60**|**70**|\n",
        "|-----------|------|------|------|------|------|\n",
        "|   f(x)    |0.20  | 0.25 | 0.25 | 0.20 |0.10  |\n",
        "|F(x)       |0.20  | 0.45 | 0.70 | 0.90 |1.00  |"
      ],
      "metadata": {
        "id": "DdShCWDiZwDo"
      }
    },
    {
      "cell_type": "markdown",
      "source": [
        "**PASO 4**. Establezca el intervalo de números aleatorios correspondiente a cada valor de cada una de las variables."
      ],
      "metadata": {
        "id": "fgZWh08UZzXn"
      }
    },
    {
      "cell_type": "markdown",
      "source": [
        "|Periodicos |**30**|**40**|**50**|**60**|**70**|\n",
        "|-----------|------|------|------|------|------|\n",
        "|   f(x)    |0.20  | 0.25 | 0.25 | 0.20 |0.10  |\n",
        "|F(x)       |0.20  | 0.45 | 0.70 | 0.90 |1.00  |\n",
        "|Intervalos |0.00 a 0.19|0.20 a 0.44|0.45 a 0.69|0.70 a 0.89|0.90 a 1.00|"
      ],
      "metadata": {
        "id": "Znh9NsauZ2W4"
      }
    },
    {
      "cell_type": "markdown",
      "source": [
        "**PASO 5**. Genere números aleatorios."
      ],
      "metadata": {
        "id": "CoRBOinHZ7P6"
      }
    },
    {
      "cell_type": "markdown",
      "source": [
        "x=rd.random()"
      ],
      "metadata": {
        "id": "qC4gyaODaiNA"
      }
    },
    {
      "cell_type": "markdown",
      "source": [
        "**PASO 6**. Simule un lanzamiento."
      ],
      "metadata": {
        "id": "kxf72qvzaoRJ"
      }
    },
    {
      "cell_type": "markdown",
      "source": [
        "|**Dia** |**Numero aleatorio**|**Ventas simuladas**|**Ventas reales**|**Ventas pedidos**|**Periodicos no vendidos**|**Beneficios (euros)**|**Beeneficio promedio**|\n",
        "|-----------|------|------|------|------|------|------|------|\n",
        "| 1    |0.25 |40 | 40| 0 |10  | -2|-2|\n",
        "|2|0.75|60|50|10|0|8|6"
      ],
      "metadata": {
        "id": "yDdsj-ZDar8s"
      }
    },
    {
      "cell_type": "markdown",
      "source": [
        "**PASO 7**. Obtenga la gráfica de estabilización que indica que el tamaño de muestra utilizado es suficiente para \n",
        "garantizar la convergencia del resultado."
      ],
      "metadata": {
        "id": "75xLROqCayJ-"
      }
    },
    {
      "cell_type": "code",
      "source": [
        "import random as rd\n",
        "import matplotlib.pyplot as plt\n",
        "import numpy as np"
      ],
      "metadata": {
        "id": "Z5vikZzgaxAM"
      },
      "execution_count": 11,
      "outputs": []
    },
    {
      "cell_type": "code",
      "source": [
        "def ventas_sim():\n",
        "  VS=0\n",
        "  x=rd.random()\n",
        "\n",
        "  if x>=0 and x<0.20:\n",
        "    VS=30\n",
        "  elif x>=0.20 and x<0.45:\n",
        "    VS=40\n",
        "  elif x>=0.45 and x< 0.70:\n",
        "    VS=50\n",
        "  elif x>=0.70 and x<0.90:\n",
        "    VS=60\n",
        "  elif x>=0.90 and x<=1.00:\n",
        "    VS=70\n",
        "  return VS\n",
        "\n",
        "def beneficio(pedido):\n",
        " B=0\n",
        " VR=0\n",
        " VP=0\n",
        " NP=0\n",
        " vs=ventas_sim()\n",
        " if vs > pedido:\n",
        "  VR=pedido\n",
        "  VP=vs-pedido\n",
        "  NP=0\n",
        " else:\n",
        "  VR=vs\n",
        "  VP=0\n",
        "  NP=pedido-VR\n",
        "\n",
        " B=1.10*VR- 0.90*pedido - 0.10*NP - 0.20*VP\n",
        " return (B)   "
      ],
      "metadata": {
        "id": "csvpCjRTarqg"
      },
      "execution_count": 12,
      "outputs": []
    },
    {
      "cell_type": "code",
      "source": [
        "beneficio(50)"
      ],
      "metadata": {
        "colab": {
          "base_uri": "https://localhost:8080/"
        },
        "id": "JJlEC2ucanec",
        "outputId": "44a48208-29f3-4956-bc69-eb06a70a2a6b"
      },
      "execution_count": 13,
      "outputs": [
        {
          "output_type": "execute_result",
          "data": {
            "text/plain": [
              "-14.0"
            ]
          },
          "metadata": {},
          "execution_count": 13
        }
      ]
    },
    {
      "cell_type": "code",
      "source": [
        "def simulacion(n):\n",
        "  L=[]\n",
        "  B=0\n",
        "  for i in range(n):\n",
        "    B+=beneficio(50)\n",
        "    L.append(B/(i+1))\n",
        "  return L"
      ],
      "metadata": {
        "id": "DIxMOcexZods"
      },
      "execution_count": 14,
      "outputs": []
    },
    {
      "cell_type": "code",
      "source": [
        "X=simulacion(1400)"
      ],
      "metadata": {
        "id": "FND5yx3iSJ21"
      },
      "execution_count": 15,
      "outputs": []
    },
    {
      "cell_type": "code",
      "source": [
        "plt.plot(X)"
      ],
      "metadata": {
        "colab": {
          "base_uri": "https://localhost:8080/",
          "height": 447
        },
        "id": "A0LNrcHebAq6",
        "outputId": "7a8adbe5-7026-4e7b-8353-12e8b5a34969"
      },
      "execution_count": 16,
      "outputs": [
        {
          "output_type": "execute_result",
          "data": {
            "text/plain": [
              "[<matplotlib.lines.Line2D at 0x7fc1638d5db0>]"
            ]
          },
          "metadata": {},
          "execution_count": 16
        },
        {
          "output_type": "display_data",
          "data": {
            "text/plain": [
              "<Figure size 640x480 with 1 Axes>"
            ],
            "image/png": "[encoded data removed]"
          },
          "metadata": {}
        }
      ]
    },
    {
      "cell_type": "code",
      "source": [
        "np.mean(X)"
      ],
      "metadata": {
        "colab": {
          "base_uri": "https://localhost:8080/"
        },
        "id": "nzp-11a6bHER",
        "outputId": "7d42fd04-4d84-490e-c14e-77900207a6c6"
      },
      "execution_count": 17,
      "outputs": [
        {
          "output_type": "execute_result",
          "data": {
            "text/plain": [
              "1.9657570258342028"
            ]
          },
          "metadata": {},
          "execution_count": 17
        }
      ]
    },
    {
      "cell_type": "markdown",
      "source": [
        "**PASO 8**. Replique el modelo"
      ],
      "metadata": {
        "id": "MTgq9TEQbJOH"
      }
    },
    {
      "cell_type": "code",
      "source": [
        "def modelo(n):\n",
        "  lista=[]\n",
        "  for i in range(n):\n",
        "    s=simulacion(500)\n",
        "    lista.append(np.mean(s))\n",
        "  return lista"
      ],
      "metadata": {
        "id": "J_UnxZC1bNdm"
      },
      "execution_count": 18,
      "outputs": []
    },
    {
      "cell_type": "code",
      "source": [
        "Y=modelo(40)"
      ],
      "metadata": {
        "id": "lME_rrcSbQaW"
      },
      "execution_count": 19,
      "outputs": []
    },
    {
      "cell_type": "markdown",
      "source": [
        "**PASO 9**. Calcule la probabilidad su desviación estándar."
      ],
      "metadata": {
        "id": "yt_oTLoHbM9N"
      }
    },
    {
      "cell_type": "code",
      "source": [
        "print(np.mean(Y), np.std(Y))"
      ],
      "metadata": {
        "colab": {
          "base_uri": "https://localhost:8080/"
        },
        "id": "G4WByqd-bVTS",
        "outputId": "4e202658-4f4b-4f9b-a177-a201f101eab3"
      },
      "execution_count": 20,
      "outputs": [
        {
          "output_type": "stream",
          "name": "stdout",
          "text": [
            "1.4931958123696902 0.4817795841828244\n"
          ]
        }
      ]
    },
    {
      "cell_type": "code",
      "source": [
        "plt.hist(Y)\n",
        "plt.show()"
      ],
      "metadata": {
        "colab": {
          "base_uri": "https://localhost:8080/",
          "height": 430
        },
        "id": "rRK36e6cbZqq",
        "outputId": "a25e88fc-9d25-45b3-fbbe-9d149fe00305"
      },
      "execution_count": 21,
      "outputs": [
        {
          "output_type": "display_data",
          "data": {
            "text/plain": [
              "<Figure size 640x480 with 1 Axes>"
            ],
            "image/png": "[encoded data removed]"
          },
          "metadata": {}
        }
      ]
    },
    {
      "cell_type": "markdown",
      "source": [
        "**PASO 10**. Halle el intervalo de confianza de la probabilidad con un nivel de confianza del $95 \\%$"
      ],
      "metadata": {
        "id": "QecumkkBbfAd"
      }
    },
    {
      "cell_type": "markdown",
      "source": [
        "\n",
        "$$\\bar{x}-z_{\\alpha/2} \\cdot \\frac{s}{\\sqrt{n}} < \\mu < \\bar{x}+z_{\\alpha/2}\\cdot \\frac{s}{\\sqrt{n}}$$"
      ],
      "metadata": {
        "id": "piuweE3dPk9j"
      }
    },
    {
      "cell_type": "code",
      "source": [
        "np.mean(Y)"
      ],
      "metadata": {
        "colab": {
          "base_uri": "https://localhost:8080/"
        },
        "id": "jIZYu_h0Okqt",
        "outputId": "4e8e9550-9cfb-4ee5-a600-9aa347173b20"
      },
      "execution_count": 22,
      "outputs": [
        {
          "output_type": "execute_result",
          "data": {
            "text/plain": [
              "1.4931958123696902"
            ]
          },
          "metadata": {},
          "execution_count": 22
        }
      ]
    },
    {
      "cell_type": "code",
      "source": [
        "np.mean(Y) - 1.96*np.std(Y)/np.sqrt(50), np.mean(Y) + 1.96*np.std(Y)/np.sqrt(50)"
      ],
      "metadata": {
        "colab": {
          "base_uri": "https://localhost:8080/"
        },
        "id": "mTPoXtNLOory",
        "outputId": "84fc8c6f-ff2a-43c9-ae5a-133bf969515e"
      },
      "execution_count": 23,
      "outputs": [
        {
          "output_type": "execute_result",
          "data": {
            "text/plain": [
              "(1.3596533248526295, 1.626738299886751)"
            ]
          },
          "metadata": {},
          "execution_count": 23
        }
      ]
    },
    {
      "cell_type": "markdown",
      "source": [
        "***b)Analiticamente***"
      ],
      "metadata": {
        "id": "tiHxA3-8SA8v"
      }
    },
    {
      "cell_type": "markdown",
      "source": [
        "Si se compran 50 periodicos el costo por ellos seria de 45 y al venderlos en 1.10 tenemos 55 por lo cual tenemos una ganancia de 10 ahora sacaremos las ventas perdidas y el de reciclaje"
      ],
      "metadata": {
        "id": "PGVVhzj9IMf-"
      }
    },
    {
      "cell_type": "markdown",
      "source": [
        "Calculamos los vendidos cada dia\n",
        "\n",
        "$-30 periodicos=20*0.20=4$\n",
        "\n",
        "$-40 periodicos =10*0.20=2$ \n",
        "\n",
        "$-50 periodicos =0$ \n",
        "\n",
        "$-60 periodicos =10*0.10=1$  \n",
        "\n",
        "\n",
        "$-70 periodicos =20*0.10=2$ "
      ],
      "metadata": {
        "id": "0O64DZDXHQpF"
      }
    },
    {
      "cell_type": "markdown",
      "source": [
        "10-4-2-1-2\n",
        "\n",
        "Por lo que el beneficio promedio es de 1 euro"
      ],
      "metadata": {
        "id": "Qw-d8D27H80o"
      }
    },
    {
      "cell_type": "markdown",
      "source": [
        "***c)Determine, por simulacion, el pedido de periodicos que optimiza el beneficio***"
      ],
      "metadata": {
        "id": "jOrW0RLtSiPE"
      }
    },
    {
      "cell_type": "code",
      "source": [
        "def bene(numpedido):\n",
        "  IN=numpedido*1.10\n",
        "  CP=numpedido*0.90\n",
        "  PNV=max(0,numpedido -50)\n",
        "  CVP=PNV*0.20\n",
        "  CR=PNV*0.10\n",
        "  BEN=IN-CP-CVP-CR\n",
        "  return BEN\n",
        "MP=0\n",
        "MB=0\n",
        "for numpedido in range (30,70):\n",
        "  BEN= bene(numpedido)\n",
        "  if BEN>MB:\n",
        "    MB=BEN\n",
        "    MP=numpedido\n"
      ],
      "metadata": {
        "id": "TkSB9XtGKKt6"
      },
      "execution_count": 5,
      "outputs": []
    },
    {
      "cell_type": "code",
      "source": [
        "print(\"El pedido optico es\",MP,\"con un beneficio\",\"{:.2f}\".format(MB)) "
      ],
      "metadata": {
        "colab": {
          "base_uri": "https://localhost:8080/"
        },
        "id": "Kb-nirTOLnKc",
        "outputId": "d0ec1976-6b28-4cba-ed65-04bd2e893adf"
      },
      "execution_count": 10,
      "outputs": [
        {
          "output_type": "stream",
          "name": "stdout",
          "text": [
            "El pedido optico es 50 con un beneficio 10.00\n"
          ]
        }
      ]
    }
  ]
}