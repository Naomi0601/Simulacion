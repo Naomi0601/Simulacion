{
  "nbformat": 4,
  "nbformat_minor": 0,
  "metadata": {
    "colab": {
      "provenance": []
    },
    "kernelspec": {
      "name": "python3",
      "display_name": "Python 3"
    },
    "language_info": {
      "name": "python"
    }
  },
  "cells": [
    {
      "cell_type": "markdown",
      "source": [
        "### ***EJERCICIO 4*** **CABRERA HERNANDEZ NAOMI ITZEL**"
      ],
      "metadata": {
        "id": "-g8bP5wrQKqr"
      }
    },
    {
      "cell_type": "markdown",
      "source": [
        "**El número de accidentes que se producen en una vía de circulación de una ciudad es, en promedio, de dos a la semana. Determínese:** \n",
        "\n",
        "**a) Probabilidad de que no se registre ningún accidente en una semana determinada. \\\n",
        "b) Probabilidad de que en un mes haya más de 5 accidentes.** \n"
      ],
      "metadata": {
        "id": "OtzF3fY7XK-Z"
      }
    },
    {
      "cell_type": "markdown",
      "source": [
        "**Analiticamente**"
      ],
      "metadata": {
        "id": "eKY-YeyvW5Us"
      }
    },
    {
      "cell_type": "markdown",
      "source": [
        "*a)Probabilidad de que no se registre ningún accidente en una semana determinada.*\n",
        "\n",
        "Poisson de parametro $\\lambda$ = 2\n",
        "\n",
        "$p(X=0)$=$\\frac{e^{-2}*2^0}{0!}$ = 0.13533 = 13.533%"
      ],
      "metadata": {
        "id": "0z_Ail58fRJF"
      }
    },
    {
      "cell_type": "markdown",
      "source": [
        "*b)Probabilidad de que en un mes haya más de 5 accidentes.*\n",
        "\n",
        "Como son 2 accidentes a la semana en un mes serian 8 accidentes\n",
        "\n",
        "Poisson de parametro $\\lambda$ = 8\n",
        "\n",
        "$p(X>5)=1-p(X\\leq 5)$\n",
        "\n",
        "1-[$p(X=0)+p(X=1)+p(X=2)+p(X=3)+p(X=4)+p(X=5)$]=\n",
        "\n",
        "1-$\\frac{e^{-8}*8^0}{0!}$-$\\frac{e^{-8}*8^1}{1!}$-$\\frac{e^{-8}*8^2}{2!}$-$\\frac{e^{-8}*8^3}{3!}$-$\\frac{e^{-8}*8^4}{4!}$-$\\frac{e^{-8}*8^5}{5!}$ = 0.80875 = 80.875%"
      ],
      "metadata": {
        "id": "i3POdA_qaTSm"
      }
    },
    {
      "cell_type": "markdown",
      "source": [
        "**Por simulacion: Construimos el modelo en varios pasos**"
      ],
      "metadata": {
        "id": "DxIblWCpW8WW"
      }
    },
    {
      "cell_type": "markdown",
      "source": [
        "*a)Probabilidad de que no se registre ningún accidente en una semana determinada.*"
      ],
      "metadata": {
        "id": "HmkvXOY54m2P"
      }
    },
    {
      "cell_type": "markdown",
      "source": [
        "**Paso 1**. Identifique las variables \n",
        "\n",
        "Tenemos una: $x_1$ ."
      ],
      "metadata": {
        "id": "cVstzZfp5pv0"
      }
    },
    {
      "cell_type": "markdown",
      "source": [
        "**Paso 2 y 3.** Determine la distribución de probabilidad y modele las variables aleatorias \n",
        "\n",
        "En el planteamiento ya se especifica que $x_1 \\sim PS(2)$."
      ],
      "metadata": {
        "id": "E6RFdW1V5vWA"
      }
    },
    {
      "cell_type": "markdown",
      "source": [
        "**Paso 4 y 5** Defina el modelo del sistema y los objetivos de la simulación. Diseñe el experimento "
      ],
      "metadata": {
        "id": "RBm0LSsV7RJ9"
      }
    },
    {
      "cell_type": "code",
      "source": [
        "import numpy as np\n",
        "import random\n",
        "from scipy.stats import poisson\n",
        "import matplotlib.pyplot as plt\n"
      ],
      "metadata": {
        "id": "WKMhmZWa_zn1"
      },
      "execution_count": 18,
      "outputs": []
    },
    {
      "cell_type": "code",
      "source": [
        "def accidentes():\n",
        "  acc=np.random.poisson(2)\n",
        "  return acc"
      ],
      "metadata": {
        "id": "lJBCIvgrRkzz"
      },
      "execution_count": 19,
      "outputs": []
    },
    {
      "cell_type": "code",
      "source": [
        "def simulador(n):\n",
        "  w=0\n",
        "  proba=[]\n",
        "  for i in range(n):\n",
        "    if accidentes()==0:\n",
        "      w+=1\n",
        "      proba.append(w/(i+1))\n",
        "  return proba"
      ],
      "metadata": {
        "id": "ZV42Qje6VOdD"
      },
      "execution_count": 20,
      "outputs": []
    },
    {
      "cell_type": "code",
      "source": [
        "x=simulador(1000)"
      ],
      "metadata": {
        "id": "WTUYGOCI7al1"
      },
      "execution_count": 21,
      "outputs": []
    },
    {
      "cell_type": "code",
      "source": [
        "plt.plot(x)"
      ],
      "metadata": {
        "colab": {
          "base_uri": "https://localhost:8080/",
          "height": 447
        },
        "id": "3n75GJTO5phr",
        "outputId": "126e31c4-969b-4c78-f6cc-5f6269947304"
      },
      "execution_count": 22,
      "outputs": [
        {
          "output_type": "execute_result",
          "data": {
            "text/plain": [
              "[<matplotlib.lines.Line2D at 0x7f274ae25240>]"
            ]
          },
          "metadata": {},
          "execution_count": 22
        },
        {
          "output_type": "display_data",
          "data": {
            "text/plain": [
              "<Figure size 640x480 with 1 Axes>"
            ],
            "image/png": "[encoded data removed]"
          },
          "metadata": {}
        }
      ]
    },
    {
      "cell_type": "markdown",
      "source": [
        "**Paso 6.** Repita el experimento $n$ veces "
      ],
      "metadata": {
        "id": "wSo2C_3QSvoT"
      }
    },
    {
      "cell_type": "code",
      "source": [
        "def modelo(n):\n",
        "    lista=[]\n",
        "    for i in range(n):\n",
        "        s = simulador(500)\n",
        "        lista.append(np.mean(s))\n",
        "    return lista"
      ],
      "metadata": {
        "id": "ROIgJ2cdSwgF"
      },
      "execution_count": 23,
      "outputs": []
    },
    {
      "cell_type": "code",
      "source": [
        "Y=modelo(120)"
      ],
      "metadata": {
        "id": "C5OUcmTkS838"
      },
      "execution_count": 24,
      "outputs": []
    },
    {
      "cell_type": "code",
      "source": [
        "plt.hist(Y)\n",
        "plt.show()"
      ],
      "metadata": {
        "colab": {
          "base_uri": "https://localhost:8080/",
          "height": 430
        },
        "id": "y9qdoindTBtB",
        "outputId": "912698c9-d22a-4c86-bf69-d5e9f601c49f"
      },
      "execution_count": 25,
      "outputs": [
        {
          "output_type": "display_data",
          "data": {
            "text/plain": [
              "<Figure size 640x480 with 1 Axes>"
            ],
            "image/png": "[encoded data removed]"
          },
          "metadata": {}
        }
      ]
    },
    {
      "cell_type": "markdown",
      "source": [
        "**Paso 7.** Hallamos el intervalo de confianza del 95%\n"
      ],
      "metadata": {
        "id": "2Hvq1Dq5TD4y"
      }
    },
    {
      "cell_type": "markdown",
      "source": [
        "$$\\bar{x}-z_{\\alpha/2} \\cdot \\frac{s}{\\sqrt{n}} < \\mu < \\bar{x}+z_{\\alpha/2}\\cdot \\frac{s}{\\sqrt{n}}$$"
      ],
      "metadata": {
        "id": "ntjoFHUvTJT9"
      }
    },
    {
      "cell_type": "code",
      "source": [
        "np.mean(Y)"
      ],
      "metadata": {
        "colab": {
          "base_uri": "https://localhost:8080/"
        },
        "id": "ougufubqTMQ7",
        "outputId": "087baec9-1de5-4786-a17e-45e434c1a027"
      },
      "execution_count": 26,
      "outputs": [
        {
          "output_type": "execute_result",
          "data": {
            "text/plain": [
              "0.14579357422704586"
            ]
          },
          "metadata": {},
          "execution_count": 26
        }
      ]
    },
    {
      "cell_type": "code",
      "source": [
        "np.mean(Y) - 1.96*np.std(Y)/np.sqrt(50), np.mean(Y) + 1.96*np.std(Y)/np.sqrt(50)"
      ],
      "metadata": {
        "colab": {
          "base_uri": "https://localhost:8080/"
        },
        "id": "szBxMLoATRT0",
        "outputId": "1af93bf9-42c0-4121-dd31-0bc848fba20b"
      },
      "execution_count": 27,
      "outputs": [
        {
          "output_type": "execute_result",
          "data": {
            "text/plain": [
              "(0.13938284144016255, 0.15220430701392917)"
            ]
          },
          "metadata": {},
          "execution_count": 27
        }
      ]
    },
    {
      "cell_type": "markdown",
      "source": [
        "*b) Probabilidad de que en un mes haya más de 5 accidentes.*"
      ],
      "metadata": {
        "id": "a5zAbwYS2UPV"
      }
    },
    {
      "cell_type": "markdown",
      "source": [
        "**Paso 1.** Identifique las variables \n",
        "\n",
        "Tenemos una: $x_1$ ."
      ],
      "metadata": {
        "id": "Jx2p7BB72a58"
      }
    },
    {
      "cell_type": "markdown",
      "source": [
        "**Paso 2 y 3.** Determine la distribución de probabilidad y modele las variables aleatorias \n",
        "\n",
        "En el planteamiento ya se especifica que $x_1 \\sim PS(8)$."
      ],
      "metadata": {
        "id": "8DsqyfGl2fVq"
      }
    },
    {
      "cell_type": "markdown",
      "source": [
        "**Paso 4 y 5** Defina el modelo del sistema y los objetivos de la simulación. Diseñe el experimento \n"
      ],
      "metadata": {
        "id": "GgMkq6Kv2m3t"
      }
    },
    {
      "cell_type": "code",
      "source": [
        "import numpy as np\n",
        "import random\n",
        "from scipy.stats import poisson\n"
      ],
      "metadata": {
        "id": "_QT1F5ht2mhb"
      },
      "execution_count": 28,
      "outputs": []
    },
    {
      "cell_type": "code",
      "source": [
        "def accidentes():\n",
        "  acc=np.random.poisson(8)\n",
        "  return acc"
      ],
      "metadata": {
        "id": "kU3Xbhi84mLP"
      },
      "execution_count": 29,
      "outputs": []
    },
    {
      "cell_type": "code",
      "source": [
        "def simulador(n):\n",
        "  w=0\n",
        "  proba=[]\n",
        "  for i in range(n):\n",
        "    if accidentes()>5:\n",
        "      w+=1\n",
        "      proba.append(w/(i+1))\n",
        "  return proba"
      ],
      "metadata": {
        "id": "ozDLbcMF2_Tb"
      },
      "execution_count": 35,
      "outputs": []
    },
    {
      "cell_type": "code",
      "source": [
        "x=simulador(100)"
      ],
      "metadata": {
        "id": "uZPjKPR63JeX"
      },
      "execution_count": 36,
      "outputs": []
    },
    {
      "cell_type": "code",
      "source": [
        "plt.plot(x)"
      ],
      "metadata": {
        "colab": {
          "base_uri": "https://localhost:8080/",
          "height": 447
        },
        "id": "RlXtLkhrTvLF",
        "outputId": "56d93813-ba64-4199-986c-659bbe8539fb"
      },
      "execution_count": 37,
      "outputs": [
        {
          "output_type": "execute_result",
          "data": {
            "text/plain": [
              "[<matplotlib.lines.Line2D at 0x7f274ac28610>]"
            ]
          },
          "metadata": {},
          "execution_count": 37
        },
        {
          "output_type": "display_data",
          "data": {
            "text/plain": [
              "<Figure size 640x480 with 1 Axes>"
            ],
            "image/png": "[encoded data removed]"
          },
          "metadata": {}
        }
      ]
    },
    {
      "cell_type": "markdown",
      "source": [
        "**Paso 6.** Repita el experimento $n$ veces "
      ],
      "metadata": {
        "id": "5ZINJRWSTzJF"
      }
    },
    {
      "cell_type": "code",
      "source": [
        "def modelo(n):\n",
        "    lista=[]\n",
        "    for i in range(n):\n",
        "        s = simulador(500)\n",
        "        lista.append(np.mean(s))\n",
        "    return lista"
      ],
      "metadata": {
        "id": "BUGCA7vwT1yB"
      },
      "execution_count": 38,
      "outputs": []
    },
    {
      "cell_type": "code",
      "source": [
        "Y=modelo(120)"
      ],
      "metadata": {
        "id": "wWQYJndYT3Kl"
      },
      "execution_count": 39,
      "outputs": []
    },
    {
      "cell_type": "code",
      "source": [
        "plt.hist(Y)\n",
        "plt.show()"
      ],
      "metadata": {
        "colab": {
          "base_uri": "https://localhost:8080/",
          "height": 430
        },
        "id": "Cz3IFUHCT5IF",
        "outputId": "e9fa7ae9-7a7e-47ab-faa0-454d9286771b"
      },
      "execution_count": 40,
      "outputs": [
        {
          "output_type": "display_data",
          "data": {
            "text/plain": [
              "<Figure size 640x480 with 1 Axes>"
            ],
            "image/png": "[encoded data removed]"
          },
          "metadata": {}
        }
      ]
    },
    {
      "cell_type": "markdown",
      "source": [
        "**Paso 7.** Hallamos el intervalo de confianza del 95%"
      ],
      "metadata": {
        "id": "EfolYhOuURxk"
      }
    },
    {
      "cell_type": "markdown",
      "source": [
        "$$\\bar{x}-z_{\\alpha/2} \\cdot \\frac{s}{\\sqrt{n}} < \\mu < \\bar{x}+z_{\\alpha/2}\\cdot \\frac{s}{\\sqrt{n}}$$"
      ],
      "metadata": {
        "id": "gdXPcg4VUWn0"
      }
    },
    {
      "cell_type": "code",
      "source": [
        "np.mean(Y)"
      ],
      "metadata": {
        "colab": {
          "base_uri": "https://localhost:8080/"
        },
        "id": "lF0tojjHUZoY",
        "outputId": "d25f648a-1219-4d70-a3c6-afb44dd53f1f"
      },
      "execution_count": 41,
      "outputs": [
        {
          "output_type": "execute_result",
          "data": {
            "text/plain": [
              "0.8151347794307059"
            ]
          },
          "metadata": {},
          "execution_count": 41
        }
      ]
    },
    {
      "cell_type": "code",
      "source": [
        "np.mean(Y) - 1.96*np.std(Y)/np.sqrt(50), np.mean(Y) + 1.96*np.std(Y)/np.sqrt(50)"
      ],
      "metadata": {
        "colab": {
          "base_uri": "https://localhost:8080/"
        },
        "id": "6cTxL2gsUbcs",
        "outputId": "a025349d-d552-461d-efdb-44c4f26f9ebc"
      },
      "execution_count": 42,
      "outputs": [
        {
          "output_type": "execute_result",
          "data": {
            "text/plain": [
              "(0.8080473704602548, 0.822222188401157)"
            ]
          },
          "metadata": {},
          "execution_count": 42
        }
      ]
    }
  ]
}