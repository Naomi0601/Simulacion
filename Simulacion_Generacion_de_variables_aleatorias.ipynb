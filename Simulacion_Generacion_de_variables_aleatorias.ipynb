{
  "cells": [
    {
      "cell_type": "markdown",
      "metadata": {
        "id": "view-in-github",
        "colab_type": "text"
      },
      "source": [
        "<a href=\"https://colab.research.google.com/github/Naomi0601/Simulacion/blob/main/Simulacion_Generacion_de_variables_aleatorias.ipynb\" target=\"_parent\"><img src=\"https://colab.research.google.com/assets/colab-badge.svg\" alt=\"Open In Colab\"/></a>"
      ]
    },
    {
      "cell_type": "markdown",
      "id": "15b71444",
      "metadata": {
        "id": "15b71444"
      },
      "source": [
        "# **Generación de variable aleatorias**"
      ]
    },
    {
      "cell_type": "code",
      "execution_count": null,
      "id": "d0333f65",
      "metadata": {
        "id": "d0333f65"
      },
      "outputs": [],
      "source": [
        "import matplotlib.pyplot as plt\n",
        "import numpy as np\n",
        "import random"
      ]
    },
    {
      "cell_type": "markdown",
      "id": "45fe6983",
      "metadata": {
        "id": "45fe6983"
      },
      "source": [
        "Generamos una lista vacía para guardar la sucesión de números aleatorios a generar."
      ]
    },
    {
      "cell_type": "code",
      "execution_count": null,
      "id": "802546b0",
      "metadata": {
        "id": "802546b0"
      },
      "outputs": [],
      "source": [
        "Lista=[]"
      ]
    },
    {
      "cell_type": "markdown",
      "id": "1c6da234",
      "metadata": {
        "id": "1c6da234"
      },
      "source": [
        "La función randint() devuelve valores enteros en un intervalo dado."
      ]
    },
    {
      "cell_type": "code",
      "execution_count": null,
      "id": "a13381d4",
      "metadata": {
        "id": "a13381d4"
      },
      "outputs": [],
      "source": [
        "for i in range(10):        \n",
        "    Lista.append(random.randint(0, 10)) "
      ]
    },
    {
      "cell_type": "markdown",
      "id": "13f98a10",
      "metadata": {
        "id": "13f98a10"
      },
      "source": [
        "Podemos construir el histograma y comparar con los valores esperados de la función de distribución de probabilidad, si sabemos que $x_i \\sim U(0,10)$ "
      ]
    },
    {
      "cell_type": "code",
      "execution_count": null,
      "id": "aacb6d44",
      "metadata": {
        "id": "aacb6d44",
        "colab": {
          "base_uri": "https://localhost:8080/",
          "height": 472
        },
        "outputId": "05758a1b-b7b0-4a13-c860-75f7d7283e06"
      },
      "outputs": [
        {
          "output_type": "display_data",
          "data": {
            "text/plain": [
              "<Figure size 640x480 with 1 Axes>"
            ],
            "image/png": "[encoded data removed]"
          },
          "metadata": {}
        }
      ],
      "source": [
        "plt.hist(Lista, bins = 10, color = \"blue\", rwidth=0.9)\n",
        "plt.title(\"Ejemplo Histograma\")\n",
        "plt.xlabel(\"Números Aleatorios\")\n",
        "plt.ylabel(\"Frecuencia\")\n",
        "plt.show()"
      ]
    },
    {
      "cell_type": "markdown",
      "id": "5f23c61d",
      "metadata": {
        "id": "5f23c61d"
      },
      "source": [
        "Y podemos calcular la media, la varianza y la desviación estándar para comprobar:"
      ]
    },
    {
      "cell_type": "code",
      "execution_count": null,
      "id": "ecefa912",
      "metadata": {
        "id": "ecefa912",
        "colab": {
          "base_uri": "https://localhost:8080/"
        },
        "outputId": "976e457d-e678-4ac9-fd7b-1fe2d6af8611"
      },
      "outputs": [
        {
          "output_type": "execute_result",
          "data": {
            "text/plain": [
              "6.5"
            ]
          },
          "metadata": {},
          "execution_count": 5
        }
      ],
      "source": [
        "np.mean(Lista)"
      ]
    },
    {
      "cell_type": "code",
      "execution_count": null,
      "id": "464e1f53",
      "metadata": {
        "id": "464e1f53",
        "colab": {
          "base_uri": "https://localhost:8080/"
        },
        "outputId": "d998bc42-c0c4-4ea0-bc80-a18431bf3474"
      },
      "outputs": [
        {
          "output_type": "execute_result",
          "data": {
            "text/plain": [
              "7.45"
            ]
          },
          "metadata": {},
          "execution_count": 6
        }
      ],
      "source": [
        "np.var(Lista)"
      ]
    },
    {
      "cell_type": "code",
      "execution_count": null,
      "id": "30ce2169",
      "metadata": {
        "id": "30ce2169",
        "colab": {
          "base_uri": "https://localhost:8080/"
        },
        "outputId": "8547b7eb-7435-4a33-f4a8-a6e301d4b441"
      },
      "outputs": [
        {
          "output_type": "execute_result",
          "data": {
            "text/plain": [
              "2.7294688127912363"
            ]
          },
          "metadata": {},
          "execution_count": 7
        }
      ],
      "source": [
        "np.std(Lista)"
      ]
    },
    {
      "cell_type": "code",
      "execution_count": null,
      "id": "ea088c1e",
      "metadata": {
        "id": "ea088c1e"
      },
      "outputs": [],
      "source": []
    },
    {
      "cell_type": "markdown",
      "id": "4ba67944",
      "metadata": {
        "id": "4ba67944"
      },
      "source": [
        "## ¿Cómo podemos generar una lista de números aleatorios que sigan una distribución normal?"
      ]
    },
    {
      "cell_type": "markdown",
      "id": "855f2e6a",
      "metadata": {
        "id": "855f2e6a"
      },
      "source": [
        "Podemos utilizar el Teorema Centra del Límite: Dadas las variables $T_1, T_2,..., T_n$ identicamente distribuidas e independientes, se tiene que:\n",
        "\n",
        "$$\\frac{\\bar{T}-\\mu_T}{\\frac{\\sigma_T}{\\sqrt{n}}}=\\frac{\\sqrt{n}(\\frac{1}{n}\\sum_{i=1}^n T_i - E(T_i)) }{\\sqrt{Var(T_i)}} \\sim N(0,1)$$\n",
        "\n",
        "para $n$ suficientemente grande."
      ]
    },
    {
      "cell_type": "markdown",
      "id": "b5f104e6",
      "metadata": {
        "id": "b5f104e6"
      },
      "source": [
        "**Ejercicio:** Genere números aleatorios distribuidos uniformenete entre 0 y 1 y use la fórmula anterior para generar números distribuidos de manera normal en el mismo intervalo. Elabore el histograma correspondiente. "
      ]
    },
    {
      "cell_type": "code",
      "source": [
        "import numpy as np\n",
        "import random as rnd\n",
        "import matplotlib.pyplot as plt"
      ],
      "metadata": {
        "id": "lGvKljJ_19r1"
      },
      "id": "lGvKljJ_19r1",
      "execution_count": 2,
      "outputs": []
    },
    {
      "cell_type": "code",
      "execution_count": 4,
      "id": "ed81a320",
      "metadata": {
        "id": "ed81a320"
      },
      "outputs": [],
      "source": [
        "def doce_u():\n",
        "  a=0\n",
        "  for i in range(12):\n",
        "    u_i=rnd.random()\n",
        "    a+=u_i\n",
        "  return(a-6.0)"
      ]
    },
    {
      "cell_type": "code",
      "source": [
        "lista=[]\n",
        "for i in range (100000):\n",
        "  lista.append(doce_u())"
      ],
      "metadata": {
        "id": "Lti4J3CO3jxH"
      },
      "id": "Lti4J3CO3jxH",
      "execution_count": 5,
      "outputs": []
    },
    {
      "cell_type": "code",
      "source": [
        "plt.hist(lista,bins=500,color=\"green\",rwidth=0.9)\n",
        "plt.show()"
      ],
      "metadata": {
        "colab": {
          "base_uri": "https://localhost:8080/",
          "height": 430
        },
        "id": "kwAJmy-Z3xAP",
        "outputId": "8e38ddaf-94a8-46b6-9591-d4018ec9f909"
      },
      "id": "kwAJmy-Z3xAP",
      "execution_count": 6,
      "outputs": [
        {
          "output_type": "display_data",
          "data": {
            "text/plain": [
              "<Figure size 640x480 with 1 Axes>"
            ],
            "image/png": "[encoded data removed]"
          },
          "metadata": {}
        }
      ]
    },
    {
      "cell_type": "code",
      "source": [
        "np.mean(lista)"
      ],
      "metadata": {
        "colab": {
          "base_uri": "https://localhost:8080/"
        },
        "id": "JY0iX8EH4hGs",
        "outputId": "29df56e8-b3d8-4c9d-f483-0ae275fb9d39"
      },
      "id": "JY0iX8EH4hGs",
      "execution_count": 7,
      "outputs": [
        {
          "output_type": "execute_result",
          "data": {
            "text/plain": [
              "-0.00438693361202201"
            ]
          },
          "metadata": {},
          "execution_count": 7
        }
      ]
    },
    {
      "cell_type": "code",
      "source": [
        "np.var(lista)"
      ],
      "metadata": {
        "id": "nqxbu8r74g1n",
        "colab": {
          "base_uri": "https://localhost:8080/"
        },
        "outputId": "760efa46-d8a4-4b47-c2bd-96e7d8d4f9b4"
      },
      "id": "nqxbu8r74g1n",
      "execution_count": 8,
      "outputs": [
        {
          "output_type": "execute_result",
          "data": {
            "text/plain": [
              "1.00008282060843"
            ]
          },
          "metadata": {},
          "execution_count": 8
        }
      ]
    },
    {
      "cell_type": "code",
      "source": [
        "np.std(lista)"
      ],
      "metadata": {
        "id": "Qri8x8H24rbn",
        "colab": {
          "base_uri": "https://localhost:8080/"
        },
        "outputId": "fc9a7d8b-40b2-4392-ae41-55fefd772e1f"
      },
      "id": "Qri8x8H24rbn",
      "execution_count": 9,
      "outputs": [
        {
          "output_type": "execute_result",
          "data": {
            "text/plain": [
              "1.000041409446844"
            ]
          },
          "metadata": {},
          "execution_count": 9
        }
      ]
    },
    {
      "cell_type": "markdown",
      "source": [
        "otra forma de resolverlo"
      ],
      "metadata": {
        "id": "qzqIzfOZ4xkT"
      },
      "id": "qzqIzfOZ4xkT"
    },
    {
      "cell_type": "code",
      "source": [
        "def aprox_u():\n",
        "  u_i=rnd.random()\n",
        "  x=((u_i)**0.135)-(1-u_i)**0.135\n",
        "  return(x/0.1975)"
      ],
      "metadata": {
        "id": "42lTiZsl4whw"
      },
      "id": "42lTiZsl4whw",
      "execution_count": 10,
      "outputs": []
    },
    {
      "cell_type": "code",
      "source": [
        "lista2=[]"
      ],
      "metadata": {
        "id": "cG6BVbVF4-K5"
      },
      "id": "cG6BVbVF4-K5",
      "execution_count": 11,
      "outputs": []
    },
    {
      "cell_type": "code",
      "source": [
        "for i in range(10000):\n",
        "  lista2.append(aprox_u())"
      ],
      "metadata": {
        "id": "rtX9zbDC5Cjn"
      },
      "id": "rtX9zbDC5Cjn",
      "execution_count": 12,
      "outputs": []
    },
    {
      "cell_type": "code",
      "source": [
        "plt.hist(lista2,bins=500,color=\"red\",rwidth=0.9)\n",
        "plt.show()"
      ],
      "metadata": {
        "id": "SKk2YCtM5Hk7",
        "colab": {
          "base_uri": "https://localhost:8080/",
          "height": 430
        },
        "outputId": "d4ecbcb7-5da9-4f6f-c562-eecb9679bab0"
      },
      "id": "SKk2YCtM5Hk7",
      "execution_count": 13,
      "outputs": [
        {
          "output_type": "display_data",
          "data": {
            "text/plain": [
              "<Figure size 640x480 with 1 Axes>"
            ],
            "image/png": "[encoded data removed]"
          },
          "metadata": {}
        }
      ]
    },
    {
      "cell_type": "code",
      "source": [
        "np.mean(lista2)"
      ],
      "metadata": {
        "id": "adR-oY8W5MxQ",
        "colab": {
          "base_uri": "https://localhost:8080/"
        },
        "outputId": "2931f985-8ff4-467e-f32a-0ad1e7ceb652"
      },
      "id": "adR-oY8W5MxQ",
      "execution_count": 14,
      "outputs": [
        {
          "output_type": "execute_result",
          "data": {
            "text/plain": [
              "-0.0030515849141722336"
            ]
          },
          "metadata": {},
          "execution_count": 14
        }
      ]
    },
    {
      "cell_type": "code",
      "source": [
        "np.var(lista2)"
      ],
      "metadata": {
        "id": "WufpAsfb5NzZ",
        "colab": {
          "base_uri": "https://localhost:8080/"
        },
        "outputId": "7b6b061e-00d3-475b-ffd3-5be1bbd2ef35"
      },
      "id": "WufpAsfb5NzZ",
      "execution_count": 15,
      "outputs": [
        {
          "output_type": "execute_result",
          "data": {
            "text/plain": [
              "1.015999262586857"
            ]
          },
          "metadata": {},
          "execution_count": 15
        }
      ]
    },
    {
      "cell_type": "code",
      "source": [
        "np.std(lista2)"
      ],
      "metadata": {
        "id": "1j4ACty55OrY",
        "colab": {
          "base_uri": "https://localhost:8080/"
        },
        "outputId": "44ad01ed-5b3f-471c-e739-b47b2c3fa91f"
      },
      "id": "1j4ACty55OrY",
      "execution_count": 16,
      "outputs": [
        {
          "output_type": "execute_result",
          "data": {
            "text/plain": [
              "1.0079678876764164"
            ]
          },
          "metadata": {},
          "execution_count": 16
        }
      ]
    }
  ],
  "metadata": {
    "kernelspec": {
      "display_name": "Python 3 (ipykernel)",
      "language": "python",
      "name": "python3"
    },
    "language_info": {
      "codemirror_mode": {
        "name": "ipython",
        "version": 3
      },
      "file_extension": ".py",
      "mimetype": "text/x-python",
      "name": "python",
      "nbconvert_exporter": "python",
      "pygments_lexer": "ipython3",
      "version": "3.7.3"
    },
    "colab": {
      "provenance": [],
      "include_colab_link": true
    }
  },
  "nbformat": 4,
  "nbformat_minor": 5
}